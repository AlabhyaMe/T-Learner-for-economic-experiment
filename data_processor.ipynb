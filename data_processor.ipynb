{
 "cells": [
  {
   "cell_type": "code",
   "execution_count": null,
   "metadata": {},
   "outputs": [],
   "source": [
    "import polars as pl\n",
    "import numpy as np\n",
    "\n",
    "def process_dataframe(df: pl.DataFrame) -> pl.DataFrame:\n",
    "    return df.with_columns(\n",
    "        pl.when(pl.col(\"treatment\") == 1)\n",
    "        .then(\n",
    "            pl.when(pl.col(\"employment_status\") == 1)\n",
    "            .then(\n",
    "                (np.random.normal(0.75, 0.15) * pl.col(\"employment_income\") + \n",
    "                 np.random.normal(0.25, 0.005) * pl.col(\"non_employment_income\")) +\n",
    "                pl.when(pl.col(\"is_male\") == 0)  # Female\n",
    "                .then(\n",
    "                    pl.when(pl.col(\"race\") == \"White\")\n",
    "                    .then(300 + pl.col(\"age\") * 8)\n",
    "                    .when(pl.col(\"race\") == \"Asian\")\n",
    "                    .then(200 + pl.col(\"age\") * 8)\n",
    "                    .otherwise(70 + pl.col(\"age\") * 5)\n",
    "                )\n",
    "                .otherwise(  # Male\n",
    "                    pl.when(pl.col(\"race\") == \"Black\")\n",
    "                    .then(200 + pl.col(\"age\") * 9)\n",
    "                    .when(pl.col(\"race\") == \"Hispanic\")\n",
    "                    .then(200 + pl.col(\"age\") * 4)\n",
    "                    .otherwise(50 + pl.col(\"age\") * 3)\n",
    "                )\n",
    "            )\n",
    "            .otherwise(\n",
    "                np.random.normal(3000, 300) + \n",
    "                np.random.normal(0.8, 0.1) * pl.col(\"non_employment_income\")\n",
    "            )\n",
    "        )\n",
    "        .otherwise(\n",
    "            pl.when(pl.col(\"employment_status\") == 1)\n",
    "            .then(\n",
    "                np.random.normal(0.7, 0.05) * pl.col(\"employment_income\") + \n",
    "                np.random.normal(0.2, 0.05) * pl.col(\"non_employment_income\")\n",
    "            )\n",
    "            .otherwise(\n",
    "                np.random.normal(2500, 200) + \n",
    "                np.random.normal(0.8, 0.2) * pl.col(\"non_employment_income\")\n",
    "            )\n",
    "        )\n",
    "        .round(2)\n",
    "        .alias(\"expenditure\")\n",
    "    )"
   ]
  }
 ],
 "metadata": {
  "kernelspec": {
   "display_name": "base",
   "language": "python",
   "name": "python3"
  },
  "language_info": {
   "codemirror_mode": {
    "name": "ipython",
    "version": 3
   },
   "file_extension": ".py",
   "mimetype": "text/x-python",
   "name": "python",
   "nbconvert_exporter": "python",
   "pygments_lexer": "ipython3",
   "version": "3.11.7"
  }
 },
 "nbformat": 4,
 "nbformat_minor": 2
}
