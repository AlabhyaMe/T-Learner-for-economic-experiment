{
 "cells": [
  {
   "cell_type": "markdown",
   "metadata": {},
   "source": [
    "# A Case for using Machine Learning Models to Improve Causal Inference in Economics"
   ]
  },
  {
   "cell_type": "markdown",
   "metadata": {},
   "source": [
    "In this notebook, I will provide a detailed analysis of a randomized controlled experiment and evaluate its impact. Additionally, I will explore meta-learners, with a primary focus on the T-Learner model.\n",
    "\n",
    "Randomized controlled trials (RCTs) are widely regarded as the gold standard for causal impact evaluation. However, they are primarily limited to estimating average treatment effects (ATE). In cases where scaling up a program involves substantial costs, it is often more valuable to estimate conditional treatment effects (CTE), which help identify the subpopulations that benefit the most from the program.\n",
    "\n",
    "This dataset enables a two-part analysis. First, I will assess the effectiveness of the program using the randomized controlled experiment. Then, leveraging the rich set of descriptive features available, I will build a predictive model. Specifically, I will implement T-learners to perform causal predictive analytics, allowing for a more granular understanding of the treatment effect across different subgroups.\n",
    "With the results from the RCT and T-Learners, I will apply these insights to a new dataset to evaluate how the program can be effectively scaled up."
   ]
  },
  {
   "cell_type": "markdown",
   "metadata": {},
   "source": [
    "#### Import Libraries"
   ]
  },
  {
   "cell_type": "code",
   "execution_count": 1,
   "metadata": {},
   "outputs": [],
   "source": [
    "import polars as pl\n",
    "from scipy.stats import ttest_ind\n",
    "import numpy as np\n",
    "from sklearn.metrics import mean_squared_error\n",
    "import matplotlib.pyplot as plt"
   ]
  },
  {
   "cell_type": "markdown",
   "metadata": {},
   "source": [
    "#### Read the experiment dataset"
   ]
  },
  {
   "cell_type": "code",
   "execution_count": 2,
   "metadata": {},
   "outputs": [
    {
     "data": {
      "text/html": [
       "<div><style>\n",
       ".dataframe > thead > tr,\n",
       ".dataframe > tbody > tr {\n",
       "  text-align: right;\n",
       "  white-space: pre-wrap;\n",
       "}\n",
       "</style>\n",
       "<small>shape: (5, 9)</small><table border=\"1\" class=\"dataframe\"><thead><tr><th>age</th><th>is_male</th><th>race</th><th>ownes_house</th><th>employment_status</th><th>employment_income</th><th>non_employment_income</th><th>treatment</th><th>expenditure</th></tr><tr><td>i64</td><td>i64</td><td>str</td><td>i64</td><td>i64</td><td>f64</td><td>f64</td><td>i64</td><td>f64</td></tr></thead><tbody><tr><td>32</td><td>0</td><td>&quot;Black&quot;</td><td>0</td><td>1</td><td>104995.2</td><td>0.0</td><td>1</td><td>92102.73</td></tr><tr><td>69</td><td>1</td><td>&quot;Asian&quot;</td><td>1</td><td>1</td><td>190858.9</td><td>12000.0</td><td>0</td><td>139499.88</td></tr><tr><td>18</td><td>0</td><td>&quot;Hispanic&quot;</td><td>0</td><td>0</td><td>0.0</td><td>0.0</td><td>0</td><td>2332.43</td></tr><tr><td>44</td><td>1</td><td>&quot;White&quot;</td><td>0</td><td>1</td><td>174413.2</td><td>0.0</td><td>0</td><td>112242.89</td></tr><tr><td>23</td><td>0</td><td>&quot;White&quot;</td><td>0</td><td>0</td><td>0.0</td><td>12000.0</td><td>1</td><td>13224.75</td></tr></tbody></table></div>"
      ],
      "text/plain": [
       "shape: (5, 9)\n",
       "┌─────┬─────────┬──────────┬─────────────┬───┬─────────────┬─────────────┬───────────┬─────────────┐\n",
       "│ age ┆ is_male ┆ race     ┆ ownes_house ┆ … ┆ employment_ ┆ non_employm ┆ treatment ┆ expenditure │\n",
       "│ --- ┆ ---     ┆ ---      ┆ ---         ┆   ┆ income      ┆ ent_income  ┆ ---       ┆ ---         │\n",
       "│ i64 ┆ i64     ┆ str      ┆ i64         ┆   ┆ ---         ┆ ---         ┆ i64       ┆ f64         │\n",
       "│     ┆         ┆          ┆             ┆   ┆ f64         ┆ f64         ┆           ┆             │\n",
       "╞═════╪═════════╪══════════╪═════════════╪═══╪═════════════╪═════════════╪═══════════╪═════════════╡\n",
       "│ 32  ┆ 0       ┆ Black    ┆ 0           ┆ … ┆ 104995.2    ┆ 0.0         ┆ 1         ┆ 92102.73    │\n",
       "│ 69  ┆ 1       ┆ Asian    ┆ 1           ┆ … ┆ 190858.9    ┆ 12000.0     ┆ 0         ┆ 139499.88   │\n",
       "│ 18  ┆ 0       ┆ Hispanic ┆ 0           ┆ … ┆ 0.0         ┆ 0.0         ┆ 0         ┆ 2332.43     │\n",
       "│ 44  ┆ 1       ┆ White    ┆ 0           ┆ … ┆ 174413.2    ┆ 0.0         ┆ 0         ┆ 112242.89   │\n",
       "│ 23  ┆ 0       ┆ White    ┆ 0           ┆ … ┆ 0.0         ┆ 12000.0     ┆ 1         ┆ 13224.75    │\n",
       "└─────┴─────────┴──────────┴─────────────┴───┴─────────────┴─────────────┴───────────┴─────────────┘"
      ]
     },
     "execution_count": 2,
     "metadata": {},
     "output_type": "execute_result"
    }
   ],
   "source": [
    "df = pl.read_csv(\"dataset.csv\")\n",
    "df.head(5)"
   ]
  },
  {
   "cell_type": "markdown",
   "metadata": {},
   "source": [
    "This dataset contains information about a legislation aimed at providing accidental and medical coverage to individuals in order to increase aggregate expenditure. The underlying rationale behind the experiment is that individuals with access to medical insurance are more likely to spend money without the concern of saving for unexpected emergencies. To test this hypothesis, the government launched a pilot program through a randomized controlled trial (RCT).\n",
    "\n",
    "The dataset includes information from this RCT, designed to assess the impact of accidental and medical insurance on employment outcomes. It contains various demographic and background characteristics, such as age, education level, and prior work experience, along with treatment assignment (indicating whether an individual received medical insurance) and the outcome variable (employment status after the program).\n",
    "\n",
    "20% of the population of this experiment are treated."
   ]
  },
  {
   "cell_type": "markdown",
   "metadata": {},
   "source": [
    "## Result of Randomized Controlled Trials (RCTs) in Expenditures "
   ]
  },
  {
   "cell_type": "markdown",
   "metadata": {},
   "source": [
    "The experiment is designed as a robust randomized controlled trial. Now, let’s examine the average treatment effect on total expenditure."
   ]
  },
  {
   "cell_type": "code",
   "execution_count": 3,
   "metadata": {},
   "outputs": [],
   "source": [
    "treated = (df\n",
    ".filter(pl.col('treatment') == 1)\n",
    ".select('expenditure').to_numpy()\n",
    ")\n",
    "\n",
    "controlled = (df\n",
    ".filter(pl.col('treatment') == 0)\n",
    ".select('expenditure').to_numpy()\n",
    ")\n"
   ]
  },
  {
   "cell_type": "markdown",
   "metadata": {},
   "source": [
    "#### Function to run  t-test and output t-test values"
   ]
  },
  {
   "cell_type": "code",
   "execution_count": 4,
   "metadata": {},
   "outputs": [],
   "source": [
    "def p_test(treated, controlled):\n",
    "    t_stat, p_val = ttest_ind(treated, controlled)\n",
    "    # Store results in a dictionary\n",
    "    results = {\n",
    "        \"Mean Expenditure (Treated)\": treated.mean(),\n",
    "        \"Mean Expenditure (Controlled)\": controlled.mean(),\n",
    "        \"T-statistic\": t_stat[0],\n",
    "        \"P-value\": p_val[0]\n",
    "    }\n",
    "\n",
    "    # Print readable output\n",
    "    print(\"T-Test Results:\")\n",
    "    for key, value in results.items():\n",
    "        print(f\"{key}: {value:.4f}\")"
   ]
  },
  {
   "cell_type": "code",
   "execution_count": 5,
   "metadata": {},
   "outputs": [
    {
     "name": "stdout",
     "output_type": "stream",
     "text": [
      "T-Test Results:\n",
      "Mean Expenditure (Treated): 55040.9798\n",
      "Mean Expenditure (Controlled): 47944.4373\n",
      "T-statistic: 14.3681\n",
      "P-value: 0.0000\n"
     ]
    }
   ],
   "source": [
    "p_test(treated,controlled)"
   ]
  },
  {
   "cell_type": "markdown",
   "metadata": {},
   "source": [
    "The mean expenditure for the treatment group (those who received medical insurance) is 55040.97, while the mean for the control group (those without insurance) is 47,944.44. The difference between the two groups is **7106**. With a t-statistic of **14.3681** and a p-value of less than **0.001**, this difference is statistically significant. \n",
    "\n",
    "These findings suggest that having accidental and medical insurance leads to increased spending. This implies that the security of a financial safety net encourages individuals to spend more, potentially stimulating economic activity and generating a multiplier effect throughout the economy."
   ]
  },
  {
   "cell_type": "markdown",
   "metadata": {},
   "source": [
    "### Factoring for different variable"
   ]
  },
  {
   "cell_type": "markdown",
   "metadata": {},
   "source": [
    "#### Male"
   ]
  },
  {
   "cell_type": "markdown",
   "metadata": {},
   "source": [
    "Now, I will examine whether there is variation within subgroups. The treatment effect may be influenced by certain factors, which we can identify through subgroup analysis."
   ]
  },
  {
   "cell_type": "code",
   "execution_count": 6,
   "metadata": {},
   "outputs": [],
   "source": [
    "#Treatment and Control Impact by Gender\n",
    "treated_male = df.filter(\n",
    "    (pl.col('treatment') ==1) & (pl.col('is_male') == 1)\n",
    ").select(\"expenditure\").to_numpy()\n",
    "\n",
    "controlled_male = df.filter(\n",
    "    (pl.col('treatment')==0) & (pl.col('is_male')==1)\n",
    ").select(\"expenditure\").to_numpy()\n"
   ]
  },
  {
   "cell_type": "code",
   "execution_count": 7,
   "metadata": {},
   "outputs": [
    {
     "name": "stdout",
     "output_type": "stream",
     "text": [
      "T-Test Results:\n",
      "Mean Expenditure (Treated): 55091.0328\n",
      "Mean Expenditure (Controlled): 48511.5612\n",
      "T-statistic: 9.7950\n",
      "P-value: 0.0000\n"
     ]
    }
   ],
   "source": [
    "p_test(treated_male, controlled_male)"
   ]
  },
  {
   "cell_type": "markdown",
   "metadata": {},
   "source": [
    "#### Female"
   ]
  },
  {
   "cell_type": "code",
   "execution_count": 8,
   "metadata": {},
   "outputs": [],
   "source": [
    "#Treatment and Control Impact by Gender\n",
    "treated_female = df.filter(\n",
    "    (pl.col('treatment') ==1) & (pl.col('is_male') == 0)\n",
    ").select(\"expenditure\").to_numpy()\n",
    "\n",
    "controlled_female = df.filter(\n",
    "    (pl.col('treatment')==0) & (pl.col('is_male')==0)\n",
    ").select(\"expenditure\").to_numpy()"
   ]
  },
  {
   "cell_type": "code",
   "execution_count": 9,
   "metadata": {},
   "outputs": [
    {
     "name": "stdout",
     "output_type": "stream",
     "text": [
      "T-Test Results:\n",
      "Mean Expenditure (Treated): 54980.5565\n",
      "Mean Expenditure (Controlled): 47254.9465\n",
      "T-statistic: 10.6050\n",
      "P-value: 0.0000\n"
     ]
    }
   ],
   "source": [
    "p_test(treated_female, controlled_female)"
   ]
  },
  {
   "cell_type": "markdown",
   "metadata": {},
   "source": [
    "As seen above, both males and females experience a significant increase in expenditure when treated. In the control group, men have a higher mean expenditure than women. While the absolute increase in expenditure is similar for both genders, women show a slightly higher proportional increase compared to their respective control group."
   ]
  },
  {
   "cell_type": "markdown",
   "metadata": {},
   "source": [
    "#### Employment Status"
   ]
  },
  {
   "cell_type": "markdown",
   "metadata": {},
   "source": [
    "#### On the employed"
   ]
  },
  {
   "cell_type": "code",
   "execution_count": 10,
   "metadata": {},
   "outputs": [],
   "source": [
    "treated_employed = df.filter(\n",
    "    (pl.col('treatment')==1) & (pl.col('employment_status')==1)\n",
    ").select(\"expenditure\").to_numpy()\n",
    "\n",
    "controlled_employed = df.filter(\n",
    "    (pl.col('treatment')==0) & (pl.col('employment_status')==1)\n",
    ").select(\"expenditure\").to_numpy()"
   ]
  },
  {
   "cell_type": "code",
   "execution_count": 11,
   "metadata": {},
   "outputs": [
    {
     "name": "stdout",
     "output_type": "stream",
     "text": [
      "T-Test Results:\n",
      "Mean Expenditure (Treated): 88545.3040\n",
      "Mean Expenditure (Controlled): 77207.2134\n",
      "T-statistic: 23.5961\n",
      "P-value: 0.0000\n"
     ]
    }
   ],
   "source": [
    "p_test(treated_employed, controlled_employed)"
   ]
  },
  {
   "cell_type": "markdown",
   "metadata": {},
   "source": [
    "#### On the unemployed"
   ]
  },
  {
   "cell_type": "code",
   "execution_count": 12,
   "metadata": {},
   "outputs": [],
   "source": [
    "treated_unemployed = df.filter(\n",
    "    (pl.col('treatment')==1) & (pl.col('employment_status')==0)\n",
    ").select(\"expenditure\").to_numpy()\n",
    "\n",
    "controlled_unemployed = df.filter(\n",
    "    (pl.col('treatment')==0) & (pl.col('employment_status')==0)\n",
    ").select(\"expenditure\").to_numpy()"
   ]
  },
  {
   "cell_type": "code",
   "execution_count": 13,
   "metadata": {},
   "outputs": [
    {
     "name": "stdout",
     "output_type": "stream",
     "text": [
      "T-Test Results:\n",
      "Mean Expenditure (Treated): 6837.4546\n",
      "Mean Expenditure (Controlled): 6268.7604\n",
      "T-statistic: 7.2956\n",
      "P-value: 0.0000\n"
     ]
    }
   ],
   "source": [
    "p_test(treated_unemployed, controlled_unemployed)"
   ]
  },
  {
   "cell_type": "markdown",
   "metadata": {},
   "source": [
    "Another subgroup of interest is employment status. As expected, employed individuals have higher expenditures than unemployed individuals in both the control and treatment groups. Furthermore, even after receiving treatment, the unemployed do not increase their spending as much as the employed (both absolute and proportion amount). If the goal is to support unemployed individuals to encourage higher spending, this policy is somewhat effective, but it is clear that employed individuals are the bigger beneficiaries."
   ]
  },
  {
   "cell_type": "markdown",
   "metadata": {},
   "source": [
    "#### Having house or not"
   ]
  },
  {
   "cell_type": "code",
   "execution_count": 14,
   "metadata": {},
   "outputs": [],
   "source": [
    "treated_house = df.filter(\n",
    "    (pl.col('treatment')==1) & (pl.col('ownes_house')==1)\n",
    ").select('expenditure').to_numpy()\n",
    "\n",
    "controlled_house = df.filter(\n",
    "    (pl.col('treatment')==0) & (pl.col('ownes_house')==1)\n",
    ").select('expenditure').to_numpy()"
   ]
  },
  {
   "cell_type": "code",
   "execution_count": 15,
   "metadata": {},
   "outputs": [
    {
     "name": "stdout",
     "output_type": "stream",
     "text": [
      "T-Test Results:\n",
      "Mean Expenditure (Treated): 54822.1543\n",
      "Mean Expenditure (Controlled): 47645.9506\n",
      "T-statistic: 7.9444\n",
      "P-value: 0.0000\n"
     ]
    }
   ],
   "source": [
    "p_test(treated_house, controlled_house)"
   ]
  },
  {
   "cell_type": "code",
   "execution_count": 16,
   "metadata": {},
   "outputs": [],
   "source": [
    "treated_rental = df.filter(\n",
    "    (pl.col('treatment')==1) & (pl.col('ownes_house')==0)\n",
    ").select('expenditure').to_numpy()\n",
    "\n",
    "controlled_rental = df.filter(\n",
    "    (pl.col('treatment')==0) & (pl.col('ownes_house')==0)\n",
    ").select('expenditure').to_numpy()"
   ]
  },
  {
   "cell_type": "code",
   "execution_count": 17,
   "metadata": {},
   "outputs": [
    {
     "name": "stdout",
     "output_type": "stream",
     "text": [
      "T-Test Results:\n",
      "Mean Expenditure (Treated): 55135.0317\n",
      "Mean Expenditure (Controlled): 48073.1068\n",
      "T-statistic: 11.9713\n",
      "P-value: 0.0000\n"
     ]
    }
   ],
   "source": [
    "p_test(treated_rental, controlled_rental)"
   ]
  },
  {
   "cell_type": "markdown",
   "metadata": {},
   "source": [
    "Both homeowners and non-homeowners benefit significantly from the treatment. This finding suggests that the treatment effect is broad and has a positive impact across all groups in the experiment"
   ]
  },
  {
   "cell_type": "markdown",
   "metadata": {},
   "source": [
    "## Linear Model"
   ]
  },
  {
   "cell_type": "markdown",
   "metadata": {},
   "source": [
    "The RCT results demonstrated that the treatment is effective, and subgroup analysis confirmed its broad impact across different types of people. Now, we can conduct further analysis using linear regression. Linear regression will help us quantify the impact of each variable and determine whether these variables are significant in predicting expenditure.  \n",
    "\n",
    "Unlike simple mean comparisons between treatment and control groups, a linear regression model allows us to estimate the impact of multiple variables simultaneously. This approach provides a more precise measure of the treatment effect while accounting for potential confounding factors such as age, education level, previous work experience, and employment status. By incorporating all available variables, the model helps us isolate the true effect of medical insurance on expenditure and identify key determinants of spending behavior.  \n",
    "\n",
    "This deeper analysis will provide a more nuanced understanding of how different factors interact, offering valuable insights for policymakers and stakeholders looking to design effective interventions."
   ]
  },
  {
   "cell_type": "code",
   "execution_count": 18,
   "metadata": {},
   "outputs": [],
   "source": [
    "from sklearn.linear_model import LinearRegression,Ridge, Lasso\n",
    "from sklearn.preprocessing import LabelEncoder\n",
    "from sklearn.model_selection import train_test_split\n"
   ]
  },
  {
   "cell_type": "markdown",
   "metadata": {},
   "source": [
    "#### Using pyrsm package to port R's statistical output"
   ]
  },
  {
   "cell_type": "markdown",
   "metadata": {},
   "source": [
    "The scikit-learn (sklearn) package is excellent for machine learning but lacks detailed statistical outputs that can be useful for interpretation and analysis. Instead, I will use the pyrsm library, which brings R's comprehensive statistical output capabilities into the Python environment. "
   ]
  },
  {
   "cell_type": "code",
   "execution_count": 19,
   "metadata": {},
   "outputs": [],
   "source": [
    "import pyrsm as rsm"
   ]
  },
  {
   "cell_type": "code",
   "execution_count": 20,
   "metadata": {},
   "outputs": [
    {
     "name": "stdout",
     "output_type": "stream",
     "text": [
      "Linear regression (OLS)\n",
      "Data                 : df\n",
      "Response variable    : expenditure\n",
      "Explanatory variables: age, is_male, race, ownes_house, employment_status, employment_income, non_employment_income, treatment\n",
      "Null hyp.: the effect of x on expenditure is zero\n",
      "Alt. hyp.: the effect of x on expenditure is not zero\n",
      "\n",
      "                       coefficient  std.error  t.value p.value     \n",
      "Intercept                 2658.000    147.086   18.071  < .001  ***\n",
      "race[Black]                176.270    117.985    1.494   0.135     \n",
      "race[Hispanic]              83.079    107.857    0.770   0.441     \n",
      "race[Other]                116.452    159.066    0.732   0.464     \n",
      "race[White]                150.733    100.811    1.495   0.135     \n",
      "age                          5.685      4.303    1.321   0.186     \n",
      "is_male                    -59.410     58.313   -1.019   0.308     \n",
      "ownes_house                109.335     63.230    1.729   0.084    .\n",
      "employment_status        -5087.014    159.240  -31.946  < .001  ***\n",
      "employment_income            0.717      0.002  408.126  < .001  ***\n",
      "non_employment_income        0.449      0.005   82.018  < .001  ***\n",
      "treatment                 6847.929     72.651   94.258  < .001  ***\n",
      "\n",
      "Signif. codes:  0 '***' 0.001 '**' 0.01 '*' 0.05 '.' 0.1 ' ' 1\n",
      "\n",
      "R-squared: 0.978, Adjusted R-squared: 0.978\n",
      "F-statistic: 206428.917 df(11, 49988), p.value < 0.001\n",
      "Nr obs: 50,000\n",
      "\n",
      "Sum of squares:\n",
      "\n",
      "                df                  SS\n",
      "Regression      11  95,507,655,809,465\n",
      "Error       49,988   2,102,522,870,224\n",
      "Total       49,999  97,610,178,679,689\n",
      "\n",
      "Root Mean Square Error (RMSE):\n",
      "6484.632\n"
     ]
    }
   ],
   "source": [
    "#using rsm\n",
    "feature_names = df.drop('expenditure').columns\n",
    "dfp = df.to_pandas() #note that pyrsm requires pandas dataframe, I could not find a way to run it on polars dataframe\n",
    "rsm.model.regress({\"df\":dfp},rvar=\"expenditure\",evar=feature_names).summary(rmse=True, ssq= True)"
   ]
  },
  {
   "cell_type": "markdown",
   "metadata": {},
   "source": [
    "##### Summary of Linear Regression (OLS) Results\n",
    "The linear regression model evaluates the impact of various factors on expenditure, using a dataset of 50,000 observations. The R-squared value of 0.978 indicates that the model explains 97.8% of the variance in expenditure, suggesting a strong fit.\n",
    "\n",
    "Key Findings:\n",
    "- Treatment Effect: The treatment variable has the largest and most significant impact on expenditure (coefficient = 6847.9, p < 0.001), confirming that receiving insurance significantly increases spending.\n",
    "\n",
    "- Income Impact: Both employment income (coefficient = 0.717, p < 0.001) and non-employment income (coefficient = 0.449, p < 0.001) are strong predictors of expenditure.\n",
    "\n",
    "- Employment Status: Being employed decreases expenditure (coefficient = -5087, p < 0.001), (which is strange)\n",
    "- Housing : Owning a house (p = 0.085) and race (p = 0.3) have weaker and less statistically significant effects.\n",
    "\n",
    "- Gender and Age: Gender (p = 0.307) and age (p = 0.187) are not statistically significant, meaning their effects on expenditure are minimal.\n",
    "\n",
    "Model Performance:\n",
    "- The F-statistic (283,844.4, p < 0.001) confirms the model is highly significant overall.\n",
    "\n",
    "The Root Mean Square Error (RMSE) of 6484.77 suggests that, on average, predictions deviate by this amount from actual expenditures."
   ]
  },
  {
   "cell_type": "markdown",
   "metadata": {},
   "source": [
    "#### Let's see how the regression result would have been in absence of any treatment"
   ]
  },
  {
   "cell_type": "markdown",
   "metadata": {},
   "source": [
    "From the regression output, we can see how the treatment effect significantly impacts expenditure. But wouldn’t it be interesting to explore what the outcome would have been if the treatment had never been implemented?\n",
    "\n",
    "To begin, let's run a regression model that excludes the treatment. So, I will divide the dataset between treated and control group and run the regression. The output will show how these variables would have affected the expenditure in presence or absense of treatment. After running both the regression, we can see if there is any notable difference in predictor between those in treatment and those in control"
   ]
  },
  {
   "cell_type": "markdown",
   "metadata": {},
   "source": [
    "### Only treated people vs Not Treated people\n",
    "\n",
    "From the regression output, we can observe how the treatment effect significantly impacts expenditure. However, it would be interesting to explore what the outcome would have been if the treatment had never been implemented.\n",
    "\n",
    "To begin, let's run a regression model that excludes the treatment variable. I'll divide the dataset into two groups: the treated group and the control group, and then run a separate regression for each group. By excluding the treatment variable, we can assess how the other predictors affect expenditure in both the presence and absence of the treatment.\n",
    "\n",
    "After running both regressions, we can compare the results to see if there are any notable differences in the predictors between the treated and control groups. This will help us understand how the treatment may have altered the relationships between the predictors and expenditure."
   ]
  },
  {
   "cell_type": "code",
   "execution_count": 21,
   "metadata": {},
   "outputs": [],
   "source": [
    "df_treated = df.filter(pl.col('treatment')==1).drop('treatment')\n",
    "df_controled = df.filter(pl.col('treatment')==0).drop('treatment')"
   ]
  },
  {
   "cell_type": "markdown",
   "metadata": {},
   "source": [
    "#### Linear Regression for treated group only"
   ]
  },
  {
   "cell_type": "code",
   "execution_count": 22,
   "metadata": {},
   "outputs": [
    {
     "name": "stdout",
     "output_type": "stream",
     "text": [
      "Linear regression (OLS)\n",
      "Data                 : df treated\n",
      "Response variable    : expenditure\n",
      "Explanatory variables: age, is_male, race, ownes_house, employment_status, employment_income, non_employment_income\n",
      "Null hyp.: the effect of x on expenditure is zero\n",
      "Alt. hyp.: the effect of x on expenditure is not zero\n",
      "\n",
      "                       coefficient  std.error  t.value p.value     \n",
      "Intercept                 4012.755    475.529    8.439  < .001  ***\n",
      "race[Black]                360.091    375.278    0.960   0.337     \n",
      "race[Hispanic]            -166.056    344.996   -0.481    0.63     \n",
      "race[Other]               -217.746    506.380   -0.430   0.667     \n",
      "race[White]                -38.207    321.357   -0.119   0.905     \n",
      "age                         21.105     14.267    1.479   0.139     \n",
      "is_male                    -98.186    186.981   -0.525     0.6     \n",
      "ownes_house                413.863    202.886    2.040   0.041    *\n",
      "employment_status        -4461.077    514.903   -8.664  < .001  ***\n",
      "employment_income            0.788      0.006  137.142  < .001  ***\n",
      "non_employment_income        0.479      0.018   27.228  < .001  ***\n",
      "\n",
      "Signif. codes:  0 '***' 0.001 '**' 0.01 '*' 0.05 '.' 0.1 ' ' 1\n",
      "\n",
      "R-squared: 0.965, Adjusted R-squared: 0.965\n",
      "F-statistic: 27422.023 df(10, 9939), p.value < 0.001\n",
      "Nr obs: 9,950\n",
      "\n",
      "Sum of squares:\n",
      "\n",
      "               df                  SS\n",
      "Regression     10  23,598,349,141,718\n",
      "Error       9,939     855,312,508,384\n",
      "Total       9,949  24,453,661,650,102\n",
      "\n",
      "Root Mean Square Error (RMSE):\n",
      "9271.519\n"
     ]
    }
   ],
   "source": [
    "feature_names_noTreat = df.drop('expenditure','treatment').columns\n",
    "dft = df_treated.to_pandas()\n",
    "rsm.model.regress({\"df treated\":dft},rvar=\"expenditure\",evar=feature_names_noTreat).summary(rmse=True, ssq= True)"
   ]
  },
  {
   "cell_type": "markdown",
   "metadata": {},
   "source": [
    "#### Linear Regression for control group only"
   ]
  },
  {
   "cell_type": "code",
   "execution_count": 23,
   "metadata": {},
   "outputs": [
    {
     "name": "stdout",
     "output_type": "stream",
     "text": [
      "Linear regression (OLS)\n",
      "Data                 : df controled\n",
      "Response variable    : expenditure\n",
      "Explanatory variables: age, is_male, race, ownes_house, employment_status, employment_income, non_employment_income\n",
      "Null hyp.: the effect of x on expenditure is zero\n",
      "Alt. hyp.: the effect of x on expenditure is not zero\n",
      "\n",
      "                       coefficient  std.error  t.value p.value     \n",
      "Intercept                 4017.127    121.580   33.041  < .001  ***\n",
      "race[Black]                 75.942     98.595    0.770   0.441     \n",
      "race[Hispanic]             140.919     90.001    1.566   0.117     \n",
      "race[Other]                199.731    132.891    1.503   0.133     \n",
      "race[White]                166.092     84.195    1.973   0.049    *\n",
      "age                          0.927      3.560    0.260   0.794     \n",
      "is_male                    -16.965     48.632   -0.349   0.727     \n",
      "ownes_house                 36.100     52.723    0.685   0.494     \n",
      "employment_status        -5212.025    132.557  -39.319  < .001  ***\n",
      "employment_income            0.699      0.001  479.385  < .001  ***\n",
      "non_employment_income        0.446      0.005   97.907  < .001  ***\n",
      "\n",
      "Signif. codes:  0 '***' 0.001 '**' 0.01 '*' 0.05 '.' 0.1 ' ' 1\n",
      "\n",
      "R-squared: 0.987, Adjusted R-squared: 0.987\n",
      "F-statistic: 306553.199 df(10, 40039), p.value < 0.001\n",
      "Nr obs: 40,050\n",
      "\n",
      "Sum of squares:\n",
      "\n",
      "                df                  SS\n",
      "Regression      10  71,817,137,388,510\n",
      "Error       40,039     938,005,662,925\n",
      "Total       40,049  72,755,143,051,435\n",
      "\n",
      "Root Mean Square Error (RMSE):\n",
      "4839.511\n"
     ]
    }
   ],
   "source": [
    "dfc = df_controled.to_pandas()\n",
    "rsm.model.regress({\"df controled\":dfc},rvar=\"expenditure\",evar=feature_names_noTreat).summary(rmse=True, ssq= True)"
   ]
  },
  {
   "cell_type": "markdown",
   "metadata": {},
   "source": [
    "##### Significance of Predictors:\n",
    "\n",
    "Owns_house: This variable is significant in the treated group (p = 0.04), but not in the control group (p = 0.492). This suggests that owning a house has a stronger effect on expenditure when individuals are receiving social welfare benefits. For those in the treatment group, housing status seems to be a more important factor in determining spending behavior.\n",
    "\n",
    "Race_encoded: This variable is significant in the control group (p = 0.045), but not in the treated group (p = 0.492). This may suggest that the treatment (i.e., receiving welfare) has a leveling effect on expenditure across different racial groups, reducing racial disparities in spending behavior. In the absence of treatment, race appears to have a more noticeable impact on expenditure.\n",
    "\n",
    "Employment Status:\n",
    "Both the treated and control groups show significant negative effects for employment status (p < 0.001). However, the coefficient for the control group is more negative (-5211.47) compared to the treated group (-4476.49). This might suggest that employed individuals in the control group have a larger decrease in expenditure than those in the treated group, which is somewhat counter-intuitive.\n",
    "\n",
    "A possible explanation for this could be that employment status and employment income are highly correlated. This suggests that one of these variables might be capturing similar information. Therefore, to improve the model and reduce multicollinearity, we should consider dropping one of these variables. For further analysis, I will drop the employment status variable to assess the model more effectively.\n",
    "\n",
    "Income Variables:\n",
    "Employment_income and non_employment_income both have significant positive coefficients in both groups, with the coefficients being slightly higher in the treated group. This suggests that income, regardless of its source, plays a crucial role in determining expenditure in both the treated and control groups. The marginally higher coefficients in the treated group indicate that income might have a more pronounced effect on expenditure when individuals have access to social welfare."
   ]
  },
  {
   "cell_type": "markdown",
   "metadata": {},
   "source": [
    "##### Running the Regression Estimate Again with Predictive Capabilities\n",
    "Now, let's take the modeling a step further by using Scikit-Learn to fit the linear regression model and also evaluate its predictive capabilities."
   ]
  },
  {
   "cell_type": "code",
   "execution_count": 24,
   "metadata": {},
   "outputs": [],
   "source": [
    "#### One Hot encoding categorical variables\n",
    "race_array = df['race'].to_numpy()\n",
    "label_encoder = LabelEncoder()\n",
    "race_encoded = label_encoder.fit_transform(race_array)\n",
    "X = df.with_columns(pl.Series('race_encoded', race_encoded))\n",
    "X = X.drop('race')\n",
    "y = X['expenditure']"
   ]
  },
  {
   "cell_type": "code",
   "execution_count": 25,
   "metadata": {},
   "outputs": [
    {
     "data": {
      "text/html": [
       "<div><style>\n",
       ".dataframe > thead > tr,\n",
       ".dataframe > tbody > tr {\n",
       "  text-align: right;\n",
       "  white-space: pre-wrap;\n",
       "}\n",
       "</style>\n",
       "<small>shape: (5, 9)</small><table border=\"1\" class=\"dataframe\"><thead><tr><th>age</th><th>is_male</th><th>ownes_house</th><th>employment_status</th><th>employment_income</th><th>non_employment_income</th><th>treatment</th><th>expenditure</th><th>race_encoded</th></tr><tr><td>i64</td><td>i64</td><td>i64</td><td>i64</td><td>f64</td><td>f64</td><td>i64</td><td>f64</td><td>i32</td></tr></thead><tbody><tr><td>32</td><td>0</td><td>0</td><td>1</td><td>104995.2</td><td>0.0</td><td>1</td><td>92102.73</td><td>1</td></tr><tr><td>69</td><td>1</td><td>1</td><td>1</td><td>190858.9</td><td>12000.0</td><td>0</td><td>139499.88</td><td>0</td></tr><tr><td>18</td><td>0</td><td>0</td><td>0</td><td>0.0</td><td>0.0</td><td>0</td><td>2332.43</td><td>2</td></tr><tr><td>44</td><td>1</td><td>0</td><td>1</td><td>174413.2</td><td>0.0</td><td>0</td><td>112242.89</td><td>4</td></tr><tr><td>23</td><td>0</td><td>0</td><td>0</td><td>0.0</td><td>12000.0</td><td>1</td><td>13224.75</td><td>4</td></tr></tbody></table></div>"
      ],
      "text/plain": [
       "shape: (5, 9)\n",
       "┌─────┬─────────┬─────────────┬─────────────┬───┬────────────┬───────────┬────────────┬────────────┐\n",
       "│ age ┆ is_male ┆ ownes_house ┆ employment_ ┆ … ┆ non_employ ┆ treatment ┆ expenditur ┆ race_encod │\n",
       "│ --- ┆ ---     ┆ ---         ┆ status      ┆   ┆ ment_incom ┆ ---       ┆ e          ┆ ed         │\n",
       "│ i64 ┆ i64     ┆ i64         ┆ ---         ┆   ┆ e          ┆ i64       ┆ ---        ┆ ---        │\n",
       "│     ┆         ┆             ┆ i64         ┆   ┆ ---        ┆           ┆ f64        ┆ i32        │\n",
       "│     ┆         ┆             ┆             ┆   ┆ f64        ┆           ┆            ┆            │\n",
       "╞═════╪═════════╪═════════════╪═════════════╪═══╪════════════╪═══════════╪════════════╪════════════╡\n",
       "│ 32  ┆ 0       ┆ 0           ┆ 1           ┆ … ┆ 0.0        ┆ 1         ┆ 92102.73   ┆ 1          │\n",
       "│ 69  ┆ 1       ┆ 1           ┆ 1           ┆ … ┆ 12000.0    ┆ 0         ┆ 139499.88  ┆ 0          │\n",
       "│ 18  ┆ 0       ┆ 0           ┆ 0           ┆ … ┆ 0.0        ┆ 0         ┆ 2332.43    ┆ 2          │\n",
       "│ 44  ┆ 1       ┆ 0           ┆ 1           ┆ … ┆ 0.0        ┆ 0         ┆ 112242.89  ┆ 4          │\n",
       "│ 23  ┆ 0       ┆ 0           ┆ 0           ┆ … ┆ 12000.0    ┆ 1         ┆ 13224.75   ┆ 4          │\n",
       "└─────┴─────────┴─────────────┴─────────────┴───┴────────────┴───────────┴────────────┴────────────┘"
      ]
     },
     "execution_count": 25,
     "metadata": {},
     "output_type": "execute_result"
    }
   ],
   "source": [
    "X.head()"
   ]
  },
  {
   "cell_type": "code",
   "execution_count": 26,
   "metadata": {},
   "outputs": [],
   "source": [
    "lr = LinearRegression()\n",
    "X_train, X_test, y_train, y_test = train_test_split(X.drop('expenditure'),y,test_size=0.25,random_state=99)\n",
    "feature_names = X_train.columns"
   ]
  },
  {
   "cell_type": "code",
   "execution_count": 27,
   "metadata": {},
   "outputs": [],
   "source": [
    "reg = lr.fit(X_train,y_train)"
   ]
  },
  {
   "cell_type": "code",
   "execution_count": 28,
   "metadata": {},
   "outputs": [
    {
     "data": {
      "text/plain": [
       "{'Intercept': 2720.851986918402,\n",
       " 'age': 6.240473745453834,\n",
       " 'is_male': -39.793653190603855,\n",
       " 'ownes_house': 45.97058389654647,\n",
       " 'employment_status': -5066.151702257103,\n",
       " 'employment_income': 0.7164030483992931,\n",
       " 'non_employment_income': 0.45243828695602145,\n",
       " 'treatment': 6777.709694468725,\n",
       " 'race_encoded': 11.843171893217766}"
      ]
     },
     "execution_count": 28,
     "metadata": {},
     "output_type": "execute_result"
    }
   ],
   "source": [
    "# Get feature names and coefficients\n",
    "{'Intercept': reg.intercept_, \n",
    "              **{feature_names[i]: reg.coef_[i] for i in range(len(feature_names))}}\n",
    "\n"
   ]
  },
  {
   "cell_type": "markdown",
   "metadata": {},
   "source": [
    "The values are slightly different since the training set is not different from the full set that I used before"
   ]
  },
  {
   "cell_type": "code",
   "execution_count": 29,
   "metadata": {},
   "outputs": [],
   "source": [
    "predicted_expenditure = reg.predict(X_test)"
   ]
  },
  {
   "cell_type": "code",
   "execution_count": 30,
   "metadata": {},
   "outputs": [
    {
     "data": {
      "text/html": [
       "<div><style>\n",
       ".dataframe > thead > tr,\n",
       ".dataframe > tbody > tr {\n",
       "  text-align: right;\n",
       "  white-space: pre-wrap;\n",
       "}\n",
       "</style>\n",
       "<small>shape: (12_500, 10)</small><table border=\"1\" class=\"dataframe\"><thead><tr><th>age</th><th>is_male</th><th>ownes_house</th><th>employment_status</th><th>employment_income</th><th>non_employment_income</th><th>treatment</th><th>race_encoded</th><th>actual_expenditure</th><th>pred_expenditure</th></tr><tr><td>i64</td><td>i64</td><td>i64</td><td>i64</td><td>f64</td><td>f64</td><td>i64</td><td>i32</td><td>f64</td><td>f64</td></tr></thead><tbody><tr><td>36</td><td>0</td><td>0</td><td>1</td><td>110679.4</td><td>0.0</td><td>1</td><td>4</td><td>80617.68</td><td>83995.499277</td></tr><tr><td>22</td><td>1</td><td>1</td><td>0</td><td>0.0</td><td>10000.0</td><td>1</td><td>4</td><td>9517.9</td><td>14213.784592</td></tr><tr><td>21</td><td>1</td><td>0</td><td>1</td><td>76957.2</td><td>0.0</td><td>0</td><td>4</td><td>48806.14</td><td>52925.701944</td></tr><tr><td>22</td><td>1</td><td>0</td><td>1</td><td>81637.1</td><td>0.0</td><td>0</td><td>4</td><td>64406.44</td><td>56284.637044</td></tr><tr><td>55</td><td>0</td><td>1</td><td>0</td><td>0.0</td><td>5000.0</td><td>0</td><td>4</td><td>6397.49</td><td>5419.612749</td></tr><tr><td>&hellip;</td><td>&hellip;</td><td>&hellip;</td><td>&hellip;</td><td>&hellip;</td><td>&hellip;</td><td>&hellip;</td><td>&hellip;</td><td>&hellip;</td><td>&hellip;</td></tr><tr><td>18</td><td>0</td><td>0</td><td>0</td><td>0.0</td><td>12000.0</td><td>1</td><td>4</td><td>10637.32</td><td>15087.52234</td></tr><tr><td>18</td><td>0</td><td>0</td><td>0</td><td>0.0</td><td>0.0</td><td>1</td><td>4</td><td>3201.58</td><td>9658.262896</td></tr><tr><td>68</td><td>1</td><td>0</td><td>1</td><td>250590.3</td><td>10000.0</td><td>0</td><td>4</td><td>193134.09</td><td>182134.669223</td></tr><tr><td>28</td><td>0</td><td>0</td><td>0</td><td>0.0</td><td>0.0</td><td>0</td><td>4</td><td>2690.25</td><td>2942.957939</td></tr><tr><td>33</td><td>0</td><td>0</td><td>0</td><td>0.0</td><td>0.0</td><td>0</td><td>4</td><td>2474.21</td><td>2974.160308</td></tr></tbody></table></div>"
      ],
      "text/plain": [
       "shape: (12_500, 10)\n",
       "┌─────┬─────────┬─────────────┬─────────────┬───┬───────────┬────────────┬────────────┬────────────┐\n",
       "│ age ┆ is_male ┆ ownes_house ┆ employment_ ┆ … ┆ treatment ┆ race_encod ┆ actual_exp ┆ pred_expen │\n",
       "│ --- ┆ ---     ┆ ---         ┆ status      ┆   ┆ ---       ┆ ed         ┆ enditure   ┆ diture     │\n",
       "│ i64 ┆ i64     ┆ i64         ┆ ---         ┆   ┆ i64       ┆ ---        ┆ ---        ┆ ---        │\n",
       "│     ┆         ┆             ┆ i64         ┆   ┆           ┆ i32        ┆ f64        ┆ f64        │\n",
       "╞═════╪═════════╪═════════════╪═════════════╪═══╪═══════════╪════════════╪════════════╪════════════╡\n",
       "│ 36  ┆ 0       ┆ 0           ┆ 1           ┆ … ┆ 1         ┆ 4          ┆ 80617.68   ┆ 83995.4992 │\n",
       "│     ┆         ┆             ┆             ┆   ┆           ┆            ┆            ┆ 77         │\n",
       "│ 22  ┆ 1       ┆ 1           ┆ 0           ┆ … ┆ 1         ┆ 4          ┆ 9517.9     ┆ 14213.7845 │\n",
       "│     ┆         ┆             ┆             ┆   ┆           ┆            ┆            ┆ 92         │\n",
       "│ 21  ┆ 1       ┆ 0           ┆ 1           ┆ … ┆ 0         ┆ 4          ┆ 48806.14   ┆ 52925.7019 │\n",
       "│     ┆         ┆             ┆             ┆   ┆           ┆            ┆            ┆ 44         │\n",
       "│ 22  ┆ 1       ┆ 0           ┆ 1           ┆ … ┆ 0         ┆ 4          ┆ 64406.44   ┆ 56284.6370 │\n",
       "│     ┆         ┆             ┆             ┆   ┆           ┆            ┆            ┆ 44         │\n",
       "│ 55  ┆ 0       ┆ 1           ┆ 0           ┆ … ┆ 0         ┆ 4          ┆ 6397.49    ┆ 5419.61274 │\n",
       "│     ┆         ┆             ┆             ┆   ┆           ┆            ┆            ┆ 9          │\n",
       "│ …   ┆ …       ┆ …           ┆ …           ┆ … ┆ …         ┆ …          ┆ …          ┆ …          │\n",
       "│ 18  ┆ 0       ┆ 0           ┆ 0           ┆ … ┆ 1         ┆ 4          ┆ 10637.32   ┆ 15087.5223 │\n",
       "│     ┆         ┆             ┆             ┆   ┆           ┆            ┆            ┆ 4          │\n",
       "│ 18  ┆ 0       ┆ 0           ┆ 0           ┆ … ┆ 1         ┆ 4          ┆ 3201.58    ┆ 9658.26289 │\n",
       "│     ┆         ┆             ┆             ┆   ┆           ┆            ┆            ┆ 6          │\n",
       "│ 68  ┆ 1       ┆ 0           ┆ 1           ┆ … ┆ 0         ┆ 4          ┆ 193134.09  ┆ 182134.669 │\n",
       "│     ┆         ┆             ┆             ┆   ┆           ┆            ┆            ┆ 223        │\n",
       "│ 28  ┆ 0       ┆ 0           ┆ 0           ┆ … ┆ 0         ┆ 4          ┆ 2690.25    ┆ 2942.95793 │\n",
       "│     ┆         ┆             ┆             ┆   ┆           ┆            ┆            ┆ 9          │\n",
       "│ 33  ┆ 0       ┆ 0           ┆ 0           ┆ … ┆ 0         ┆ 4          ┆ 2474.21    ┆ 2974.16030 │\n",
       "│     ┆         ┆             ┆             ┆   ┆           ┆            ┆            ┆ 8          │\n",
       "└─────┴─────────┴─────────────┴─────────────┴───┴───────────┴────────────┴────────────┴────────────┘"
      ]
     },
     "execution_count": 30,
     "metadata": {},
     "output_type": "execute_result"
    }
   ],
   "source": [
    "result = X_test.with_columns(\n",
    "    pl.Series(y_test).alias('actual_expenditure'),\n",
    "    pl.Series(predicted_expenditure).alias('pred_expenditure')\n",
    "    \n",
    ")\n",
    "result"
   ]
  },
  {
   "cell_type": "markdown",
   "metadata": {},
   "source": [
    "The dataset above shows the predicted expenditure values. Let's check out how much error it makes in the test set and if it is fit for further analysis."
   ]
  },
  {
   "cell_type": "markdown",
   "metadata": {},
   "source": [
    "The root mean square error between actual expenditure and predicted expenditure"
   ]
  },
  {
   "cell_type": "code",
   "execution_count": 31,
   "metadata": {},
   "outputs": [
    {
     "name": "stdout",
     "output_type": "stream",
     "text": [
      "Mean Squared Error: 41824028.693792306\n",
      "Root Mean Squared Error: 6467.149966854975\n"
     ]
    }
   ],
   "source": [
    "mse = mean_squared_error(y_test, predicted_expenditure)\n",
    "rmse = mse ** 0.5\n",
    "print(\"Mean Squared Error:\", mse)\n",
    "print(\"Root Mean Squared Error:\", rmse)"
   ]
  },
  {
   "cell_type": "markdown",
   "metadata": {},
   "source": [
    "An RMSE of 6467.15 means that, on average, the model's predictions are off by 6467.15. But how good or bad is that? Looking back at some of the model's outputs, we realized that the mean differences for particular subgroups were around 5000 to 10,000. Is an RMSE of 6467.15 a concern? Let me calculate the RMSE percentage, which should provide a clearer picture of our errors."
   ]
  },
  {
   "cell_type": "code",
   "execution_count": 32,
   "metadata": {},
   "outputs": [
    {
     "data": {
      "text/plain": [
       "49758.84115200001"
      ]
     },
     "execution_count": 32,
     "metadata": {},
     "output_type": "execute_result"
    }
   ],
   "source": [
    "mean_actual = result[\"actual_expenditure\"].mean()\n",
    "mean_actual"
   ]
  },
  {
   "cell_type": "code",
   "execution_count": 33,
   "metadata": {},
   "outputs": [
    {
     "name": "stdout",
     "output_type": "stream",
     "text": [
      "RMSE as % of Mean Expenditure: 13.00%\n"
     ]
    }
   ],
   "source": [
    "rmse_percentage = (rmse / mean_actual) * 100\n",
    "print(f\"RMSE as % of Mean Expenditure: {rmse_percentage:.2f}%\")"
   ]
  },
  {
   "cell_type": "markdown",
   "metadata": {},
   "source": [
    "The RMSE is 13%. In most cases, a small RMSE percentage is considered a sign of good model performance. A score of less than 20% is generally regarded as good. Based on this, we can say that our model is performing well."
   ]
  },
  {
   "cell_type": "markdown",
   "metadata": {},
   "source": [
    "## Scaling Up to 1 Million People"
   ]
  },
  {
   "cell_type": "markdown",
   "metadata": {},
   "source": [
    "Now that we have two key insights—the treatment is effective across the board, and variables like employment status, employment income, and non-employment income have a significant impact on expenditure behavior—let's consider the next step.\n",
    "\n",
    "Suppose the government, based on the success of the results, wants to roll out the program statewide, which has a population of roughly one million people. However, the government only has enough budget to extend the program to another 200,000 people.\n",
    "\n",
    "We can confidently say that the treatment will increase expenditure, as both the RCT and the linear regression analysis have confirmed this. Additionally, the linear regression showed that certain variables, such as employment status and income, have large coefficients and significantly influence expenditure.\n",
    "\n",
    "So, how should the government scale up the program?\n",
    "\n"
   ]
  },
  {
   "cell_type": "code",
   "execution_count": 34,
   "metadata": {},
   "outputs": [
    {
     "data": {
      "text/html": [
       "<div><style>\n",
       ".dataframe > thead > tr,\n",
       ".dataframe > tbody > tr {\n",
       "  text-align: right;\n",
       "  white-space: pre-wrap;\n",
       "}\n",
       "</style>\n",
       "<small>shape: (5, 7)</small><table border=\"1\" class=\"dataframe\"><thead><tr><th>age</th><th>is_male</th><th>race</th><th>ownes_house</th><th>employment_status</th><th>employment_income</th><th>non_employment_income</th></tr><tr><td>i64</td><td>i64</td><td>str</td><td>i64</td><td>i64</td><td>f64</td><td>f64</td></tr></thead><tbody><tr><td>18</td><td>1</td><td>&quot;Asian&quot;</td><td>0</td><td>1</td><td>59449.6</td><td>12000.0</td></tr><tr><td>18</td><td>1</td><td>&quot;White&quot;</td><td>0</td><td>0</td><td>0.0</td><td>1000.0</td></tr><tr><td>19</td><td>0</td><td>&quot;Black&quot;</td><td>0</td><td>0</td><td>0.0</td><td>12000.0</td></tr><tr><td>18</td><td>0</td><td>&quot;White&quot;</td><td>0</td><td>0</td><td>0.0</td><td>12000.0</td></tr><tr><td>59</td><td>0</td><td>&quot;White&quot;</td><td>0</td><td>1</td><td>216939.1</td><td>0.0</td></tr></tbody></table></div>"
      ],
      "text/plain": [
       "shape: (5, 7)\n",
       "┌─────┬─────────┬───────┬─────────────┬───────────────────┬───────────────────┬────────────────────┐\n",
       "│ age ┆ is_male ┆ race  ┆ ownes_house ┆ employment_status ┆ employment_income ┆ non_employment_inc │\n",
       "│ --- ┆ ---     ┆ ---   ┆ ---         ┆ ---               ┆ ---               ┆ ome                │\n",
       "│ i64 ┆ i64     ┆ str   ┆ i64         ┆ i64               ┆ f64               ┆ ---                │\n",
       "│     ┆         ┆       ┆             ┆                   ┆                   ┆ f64                │\n",
       "╞═════╪═════════╪═══════╪═════════════╪═══════════════════╪═══════════════════╪════════════════════╡\n",
       "│ 18  ┆ 1       ┆ Asian ┆ 0           ┆ 1                 ┆ 59449.6           ┆ 12000.0            │\n",
       "│ 18  ┆ 1       ┆ White ┆ 0           ┆ 0                 ┆ 0.0               ┆ 1000.0             │\n",
       "│ 19  ┆ 0       ┆ Black ┆ 0           ┆ 0                 ┆ 0.0               ┆ 12000.0            │\n",
       "│ 18  ┆ 0       ┆ White ┆ 0           ┆ 0                 ┆ 0.0               ┆ 12000.0            │\n",
       "│ 59  ┆ 0       ┆ White ┆ 0           ┆ 1                 ┆ 216939.1          ┆ 0.0                │\n",
       "└─────┴─────────┴───────┴─────────────┴───────────────────┴───────────────────┴────────────────────┘"
      ]
     },
     "execution_count": 34,
     "metadata": {},
     "output_type": "execute_result"
    }
   ],
   "source": [
    "target = pl.read_csv(\"new_target.csv\")\n",
    "target.head(5)"
   ]
  },
  {
   "cell_type": "markdown",
   "metadata": {},
   "source": [
    "### Scenarios 1: Randomly Assigning Treatment to 200,000 People\n",
    "\n",
    "One method would be to randomly assign the treatment to 200,000 people, given that we observed a consistent impact of the treatment across all subgroups. Let’s explore how this approach would look. I have developed a program that generates the outcomes for individuals after the treatment is assigned. Think of this as a hypothetical scenario in the future, following the experiment."
   ]
  },
  {
   "cell_type": "code",
   "execution_count": 35,
   "metadata": {},
   "outputs": [
    {
     "data": {
      "text/html": [
       "<div><style>\n",
       ".dataframe > thead > tr,\n",
       ".dataframe > tbody > tr {\n",
       "  text-align: right;\n",
       "  white-space: pre-wrap;\n",
       "}\n",
       "</style>\n",
       "<small>shape: (5, 8)</small><table border=\"1\" class=\"dataframe\"><thead><tr><th>age</th><th>is_male</th><th>race</th><th>ownes_house</th><th>employment_status</th><th>employment_income</th><th>non_employment_income</th><th>treatment</th></tr><tr><td>i64</td><td>i64</td><td>str</td><td>i64</td><td>i64</td><td>f64</td><td>f64</td><td>i32</td></tr></thead><tbody><tr><td>18</td><td>1</td><td>&quot;Asian&quot;</td><td>0</td><td>1</td><td>59449.6</td><td>12000.0</td><td>0</td></tr><tr><td>18</td><td>1</td><td>&quot;White&quot;</td><td>0</td><td>0</td><td>0.0</td><td>1000.0</td><td>1</td></tr><tr><td>19</td><td>0</td><td>&quot;Black&quot;</td><td>0</td><td>0</td><td>0.0</td><td>12000.0</td><td>0</td></tr><tr><td>18</td><td>0</td><td>&quot;White&quot;</td><td>0</td><td>0</td><td>0.0</td><td>12000.0</td><td>0</td></tr><tr><td>59</td><td>0</td><td>&quot;White&quot;</td><td>0</td><td>1</td><td>216939.1</td><td>0.0</td><td>0</td></tr></tbody></table></div>"
      ],
      "text/plain": [
       "shape: (5, 8)\n",
       "┌─────┬─────────┬───────┬─────────────┬────────────────┬───────────────┬───────────────┬───────────┐\n",
       "│ age ┆ is_male ┆ race  ┆ ownes_house ┆ employment_sta ┆ employment_in ┆ non_employmen ┆ treatment │\n",
       "│ --- ┆ ---     ┆ ---   ┆ ---         ┆ tus            ┆ come          ┆ t_income      ┆ ---       │\n",
       "│ i64 ┆ i64     ┆ str   ┆ i64         ┆ ---            ┆ ---           ┆ ---           ┆ i32       │\n",
       "│     ┆         ┆       ┆             ┆ i64            ┆ f64           ┆ f64           ┆           │\n",
       "╞═════╪═════════╪═══════╪═════════════╪════════════════╪═══════════════╪═══════════════╪═══════════╡\n",
       "│ 18  ┆ 1       ┆ Asian ┆ 0           ┆ 1              ┆ 59449.6       ┆ 12000.0       ┆ 0         │\n",
       "│ 18  ┆ 1       ┆ White ┆ 0           ┆ 0              ┆ 0.0           ┆ 1000.0        ┆ 1         │\n",
       "│ 19  ┆ 0       ┆ Black ┆ 0           ┆ 0              ┆ 0.0           ┆ 12000.0       ┆ 0         │\n",
       "│ 18  ┆ 0       ┆ White ┆ 0           ┆ 0              ┆ 0.0           ┆ 12000.0       ┆ 0         │\n",
       "│ 59  ┆ 0       ┆ White ┆ 0           ┆ 1              ┆ 216939.1      ┆ 0.0           ┆ 0         │\n",
       "└─────┴─────────┴───────┴─────────────┴────────────────┴───────────────┴───────────────┴───────────┘"
      ]
     },
     "execution_count": 35,
     "metadata": {},
     "output_type": "execute_result"
    }
   ],
   "source": [
    "RCT_target = target\n",
    "np.random.seed(259)\n",
    "treatment = np.random.choice([1, 0], RCT_target.shape[0], p=[0.2, 0.8])\n",
    "RCT_target = RCT_target.with_columns(pl.Series('treatment', treatment))\n",
    "RCT_target.head(5)"
   ]
  },
  {
   "cell_type": "code",
   "execution_count": 36,
   "metadata": {},
   "outputs": [
    {
     "data": {
      "text/html": [
       "<div><style>\n",
       ".dataframe > thead > tr,\n",
       ".dataframe > tbody > tr {\n",
       "  text-align: right;\n",
       "  white-space: pre-wrap;\n",
       "}\n",
       "</style>\n",
       "<small>shape: (5, 9)</small><table border=\"1\" class=\"dataframe\"><thead><tr><th>age</th><th>is_male</th><th>race</th><th>ownes_house</th><th>employment_status</th><th>employment_income</th><th>non_employment_income</th><th>treatment</th><th>expenditure</th></tr><tr><td>i64</td><td>i64</td><td>str</td><td>i64</td><td>i64</td><td>f64</td><td>f64</td><td>i32</td><td>f64</td></tr></thead><tbody><tr><td>18</td><td>1</td><td>&quot;Asian&quot;</td><td>0</td><td>1</td><td>59449.6</td><td>12000.0</td><td>0</td><td>36261.96</td></tr><tr><td>18</td><td>1</td><td>&quot;White&quot;</td><td>0</td><td>0</td><td>0.0</td><td>1000.0</td><td>1</td><td>3753.78</td></tr><tr><td>19</td><td>0</td><td>&quot;Black&quot;</td><td>0</td><td>0</td><td>0.0</td><td>12000.0</td><td>0</td><td>12595.93</td></tr><tr><td>18</td><td>0</td><td>&quot;White&quot;</td><td>0</td><td>0</td><td>0.0</td><td>12000.0</td><td>0</td><td>12595.93</td></tr><tr><td>59</td><td>0</td><td>&quot;White&quot;</td><td>0</td><td>1</td><td>216939.1</td><td>0.0</td><td>0</td><td>124663.44</td></tr></tbody></table></div>"
      ],
      "text/plain": [
       "shape: (5, 9)\n",
       "┌─────┬─────────┬───────┬─────────────┬───┬───────────────┬──────────────┬───────────┬─────────────┐\n",
       "│ age ┆ is_male ┆ race  ┆ ownes_house ┆ … ┆ employment_in ┆ non_employme ┆ treatment ┆ expenditure │\n",
       "│ --- ┆ ---     ┆ ---   ┆ ---         ┆   ┆ come          ┆ nt_income    ┆ ---       ┆ ---         │\n",
       "│ i64 ┆ i64     ┆ str   ┆ i64         ┆   ┆ ---           ┆ ---          ┆ i32       ┆ f64         │\n",
       "│     ┆         ┆       ┆             ┆   ┆ f64           ┆ f64          ┆           ┆             │\n",
       "╞═════╪═════════╪═══════╪═════════════╪═══╪═══════════════╪══════════════╪═══════════╪═════════════╡\n",
       "│ 18  ┆ 1       ┆ Asian ┆ 0           ┆ … ┆ 59449.6       ┆ 12000.0      ┆ 0         ┆ 36261.96    │\n",
       "│ 18  ┆ 1       ┆ White ┆ 0           ┆ … ┆ 0.0           ┆ 1000.0       ┆ 1         ┆ 3753.78     │\n",
       "│ 19  ┆ 0       ┆ Black ┆ 0           ┆ … ┆ 0.0           ┆ 12000.0      ┆ 0         ┆ 12595.93    │\n",
       "│ 18  ┆ 0       ┆ White ┆ 0           ┆ … ┆ 0.0           ┆ 12000.0      ┆ 0         ┆ 12595.93    │\n",
       "│ 59  ┆ 0       ┆ White ┆ 0           ┆ … ┆ 216939.1      ┆ 0.0          ┆ 0         ┆ 124663.44   │\n",
       "└─────┴─────────┴───────┴─────────────┴───┴───────────────┴──────────────┴───────────┴─────────────┘"
      ]
     },
     "execution_count": 36,
     "metadata": {},
     "output_type": "execute_result"
    }
   ],
   "source": [
    "%run data_processor.ipynb  # Executes the notebook\n",
    "# Then call your function directly\n",
    "RCT_target = process_dataframe(RCT_target)\n",
    "RCT_target.head(5)"
   ]
  },
  {
   "cell_type": "markdown",
   "metadata": {},
   "source": [
    "We have now obtained the simulated expenditure values. Next, let's calculate the total increase in expenditure among the treated individuals and across the entire economy.\n",
    "\n",
    "Total Expenditure Increase Among Treated Individuals: This will be the sum of the differences in expenditure for the treated individuals compared to their hypothetical expenditure if they had not received the treatment.\n",
    "\n",
    "Total Expenditure for the Whole Economy (Including Both Treated and Control Groups): This represents the sum of all expenditures (both treated and control groups) in the entire population after the treatment has been applied."
   ]
  },
  {
   "cell_type": "code",
   "execution_count": 37,
   "metadata": {},
   "outputs": [
    {
     "name": "stdout",
     "output_type": "stream",
     "text": [
      "Treatment Group 1 - Mean Expenditure: 68959.48440247081, Sum Expenditure: 13809688427.47\n",
      "Treatment Group 0 - Mean Expenditure: 37273.36951645656, Sum Expenditure: 29809079083.829998\n",
      "Total - Mean Expenditure: 43618.76751129999, Sum Expenditure: 43618767511.299995\n"
     ]
    }
   ],
   "source": [
    "treatment_group_1 = RCT_target.filter(pl.col('treatment') == 1)\n",
    "treatment_group_0 = RCT_target.filter(pl.col('treatment') == 0)\n",
    "\n",
    "# Mean and sum for treatment group 1\n",
    "mean_treatment_1 = treatment_group_1.select(pl.col('expenditure').mean()).to_numpy()[0][0]\n",
    "sum_treatment_1 = treatment_group_1.select(pl.col('expenditure').sum()).to_numpy()[0][0]\n",
    "\n",
    "# Mean and sum for treatment group 0\n",
    "mean_treatment_0 = treatment_group_0.select(pl.col('expenditure').mean()).to_numpy()[0][0]\n",
    "sum_treatment_0 = treatment_group_0.select(pl.col('expenditure').sum()).to_numpy()[0][0]\n",
    "\n",
    "# Mean and sum for total population\n",
    "mean_total = RCT_target.select(pl.col('expenditure').mean()).to_numpy()[0][0]\n",
    "sum_total = RCT_target.select(pl.col('expenditure').sum()).to_numpy()[0][0]\n",
    "\n",
    "# Output the results\n",
    "print(f\"Treatment Group 1 - Mean Expenditure: {mean_treatment_1}, Sum Expenditure: {sum_treatment_1}\")\n",
    "print(f\"Treatment Group 0 - Mean Expenditure: {mean_treatment_0}, Sum Expenditure: {sum_treatment_0}\")\n",
    "print(f\"Total - Mean Expenditure: {mean_total}, Sum Expenditure: {sum_total}\")"
   ]
  },
  {
   "cell_type": "markdown",
   "metadata": {},
   "source": [
    "\n",
    "Treatment Group 1: The mean expenditure for individuals in the treatment group is approximately $68,959.48, with a total expenditure of around $13.81 billion.\n",
    "\n",
    "Treatment Group 0: The mean expenditure for individuals in the control group is approximately $37,273.37, with a total expenditure of about $29.81 billion.\n",
    "\n",
    "Overall: The overall mean expenditure is approximately $43,618.77, with the total expenditure across all groups amounting to about $43.62 billion."
   ]
  },
  {
   "cell_type": "markdown",
   "metadata": {},
   "source": [
    "## Scenario 2: Using Predictive Models to Assign Treatment "
   ]
  },
  {
   "cell_type": "markdown",
   "metadata": {},
   "source": [
    "Instead of randomly selecting 200,000 people for treatment, I can use linear regression to target individuals who are likely to benefit the most. To achieve this, I will leverage both the results from the RCT and the linear regression model. This approach is known as T-learners, a type of Causal Machine Learning model.  \n",
    "\n",
    "T-learners work by developing two separate models: one from treated group and one from the control group. These models allow us to make a prediction of two counterfactual scenarios; one where everyone receives treatment and another where no one does. This enables us to estimate the individual treatment effect for each person in the dataset. While these estimates are hypothetical, they provide valuable insight into the potential outcomes of individuals with or without treatment. It’s important to note that our previous models demonstrated strong predictive performance, with a low RMSE and a high R² statistic, suggesting that these estimates should be fairly reliable."
   ]
  },
  {
   "cell_type": "markdown",
   "metadata": {},
   "source": [
    "Here is a more step-wise breakdown of how T-learners work:\n",
    "\n",
    "Train Two Models:\n",
    "\n",
    "- Model 1: Train a model using the data for the treated group (where treatment = 1).\n",
    "\n",
    "- Model 2: Train another model using the data for the control group (where treatment = 0).\n",
    "\n",
    "Make Predictions:\n",
    "\n",
    "- Prediction 1: Use Model 1 (treated group) to predict the outcome as if everyone received the treatment.\n",
    "\n",
    "- Prediction 2: Use Model 2 (control group) to predict the outcome as if no one received the treatment.\n",
    "\n",
    "Calculate the Difference:\n",
    "\n",
    "By comparing the predicted outcomes for the treated and control groups, we can find the difference in predicted expenditure for each individual.\n",
    "\n",
    "The individuals who show the highest difference between the treated and control predictions are likely to benefit the most from the treatment. For example, individuals with higher predicted outcomes in the treated group compared to the control group would be the ones who see the largest benefit from the insurance treatment.\n",
    "\n",
    "In this way, the T-Learner allows us to estimate the individualized treatment effect by predicting how each person would behave in both treatment and control conditions, and then comparing those predictions.\n",
    "\n",
    "For instance, being a woman, unemployed, and older might result in the most benefit from the treatment. The difference between the two predictions should be the highest for such a person (just an example)"
   ]
  },
  {
   "cell_type": "markdown",
   "metadata": {},
   "source": [
    "I will be using the whole dataset from out earlier analysis to train the model. The reason is that I want to use all the data available to make the best prediction possible. The T-Learner will be able to learn from both treated and control groups, and then we can apply it to the new dataset."
   ]
  },
  {
   "cell_type": "code",
   "execution_count": 38,
   "metadata": {},
   "outputs": [],
   "source": [
    "X_treated = X.filter(pl.col('treatment')==1).drop('expenditure','treatment')\n",
    "X_control = X.filter(pl.col('treatment')==0).drop('expenditure','treatment')\n",
    "\n",
    "y_treated = df.filter(pl.col('treatment')==1).select('expenditure').to_numpy()\n",
    "y_control = df.filter(pl.col('treatment')==0).select('expenditure').to_numpy()\n"
   ]
  },
  {
   "cell_type": "code",
   "execution_count": 39,
   "metadata": {},
   "outputs": [],
   "source": [
    "lr= LinearRegression()\n",
    "# make a linear regression model for treated group only\n",
    "lr_treated = lr.fit(X_treated.to_numpy(),y_treated) \n",
    "lr= LinearRegression()\n",
    "# make a linear regression model for control group only\n",
    "lr_control = lr.fit(X_control.to_numpy(),y_control)\n"
   ]
  },
  {
   "cell_type": "markdown",
   "metadata": {},
   "source": [
    "Now, using the model, I will make predictions on a new dataset representing a population of 1 million. I will generate predictions for two scenarios: one where everyone receives treatment and another where no one does. The difference between these two predictions will indicate the individuals who are likely to benefit the most from the treatment.\n",
    "\n",
    "This is my hypothesis: those with the largest predicted difference will experience the greatest impact from the treatment. Based on this, I will select the top 50,000 individuals with the highest predicted benefit to receive the treatment. Finally, I will compare their actual (simulated) outcomes to evaluate whether this targeted approach leads to a better overall result than random assignment."
   ]
  },
  {
   "cell_type": "code",
   "execution_count": 40,
   "metadata": {},
   "outputs": [
    {
     "data": {
      "text/html": [
       "<div><style>\n",
       ".dataframe > thead > tr,\n",
       ".dataframe > tbody > tr {\n",
       "  text-align: right;\n",
       "  white-space: pre-wrap;\n",
       "}\n",
       "</style>\n",
       "<small>shape: (5, 7)</small><table border=\"1\" class=\"dataframe\"><thead><tr><th>age</th><th>is_male</th><th>race</th><th>ownes_house</th><th>employment_status</th><th>employment_income</th><th>non_employment_income</th></tr><tr><td>i64</td><td>i64</td><td>str</td><td>i64</td><td>i64</td><td>f64</td><td>f64</td></tr></thead><tbody><tr><td>18</td><td>1</td><td>&quot;Asian&quot;</td><td>0</td><td>1</td><td>59449.6</td><td>12000.0</td></tr><tr><td>18</td><td>1</td><td>&quot;White&quot;</td><td>0</td><td>0</td><td>0.0</td><td>1000.0</td></tr><tr><td>19</td><td>0</td><td>&quot;Black&quot;</td><td>0</td><td>0</td><td>0.0</td><td>12000.0</td></tr><tr><td>18</td><td>0</td><td>&quot;White&quot;</td><td>0</td><td>0</td><td>0.0</td><td>12000.0</td></tr><tr><td>59</td><td>0</td><td>&quot;White&quot;</td><td>0</td><td>1</td><td>216939.1</td><td>0.0</td></tr></tbody></table></div>"
      ],
      "text/plain": [
       "shape: (5, 7)\n",
       "┌─────┬─────────┬───────┬─────────────┬───────────────────┬───────────────────┬────────────────────┐\n",
       "│ age ┆ is_male ┆ race  ┆ ownes_house ┆ employment_status ┆ employment_income ┆ non_employment_inc │\n",
       "│ --- ┆ ---     ┆ ---   ┆ ---         ┆ ---               ┆ ---               ┆ ome                │\n",
       "│ i64 ┆ i64     ┆ str   ┆ i64         ┆ i64               ┆ f64               ┆ ---                │\n",
       "│     ┆         ┆       ┆             ┆                   ┆                   ┆ f64                │\n",
       "╞═════╪═════════╪═══════╪═════════════╪═══════════════════╪═══════════════════╪════════════════════╡\n",
       "│ 18  ┆ 1       ┆ Asian ┆ 0           ┆ 1                 ┆ 59449.6           ┆ 12000.0            │\n",
       "│ 18  ┆ 1       ┆ White ┆ 0           ┆ 0                 ┆ 0.0               ┆ 1000.0             │\n",
       "│ 19  ┆ 0       ┆ Black ┆ 0           ┆ 0                 ┆ 0.0               ┆ 12000.0            │\n",
       "│ 18  ┆ 0       ┆ White ┆ 0           ┆ 0                 ┆ 0.0               ┆ 12000.0            │\n",
       "│ 59  ┆ 0       ┆ White ┆ 0           ┆ 1                 ┆ 216939.1          ┆ 0.0                │\n",
       "└─────┴─────────┴───────┴─────────────┴───────────────────┴───────────────────┴────────────────────┘"
      ]
     },
     "execution_count": 40,
     "metadata": {},
     "output_type": "execute_result"
    }
   ],
   "source": [
    "target_tlearner = target\n",
    "target_tlearner.head(5)"
   ]
  },
  {
   "cell_type": "code",
   "execution_count": 41,
   "metadata": {},
   "outputs": [
    {
     "data": {
      "text/html": [
       "<div><style>\n",
       ".dataframe > thead > tr,\n",
       ".dataframe > tbody > tr {\n",
       "  text-align: right;\n",
       "  white-space: pre-wrap;\n",
       "}\n",
       "</style>\n",
       "<small>shape: (5, 7)</small><table border=\"1\" class=\"dataframe\"><thead><tr><th>age</th><th>is_male</th><th>ownes_house</th><th>employment_status</th><th>employment_income</th><th>non_employment_income</th><th>race_encoded</th></tr><tr><td>i64</td><td>i64</td><td>i64</td><td>i64</td><td>f64</td><td>f64</td><td>i32</td></tr></thead><tbody><tr><td>18</td><td>1</td><td>0</td><td>1</td><td>59449.6</td><td>12000.0</td><td>0</td></tr><tr><td>18</td><td>1</td><td>0</td><td>0</td><td>0.0</td><td>1000.0</td><td>4</td></tr><tr><td>19</td><td>0</td><td>0</td><td>0</td><td>0.0</td><td>12000.0</td><td>1</td></tr><tr><td>18</td><td>0</td><td>0</td><td>0</td><td>0.0</td><td>12000.0</td><td>4</td></tr><tr><td>59</td><td>0</td><td>0</td><td>1</td><td>216939.1</td><td>0.0</td><td>4</td></tr></tbody></table></div>"
      ],
      "text/plain": [
       "shape: (5, 7)\n",
       "┌─────┬─────────┬─────────────┬─────────────────┬─────────────────┬─────────────────┬──────────────┐\n",
       "│ age ┆ is_male ┆ ownes_house ┆ employment_stat ┆ employment_inco ┆ non_employment_ ┆ race_encoded │\n",
       "│ --- ┆ ---     ┆ ---         ┆ us              ┆ me              ┆ income          ┆ ---          │\n",
       "│ i64 ┆ i64     ┆ i64         ┆ ---             ┆ ---             ┆ ---             ┆ i32          │\n",
       "│     ┆         ┆             ┆ i64             ┆ f64             ┆ f64             ┆              │\n",
       "╞═════╪═════════╪═════════════╪═════════════════╪═════════════════╪═════════════════╪══════════════╡\n",
       "│ 18  ┆ 1       ┆ 0           ┆ 1               ┆ 59449.6         ┆ 12000.0         ┆ 0            │\n",
       "│ 18  ┆ 1       ┆ 0           ┆ 0               ┆ 0.0             ┆ 1000.0          ┆ 4            │\n",
       "│ 19  ┆ 0       ┆ 0           ┆ 0               ┆ 0.0             ┆ 12000.0         ┆ 1            │\n",
       "│ 18  ┆ 0       ┆ 0           ┆ 0               ┆ 0.0             ┆ 12000.0         ┆ 4            │\n",
       "│ 59  ┆ 0       ┆ 0           ┆ 1               ┆ 216939.1        ┆ 0.0             ┆ 4            │\n",
       "└─────┴─────────┴─────────────┴─────────────────┴─────────────────┴─────────────────┴──────────────┘"
      ]
     },
     "execution_count": 41,
     "metadata": {},
     "output_type": "execute_result"
    }
   ],
   "source": [
    "#encode race from target_tlearner\n",
    "race_encoded = label_encoder.fit_transform(target_tlearner['race'].to_numpy())\n",
    "target_tlearner = target_tlearner.with_columns(pl.Series('race_encoded', race_encoded))\n",
    "target_tlearner= target_tlearner.drop('race')\n",
    "target_tlearner.head(5)"
   ]
  },
  {
   "cell_type": "code",
   "execution_count": 42,
   "metadata": {},
   "outputs": [
    {
     "name": "stderr",
     "output_type": "stream",
     "text": [
      "c:\\Users\\meala\\anaconda3\\Lib\\site-packages\\sklearn\\base.py:432: UserWarning: X has feature names, but LinearRegression was fitted without feature names\n",
      "  warnings.warn(\n",
      "c:\\Users\\meala\\anaconda3\\Lib\\site-packages\\sklearn\\base.py:432: UserWarning: X has feature names, but LinearRegression was fitted without feature names\n",
      "  warnings.warn(\n"
     ]
    }
   ],
   "source": [
    "#predict outcome for all individual with the model built on treated group\n",
    "predicted_expenditure_treated = lr_treated.predict(target_tlearner)\n",
    "#predict outcome for all individual with the model built on control group\n",
    "predicted_expenditure_control = lr_control.predict(target_tlearner)"
   ]
  },
  {
   "cell_type": "code",
   "execution_count": 43,
   "metadata": {},
   "outputs": [],
   "source": [
    "target_tlearner = target_tlearner.with_columns(\n",
    "    pl.Series(predicted_expenditure_treated.flatten()).alias('predicted_expenditure_treated'),\n",
    "    pl.Series(predicted_expenditure_control.flatten()).alias('predicted_expenditure_control')\n",
    ")"
   ]
  },
  {
   "cell_type": "code",
   "execution_count": 44,
   "metadata": {},
   "outputs": [
    {
     "data": {
      "text/html": [
       "<div><style>\n",
       ".dataframe > thead > tr,\n",
       ".dataframe > tbody > tr {\n",
       "  text-align: right;\n",
       "  white-space: pre-wrap;\n",
       "}\n",
       "</style>\n",
       "<small>shape: (10, 9)</small><table border=\"1\" class=\"dataframe\"><thead><tr><th>age</th><th>is_male</th><th>ownes_house</th><th>employment_status</th><th>employment_income</th><th>non_employment_income</th><th>race_encoded</th><th>predicted_expenditure_treated</th><th>predicted_expenditure_control</th></tr><tr><td>i64</td><td>i64</td><td>i64</td><td>i64</td><td>f64</td><td>f64</td><td>i32</td><td>f64</td><td>f64</td></tr></thead><tbody><tr><td>18</td><td>1</td><td>0</td><td>1</td><td>59449.6</td><td>12000.0</td><td>0</td><td>52501.939139</td><td>45741.457678</td></tr><tr><td>18</td><td>1</td><td>0</td><td>0</td><td>0.0</td><td>1000.0</td><td>4</td><td>4696.871974</td><td>4642.01674</td></tr><tr><td>19</td><td>0</td><td>0</td><td>0</td><td>0.0</td><td>12000.0</td><td>1</td><td>10215.128617</td><td>9468.894997</td></tr><tr><td>18</td><td>0</td><td>0</td><td>0</td><td>0.0</td><td>12000.0</td><td>4</td><td>10060.754148</td><td>9569.934858</td></tr><tr><td>59</td><td>0</td><td>0</td><td>1</td><td>216939.1</td><td>0.0</td><td>4</td><td>171616.699071</td><td>150609.609621</td></tr><tr><td>18</td><td>0</td><td>1</td><td>1</td><td>58568.7</td><td>0.0</td><td>3</td><td>46446.636512</td><td>39923.485584</td></tr><tr><td>60</td><td>0</td><td>0</td><td>0</td><td>0.0</td><td>0.0</td><td>0</td><td>5371.830229</td><td>4116.57903</td></tr><tr><td>70</td><td>0</td><td>0</td><td>0</td><td>0.0</td><td>0.0</td><td>2</td><td>5491.537127</td><td>4194.145118</td></tr><tr><td>50</td><td>0</td><td>1</td><td>1</td><td>139415.0</td><td>0.0</td><td>0</td><td>110944.544022</td><td>96337.223454</td></tr><tr><td>18</td><td>1</td><td>0</td><td>0</td><td>0.0</td><td>0.0</td><td>2</td><td>4307.248708</td><td>4127.55669</td></tr></tbody></table></div>"
      ],
      "text/plain": [
       "shape: (10, 9)\n",
       "┌─────┬─────────┬─────────────┬────────────┬───┬────────────┬────────────┬────────────┬────────────┐\n",
       "│ age ┆ is_male ┆ ownes_house ┆ employment ┆ … ┆ non_employ ┆ race_encod ┆ predicted_ ┆ predicted_ │\n",
       "│ --- ┆ ---     ┆ ---         ┆ _status    ┆   ┆ ment_incom ┆ ed         ┆ expenditur ┆ expenditur │\n",
       "│ i64 ┆ i64     ┆ i64         ┆ ---        ┆   ┆ e          ┆ ---        ┆ e_treated  ┆ e_control  │\n",
       "│     ┆         ┆             ┆ i64        ┆   ┆ ---        ┆ i32        ┆ ---        ┆ ---        │\n",
       "│     ┆         ┆             ┆            ┆   ┆ f64        ┆            ┆ f64        ┆ f64        │\n",
       "╞═════╪═════════╪═════════════╪════════════╪═══╪════════════╪════════════╪════════════╪════════════╡\n",
       "│ 18  ┆ 1       ┆ 0           ┆ 1          ┆ … ┆ 12000.0    ┆ 0          ┆ 52501.9391 ┆ 45741.4576 │\n",
       "│     ┆         ┆             ┆            ┆   ┆            ┆            ┆ 39         ┆ 78         │\n",
       "│ 18  ┆ 1       ┆ 0           ┆ 0          ┆ … ┆ 1000.0     ┆ 4          ┆ 4696.87197 ┆ 4642.01674 │\n",
       "│     ┆         ┆             ┆            ┆   ┆            ┆            ┆ 4          ┆            │\n",
       "│ 19  ┆ 0       ┆ 0           ┆ 0          ┆ … ┆ 12000.0    ┆ 1          ┆ 10215.1286 ┆ 9468.89499 │\n",
       "│     ┆         ┆             ┆            ┆   ┆            ┆            ┆ 17         ┆ 7          │\n",
       "│ 18  ┆ 0       ┆ 0           ┆ 0          ┆ … ┆ 12000.0    ┆ 4          ┆ 10060.7541 ┆ 9569.93485 │\n",
       "│     ┆         ┆             ┆            ┆   ┆            ┆            ┆ 48         ┆ 8          │\n",
       "│ 59  ┆ 0       ┆ 0           ┆ 1          ┆ … ┆ 0.0        ┆ 4          ┆ 171616.699 ┆ 150609.609 │\n",
       "│     ┆         ┆             ┆            ┆   ┆            ┆            ┆ 071        ┆ 621        │\n",
       "│ 18  ┆ 0       ┆ 1           ┆ 1          ┆ … ┆ 0.0        ┆ 3          ┆ 46446.6365 ┆ 39923.4855 │\n",
       "│     ┆         ┆             ┆            ┆   ┆            ┆            ┆ 12         ┆ 84         │\n",
       "│ 60  ┆ 0       ┆ 0           ┆ 0          ┆ … ┆ 0.0        ┆ 0          ┆ 5371.83022 ┆ 4116.57903 │\n",
       "│     ┆         ┆             ┆            ┆   ┆            ┆            ┆ 9          ┆            │\n",
       "│ 70  ┆ 0       ┆ 0           ┆ 0          ┆ … ┆ 0.0        ┆ 2          ┆ 5491.53712 ┆ 4194.14511 │\n",
       "│     ┆         ┆             ┆            ┆   ┆            ┆            ┆ 7          ┆ 8          │\n",
       "│ 50  ┆ 0       ┆ 1           ┆ 1          ┆ … ┆ 0.0        ┆ 0          ┆ 110944.544 ┆ 96337.2234 │\n",
       "│     ┆         ┆             ┆            ┆   ┆            ┆            ┆ 022        ┆ 54         │\n",
       "│ 18  ┆ 1       ┆ 0           ┆ 0          ┆ … ┆ 0.0        ┆ 2          ┆ 4307.24870 ┆ 4127.55669 │\n",
       "│     ┆         ┆             ┆            ┆   ┆            ┆            ┆ 8          ┆            │\n",
       "└─────┴─────────┴─────────────┴────────────┴───┴────────────┴────────────┴────────────┴────────────┘"
      ]
     },
     "execution_count": 44,
     "metadata": {},
     "output_type": "execute_result"
    }
   ],
   "source": [
    "target_tlearner.head(10)"
   ]
  },
  {
   "cell_type": "code",
   "execution_count": 45,
   "metadata": {},
   "outputs": [
    {
     "data": {
      "text/html": [
       "<div><style>\n",
       ".dataframe > thead > tr,\n",
       ".dataframe > tbody > tr {\n",
       "  text-align: right;\n",
       "  white-space: pre-wrap;\n",
       "}\n",
       "</style>\n",
       "<small>shape: (5, 10)</small><table border=\"1\" class=\"dataframe\"><thead><tr><th>age</th><th>is_male</th><th>ownes_house</th><th>employment_status</th><th>employment_income</th><th>non_employment_income</th><th>race_encoded</th><th>predicted_expenditure_treated</th><th>predicted_expenditure_control</th><th>difference</th></tr><tr><td>i64</td><td>i64</td><td>i64</td><td>i64</td><td>f64</td><td>f64</td><td>i32</td><td>f64</td><td>f64</td><td>f64</td></tr></thead><tbody><tr><td>18</td><td>1</td><td>0</td><td>1</td><td>59449.6</td><td>12000.0</td><td>0</td><td>52501.939139</td><td>45741.457678</td><td>6760.481462</td></tr><tr><td>18</td><td>1</td><td>0</td><td>0</td><td>0.0</td><td>1000.0</td><td>4</td><td>4696.871974</td><td>4642.01674</td><td>54.855233</td></tr><tr><td>19</td><td>0</td><td>0</td><td>0</td><td>0.0</td><td>12000.0</td><td>1</td><td>10215.128617</td><td>9468.894997</td><td>746.233621</td></tr><tr><td>18</td><td>0</td><td>0</td><td>0</td><td>0.0</td><td>12000.0</td><td>4</td><td>10060.754148</td><td>9569.934858</td><td>490.81929</td></tr><tr><td>59</td><td>0</td><td>0</td><td>1</td><td>216939.1</td><td>0.0</td><td>4</td><td>171616.699071</td><td>150609.609621</td><td>21007.08945</td></tr></tbody></table></div>"
      ],
      "text/plain": [
       "shape: (5, 10)\n",
       "┌─────┬─────────┬─────────────┬────────────┬───┬────────────┬────────────┬────────────┬────────────┐\n",
       "│ age ┆ is_male ┆ ownes_house ┆ employment ┆ … ┆ race_encod ┆ predicted_ ┆ predicted_ ┆ difference │\n",
       "│ --- ┆ ---     ┆ ---         ┆ _status    ┆   ┆ ed         ┆ expenditur ┆ expenditur ┆ ---        │\n",
       "│ i64 ┆ i64     ┆ i64         ┆ ---        ┆   ┆ ---        ┆ e_treated  ┆ e_control  ┆ f64        │\n",
       "│     ┆         ┆             ┆ i64        ┆   ┆ i32        ┆ ---        ┆ ---        ┆            │\n",
       "│     ┆         ┆             ┆            ┆   ┆            ┆ f64        ┆ f64        ┆            │\n",
       "╞═════╪═════════╪═════════════╪════════════╪═══╪════════════╪════════════╪════════════╪════════════╡\n",
       "│ 18  ┆ 1       ┆ 0           ┆ 1          ┆ … ┆ 0          ┆ 52501.9391 ┆ 45741.4576 ┆ 6760.48146 │\n",
       "│     ┆         ┆             ┆            ┆   ┆            ┆ 39         ┆ 78         ┆ 2          │\n",
       "│ 18  ┆ 1       ┆ 0           ┆ 0          ┆ … ┆ 4          ┆ 4696.87197 ┆ 4642.01674 ┆ 54.855233  │\n",
       "│     ┆         ┆             ┆            ┆   ┆            ┆ 4          ┆            ┆            │\n",
       "│ 19  ┆ 0       ┆ 0           ┆ 0          ┆ … ┆ 1          ┆ 10215.1286 ┆ 9468.89499 ┆ 746.233621 │\n",
       "│     ┆         ┆             ┆            ┆   ┆            ┆ 17         ┆ 7          ┆            │\n",
       "│ 18  ┆ 0       ┆ 0           ┆ 0          ┆ … ┆ 4          ┆ 10060.7541 ┆ 9569.93485 ┆ 490.81929  │\n",
       "│     ┆         ┆             ┆            ┆   ┆            ┆ 48         ┆ 8          ┆            │\n",
       "│ 59  ┆ 0       ┆ 0           ┆ 1          ┆ … ┆ 4          ┆ 171616.699 ┆ 150609.609 ┆ 21007.0894 │\n",
       "│     ┆         ┆             ┆            ┆   ┆            ┆ 071        ┆ 621        ┆ 5          │\n",
       "└─────┴─────────┴─────────────┴────────────┴───┴────────────┴────────────┴────────────┴────────────┘"
      ]
     },
     "execution_count": 45,
     "metadata": {},
     "output_type": "execute_result"
    }
   ],
   "source": [
    "#find the difference between the two predicted outcomes\n",
    "# and add it to the dataframe\n",
    "target_tlearner= target_tlearner.with_columns(\n",
    "    (pl.col('predicted_expenditure_treated') - pl.col('predicted_expenditure_control')).alias('difference')\n",
    ")\n",
    "target_tlearner.head(5)"
   ]
  },
  {
   "cell_type": "markdown",
   "metadata": {},
   "source": [
    "Based on the two model regression output, I will now assign the treatment (we can now call it a benefit since we are no longer evaluating the treatment effect) to the top 200,000 individuals with the highest predicted difference. This will hopefully allow us to see if this targeted approach yields better results than random assignment."
   ]
  },
  {
   "cell_type": "code",
   "execution_count": 46,
   "metadata": {},
   "outputs": [
    {
     "data": {
      "text/html": [
       "<div><style>\n",
       ".dataframe > thead > tr,\n",
       ".dataframe > tbody > tr {\n",
       "  text-align: right;\n",
       "  white-space: pre-wrap;\n",
       "}\n",
       "</style>\n",
       "<small>shape: (10, 12)</small><table border=\"1\" class=\"dataframe\"><thead><tr><th>age</th><th>is_male</th><th>ownes_house</th><th>employment_status</th><th>employment_income</th><th>non_employment_income</th><th>race_encoded</th><th>predicted_expenditure_treated</th><th>predicted_expenditure_control</th><th>difference</th><th>treatment</th><th>race</th></tr><tr><td>i64</td><td>i64</td><td>i64</td><td>i64</td><td>f64</td><td>f64</td><td>i32</td><td>f64</td><td>f64</td><td>f64</td><td>i32</td><td>str</td></tr></thead><tbody><tr><td>70</td><td>1</td><td>1</td><td>1</td><td>253594.0</td><td>9000.0</td><td>1</td><td>205484.526377</td><td>180165.454961</td><td>25319.071416</td><td>1</td><td>&quot;Asian&quot;</td></tr><tr><td>70</td><td>0</td><td>1</td><td>1</td><td>254046.6</td><td>0.0</td><td>0</td><td>201676.988032</td><td>176446.348398</td><td>25230.639634</td><td>1</td><td>&quot;White&quot;</td></tr><tr><td>70</td><td>1</td><td>1</td><td>1</td><td>250818.5</td><td>12000.0</td><td>1</td><td>204733.664584</td><td>179565.675193</td><td>25167.989391</td><td>1</td><td>&quot;Black&quot;</td></tr><tr><td>70</td><td>1</td><td>1</td><td>1</td><td>253753.3</td><td>9000.0</td><td>4</td><td>205476.530839</td><td>180378.750239</td><td>25097.780601</td><td>1</td><td>&quot;White&quot;</td></tr><tr><td>70</td><td>1</td><td>1</td><td>1</td><td>248760.6</td><td>12000.0</td><td>0</td><td>203156.80402</td><td>178093.877408</td><td>25062.926612</td><td>1</td><td>&quot;White&quot;</td></tr><tr><td>70</td><td>1</td><td>1</td><td>1</td><td>251454.7</td><td>9000.0</td><td>2</td><td>203754.530672</td><td>178704.782998</td><td>25049.747674</td><td>1</td><td>&quot;Other&quot;</td></tr><tr><td>70</td><td>1</td><td>1</td><td>1</td><td>248541.0</td><td>12000.0</td><td>0</td><td>202983.787334</td><td>177940.448847</td><td>25043.338487</td><td>1</td><td>&quot;Asian&quot;</td></tr><tr><td>70</td><td>1</td><td>1</td><td>1</td><td>249611.7</td><td>9000.0</td><td>0</td><td>202391.484978</td><td>177349.131115</td><td>25042.353863</td><td>1</td><td>&quot;Hispanic&quot;</td></tr><tr><td>70</td><td>1</td><td>1</td><td>1</td><td>249244.4</td><td>12000.0</td><td>1</td><td>203493.475303</td><td>178465.894237</td><td>25027.581066</td><td>1</td><td>&quot;Asian&quot;</td></tr><tr><td>70</td><td>1</td><td>1</td><td>1</td><td>251846.8</td><td>12000.0</td><td>4</td><td>205410.329796</td><td>180386.117191</td><td>25024.212606</td><td>1</td><td>&quot;Hispanic&quot;</td></tr></tbody></table></div>"
      ],
      "text/plain": [
       "shape: (10, 12)\n",
       "┌─────┬─────────┬─────────────┬─────────────┬───┬─────────────┬─────────────┬───────────┬──────────┐\n",
       "│ age ┆ is_male ┆ ownes_house ┆ employment_ ┆ … ┆ predicted_e ┆ difference  ┆ treatment ┆ race     │\n",
       "│ --- ┆ ---     ┆ ---         ┆ status      ┆   ┆ xpenditure_ ┆ ---         ┆ ---       ┆ ---      │\n",
       "│ i64 ┆ i64     ┆ i64         ┆ ---         ┆   ┆ control     ┆ f64         ┆ i32       ┆ str      │\n",
       "│     ┆         ┆             ┆ i64         ┆   ┆ ---         ┆             ┆           ┆          │\n",
       "│     ┆         ┆             ┆             ┆   ┆ f64         ┆             ┆           ┆          │\n",
       "╞═════╪═════════╪═════════════╪═════════════╪═══╪═════════════╪═════════════╪═══════════╪══════════╡\n",
       "│ 70  ┆ 1       ┆ 1           ┆ 1           ┆ … ┆ 180165.4549 ┆ 25319.07141 ┆ 1         ┆ Asian    │\n",
       "│     ┆         ┆             ┆             ┆   ┆ 61          ┆ 6           ┆           ┆          │\n",
       "│ 70  ┆ 0       ┆ 1           ┆ 1           ┆ … ┆ 176446.3483 ┆ 25230.63963 ┆ 1         ┆ White    │\n",
       "│     ┆         ┆             ┆             ┆   ┆ 98          ┆ 4           ┆           ┆          │\n",
       "│ 70  ┆ 1       ┆ 1           ┆ 1           ┆ … ┆ 179565.6751 ┆ 25167.98939 ┆ 1         ┆ Black    │\n",
       "│     ┆         ┆             ┆             ┆   ┆ 93          ┆ 1           ┆           ┆          │\n",
       "│ 70  ┆ 1       ┆ 1           ┆ 1           ┆ … ┆ 180378.7502 ┆ 25097.78060 ┆ 1         ┆ White    │\n",
       "│     ┆         ┆             ┆             ┆   ┆ 39          ┆ 1           ┆           ┆          │\n",
       "│ 70  ┆ 1       ┆ 1           ┆ 1           ┆ … ┆ 178093.8774 ┆ 25062.92661 ┆ 1         ┆ White    │\n",
       "│     ┆         ┆             ┆             ┆   ┆ 08          ┆ 2           ┆           ┆          │\n",
       "│ 70  ┆ 1       ┆ 1           ┆ 1           ┆ … ┆ 178704.7829 ┆ 25049.74767 ┆ 1         ┆ Other    │\n",
       "│     ┆         ┆             ┆             ┆   ┆ 98          ┆ 4           ┆           ┆          │\n",
       "│ 70  ┆ 1       ┆ 1           ┆ 1           ┆ … ┆ 177940.4488 ┆ 25043.33848 ┆ 1         ┆ Asian    │\n",
       "│     ┆         ┆             ┆             ┆   ┆ 47          ┆ 7           ┆           ┆          │\n",
       "│ 70  ┆ 1       ┆ 1           ┆ 1           ┆ … ┆ 177349.1311 ┆ 25042.35386 ┆ 1         ┆ Hispanic │\n",
       "│     ┆         ┆             ┆             ┆   ┆ 15          ┆ 3           ┆           ┆          │\n",
       "│ 70  ┆ 1       ┆ 1           ┆ 1           ┆ … ┆ 178465.8942 ┆ 25027.58106 ┆ 1         ┆ Asian    │\n",
       "│     ┆         ┆             ┆             ┆   ┆ 37          ┆ 6           ┆           ┆          │\n",
       "│ 70  ┆ 1       ┆ 1           ┆ 1           ┆ … ┆ 180386.1171 ┆ 25024.21260 ┆ 1         ┆ Hispanic │\n",
       "│     ┆         ┆             ┆             ┆   ┆ 91          ┆ 6           ┆           ┆          │\n",
       "└─────┴─────────┴─────────────┴─────────────┴───┴─────────────┴─────────────┴───────────┴──────────┘"
      ]
     },
     "execution_count": 46,
     "metadata": {},
     "output_type": "execute_result"
    }
   ],
   "source": [
    "target_tlearner = target_tlearner.with_columns(\n",
    "    pl.lit(0).alias(\"treatment\")  # Create a new column with default value 0\n",
    ")\n",
    "\n",
    "# Sort the DataFrame in descending order based on predicted benefit\n",
    "target_tlearner = target_tlearner.sort(\"difference\", descending=True)\n",
    "\n",
    "# Assign 1 to the top 200,000 people\n",
    "target_tlearner = target_tlearner.with_columns(\n",
    "    pl.when(pl.arange(0, target_tlearner.height) < 200000)\n",
    "    .then(1)\n",
    "    .otherwise(0)\n",
    "    .alias(\"treatment\")\n",
    ")\n",
    "\n",
    "target_tlearner = target_tlearner.with_columns(\n",
    "    pl.Series(target['race']).alias('race')\n",
    ")\n",
    "target_tlearner.head(10)"
   ]
  },
  {
   "cell_type": "markdown",
   "metadata": {},
   "source": [
    "Now, using the simulation, let see what impact this targeted approach has on the total expenditure. "
   ]
  },
  {
   "cell_type": "code",
   "execution_count": 47,
   "metadata": {},
   "outputs": [
    {
     "data": {
      "text/html": [
       "<div><style>\n",
       ".dataframe > thead > tr,\n",
       ".dataframe > tbody > tr {\n",
       "  text-align: right;\n",
       "  white-space: pre-wrap;\n",
       "}\n",
       "</style>\n",
       "<small>shape: (5, 13)</small><table border=\"1\" class=\"dataframe\"><thead><tr><th>age</th><th>is_male</th><th>ownes_house</th><th>employment_status</th><th>employment_income</th><th>non_employment_income</th><th>race_encoded</th><th>predicted_expenditure_treated</th><th>predicted_expenditure_control</th><th>difference</th><th>treatment</th><th>race</th><th>expenditure</th></tr><tr><td>i64</td><td>i64</td><td>i64</td><td>i64</td><td>f64</td><td>f64</td><td>i32</td><td>f64</td><td>f64</td><td>f64</td><td>i32</td><td>str</td><td>f64</td></tr></thead><tbody><tr><td>70</td><td>1</td><td>1</td><td>1</td><td>253594.0</td><td>9000.0</td><td>1</td><td>205484.526377</td><td>180165.454961</td><td>25319.071416</td><td>1</td><td>&quot;Asian&quot;</td><td>201318.37</td></tr><tr><td>70</td><td>0</td><td>1</td><td>1</td><td>254046.6</td><td>0.0</td><td>0</td><td>201676.988032</td><td>176446.348398</td><td>25230.639634</td><td>1</td><td>&quot;White&quot;</td><td>199927.49</td></tr><tr><td>70</td><td>1</td><td>1</td><td>1</td><td>250818.5</td><td>12000.0</td><td>1</td><td>204733.664584</td><td>179565.675193</td><td>25167.989391</td><td>1</td><td>&quot;Black&quot;</td><td>200495.37</td></tr><tr><td>70</td><td>1</td><td>1</td><td>1</td><td>253753.3</td><td>9000.0</td><td>4</td><td>205476.530839</td><td>180378.750239</td><td>25097.780601</td><td>1</td><td>&quot;White&quot;</td><td>201443.19</td></tr><tr><td>70</td><td>1</td><td>1</td><td>1</td><td>248760.6</td><td>12000.0</td><td>0</td><td>203156.80402</td><td>178093.877408</td><td>25062.926612</td><td>1</td><td>&quot;White&quot;</td><td>198312.82</td></tr></tbody></table></div>"
      ],
      "text/plain": [
       "shape: (5, 13)\n",
       "┌─────┬─────────┬─────────────┬───────────────┬───┬──────────────┬───────────┬───────┬─────────────┐\n",
       "│ age ┆ is_male ┆ ownes_house ┆ employment_st ┆ … ┆ difference   ┆ treatment ┆ race  ┆ expenditure │\n",
       "│ --- ┆ ---     ┆ ---         ┆ atus          ┆   ┆ ---          ┆ ---       ┆ ---   ┆ ---         │\n",
       "│ i64 ┆ i64     ┆ i64         ┆ ---           ┆   ┆ f64          ┆ i32       ┆ str   ┆ f64         │\n",
       "│     ┆         ┆             ┆ i64           ┆   ┆              ┆           ┆       ┆             │\n",
       "╞═════╪═════════╪═════════════╪═══════════════╪═══╪══════════════╪═══════════╪═══════╪═════════════╡\n",
       "│ 70  ┆ 1       ┆ 1           ┆ 1             ┆ … ┆ 25319.071416 ┆ 1         ┆ Asian ┆ 201318.37   │\n",
       "│ 70  ┆ 0       ┆ 1           ┆ 1             ┆ … ┆ 25230.639634 ┆ 1         ┆ White ┆ 199927.49   │\n",
       "│ 70  ┆ 1       ┆ 1           ┆ 1             ┆ … ┆ 25167.989391 ┆ 1         ┆ Black ┆ 200495.37   │\n",
       "│ 70  ┆ 1       ┆ 1           ┆ 1             ┆ … ┆ 25097.780601 ┆ 1         ┆ White ┆ 201443.19   │\n",
       "│ 70  ┆ 1       ┆ 1           ┆ 1             ┆ … ┆ 25062.926612 ┆ 1         ┆ White ┆ 198312.82   │\n",
       "└─────┴─────────┴─────────────┴───────────────┴───┴──────────────┴───────────┴───────┴─────────────┘"
      ]
     },
     "execution_count": 47,
     "metadata": {},
     "output_type": "execute_result"
    }
   ],
   "source": [
    "%run data_processor.ipynb  # Executes the notebook\n",
    "# Then call your function directly\n",
    "target_tlearner = process_dataframe(target_tlearner)\n",
    "target_tlearner.head(5)"
   ]
  },
  {
   "cell_type": "markdown",
   "metadata": {},
   "source": [
    "Finally, let us evaluate what the impact of this targeted approach has on the total expenditure."
   ]
  },
  {
   "cell_type": "code",
   "execution_count": 48,
   "metadata": {},
   "outputs": [
    {
     "name": "stdout",
     "output_type": "stream",
     "text": [
      "Treatment Group 1 - Mean Expenditure: 121163.04413224998, Sum Expenditure: 24232608826.449997\n",
      "Treatment Group 0 - Mean Expenditure: 31919.385659100004, Sum Expenditure: 25535508527.280003\n",
      "Total - Mean Expenditure: 49768.11735373, Sum Expenditure: 49768117353.729996\n"
     ]
    }
   ],
   "source": [
    "treatment_group_1 = target_tlearner .filter(pl.col('treatment') == 1)\n",
    "treatment_group_0 = target_tlearner .filter(pl.col('treatment') == 0)\n",
    "\n",
    "# Mean and sum for treatment group 1\n",
    "mean_treatment_1 = treatment_group_1.select(pl.col('expenditure').mean()).to_numpy()[0][0]\n",
    "sum_treatment_1 = treatment_group_1.select(pl.col('expenditure').sum()).to_numpy()[0][0]\n",
    "\n",
    "# Mean and sum for treatment group 0\n",
    "mean_treatment_0 = treatment_group_0.select(pl.col('expenditure').mean()).to_numpy()[0][0]\n",
    "sum_treatment_0 = treatment_group_0.select(pl.col('expenditure').sum()).to_numpy()[0][0]\n",
    "\n",
    "# Mean and sum for total population\n",
    "mean_total = target_tlearner .select(pl.col('expenditure').mean()).to_numpy()[0][0]\n",
    "sum_total = target_tlearner .select(pl.col('expenditure').sum()).to_numpy()[0][0]\n",
    "\n",
    "# Output the results\n",
    "print(f\"Treatment Group 1 - Mean Expenditure: {mean_treatment_1}, Sum Expenditure: {sum_treatment_1}\")\n",
    "print(f\"Treatment Group 0 - Mean Expenditure: {mean_treatment_0}, Sum Expenditure: {sum_treatment_0}\")\n",
    "print(f\"Total - Mean Expenditure: {mean_total}, Sum Expenditure: {sum_total}\")"
   ]
  },
  {
   "cell_type": "markdown",
   "metadata": {},
   "source": [
    "The results indicate a significant difference in expenditure between the treated and untreated groups. Individuals who received the treatment had an **average expenditure of $109,695.19**, contributing to a **total expenditure of $21.94 billion**. In contrast, those who did not receive the treatment had a **much lower average expenditure of $32,353.97**, with a **total expenditure of $25.88 billion**. \n",
    "\n",
    "Overall, across the entire population, the **mean expenditure was $47,822.22**, leading to a **total economic expenditure of $47.82 billion**. This highlights the substantial impact of the treatment on spending behavior."
   ]
  },
  {
   "cell_type": "markdown",
   "metadata": {},
   "source": [
    "### Comparing the two sets of results, we can see a clear difference in expenditure patterns between the **random assignment method** and the **T-learner targeting approach**:\n",
    "\n",
    "1. **Treatment Group (Assigned Treatment)**\n",
    "   - **Random Assignment**: Mean expenditure = **$68,959.48**, Total expenditure = **$13.81 billion**  \n",
    "   - **T-Learner Targeting**: Mean expenditure = **$109,695.19**, Total expenditure = **$21.94 billion**  \n",
    "   - **Comparison**: The T-learner approach results in a **higher mean expenditure** (+$40,735.71) and an **increase of $8.13 billion in total expenditure**, suggesting that targeting individuals most likely to benefit significantly increases the program's economic impact.\n",
    "\n",
    "2. **Control Group (No Treatment)**\n",
    "   - **Random Assignment**: Mean expenditure = **$37,273.37**, Total expenditure = **$29.81 billion**  \n",
    "   - **T-Learner Targeting**: Mean expenditure = **$32,353.97**, Total expenditure = **$25.88 billion**  \n",
    "   - **Comparison**: The mean expenditure in the control group is slightly lower (-$4,919.40) when using the T-learner method, and total expenditure decreases by about **$3.93 billion**. Since the T-learner method is designed to target individuals who are expected to benefit the most from treatment, it is not surprising that the control group shows a decrease in expenditure. It is effectively leaving out people who would not increase expenditure even when getting the treatment. Thus, this indicates that the T-learner method effectively identifies individuals who would have spent more if treated, leading to a more efficient allocation of resources.\n",
    "\n",
    "3. **Overall Economic Impact**\n",
    "   - **Random Assignment**: Mean expenditure = **$43,618.77**, Total expenditure = **$43.62 billion**  \n",
    "   - **T-Learner Targeting**: Mean expenditure = **$47,822.22**, Total expenditure = **$47.82 billion**  \n",
    "   - **Comparison**: The T-learner method results in an **increase of $4,203.45 in mean expenditure** and a **higher total expenditure by $4.2 billion**, indicating a more efficient allocation of resources. \n",
    "\n",
    "However, it is worth noting that while the **T-learner approach significantly increases expenditure within the treatment group**, the overall impact on the entire economy is comparatively smaller. The total expenditure only increased by **$4 billion**, which, while meaningful, is not as dramatic as the difference seen within the treated group.  \n",
    "\n",
    "If we were to **scale the program to a larger population**, the impact might become more substantial. However, this also brings up an important policy consideration: **fairness vs. equity**. **Randomized assignment** is often seen as a **fair** approach since everyone has an equal chance of receiving the treatment. On the other hand, the **T-learner method prioritizes those most likely to benefit**, making it a **more equitable** strategy, as resources are allocated where they can create the most impact.  \n",
    "\n",
    "Ultimately, the choice between these approaches depends on the policy goal: **maximizing overall impact (T-learner) vs. ensuring equal access (random assignment).**\n",
    "\n",
    "### **Conclusion**\n",
    "The **T-learner approach** outperforms **random assignment** by targeting individuals who are expected to benefit the most from treatment. This leads to a **higher mean expenditure per treated individual** and a **greater overall economic impact**. By prioritizing those with the highest predicted treatment effect, the program can maximize its effectiveness while using the same budget constraints."
   ]
  }
 ],
 "metadata": {
  "kernelspec": {
   "display_name": "base",
   "language": "python",
   "name": "python3"
  },
  "language_info": {
   "codemirror_mode": {
    "name": "ipython",
    "version": 3
   },
   "file_extension": ".py",
   "mimetype": "text/x-python",
   "name": "python",
   "nbconvert_exporter": "python",
   "pygments_lexer": "ipython3",
   "version": "3.11.7"
  }
 },
 "nbformat": 4,
 "nbformat_minor": 2
}
