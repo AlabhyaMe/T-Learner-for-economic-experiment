{
 "cells": [
  {
   "cell_type": "markdown",
   "metadata": {},
   "source": [
    "# A Case for using Machine Learning Models to Improve Causal Inference in Economics"
   ]
  },
  {
   "cell_type": "markdown",
   "metadata": {},
   "source": [
    "In this notebook, I will provide a detailed analysis of a randomized controlled experiment and evaluate its impact. Additionally, I will explore meta-learners, with a primary focus on the T-Learner model.The goal of this analysis is to demonstrate how machine learning models can be used to improve causal inference in economics, particularly in the context of randomized controlled trials (RCTs).\n",
    "\n",
    "Randomized controlled trials (RCTs) are widely regarded as the gold standard for causal impact evaluation. However, they are primarily limited to estimating average treatment effects (ATE). In cases where scaling up a program involves substantial costs, it is often more valuable to estimate conditional treatment effects (CTE) and conditional average treatment effect (CATE), which help identify the subpopulations that benefit the most from the program.\n",
    "\n",
    "This notebook enables a two-part analysis. First, I will assess the effectiveness of the program using the randomized controlled experiment. Then, leveraging the rich set of descriptive features available, I will build a predictive model. Then, I will develop a T-learners to perform causal predictive analytics, allowing for a more granular understanding of the treatment effect across different subgroups.\n",
    "\n",
    "With the results from the RCT and T-Learners, I will apply these insights to a new dataset to evaluate how the program can be effectively scaled up."
   ]
  },
  {
   "cell_type": "markdown",
   "metadata": {},
   "source": [
    "#### Import Libraries"
   ]
  },
  {
   "cell_type": "code",
   "execution_count": 1,
   "metadata": {},
   "outputs": [],
   "source": [
    "import polars as pl\n",
    "from scipy.stats import ttest_ind\n",
    "import numpy as np\n",
    "from sklearn.metrics import mean_squared_error\n",
    "import matplotlib.pyplot as plt"
   ]
  },
  {
   "cell_type": "markdown",
   "metadata": {},
   "source": [
    "#### Read the experiment dataset"
   ]
  },
  {
   "cell_type": "code",
   "execution_count": 2,
   "metadata": {},
   "outputs": [
    {
     "data": {
      "text/html": [
       "<div><style>\n",
       ".dataframe > thead > tr,\n",
       ".dataframe > tbody > tr {\n",
       "  text-align: right;\n",
       "  white-space: pre-wrap;\n",
       "}\n",
       "</style>\n",
       "<small>shape: (5, 9)</small><table border=\"1\" class=\"dataframe\"><thead><tr><th>age</th><th>is_male</th><th>race</th><th>ownes_house</th><th>employment_status</th><th>employment_income</th><th>non_employment_income</th><th>treatment</th><th>expenditure</th></tr><tr><td>i64</td><td>i64</td><td>str</td><td>i64</td><td>i64</td><td>f64</td><td>f64</td><td>i64</td><td>f64</td></tr></thead><tbody><tr><td>18</td><td>1</td><td>&quot;Asian&quot;</td><td>1</td><td>0</td><td>0.0</td><td>12000.0</td><td>0</td><td>8156.3</td></tr><tr><td>18</td><td>0</td><td>&quot;Black&quot;</td><td>0</td><td>0</td><td>0.0</td><td>12000.0</td><td>0</td><td>9915.55</td></tr><tr><td>32</td><td>0</td><td>&quot;White&quot;</td><td>1</td><td>1</td><td>99157.9</td><td>0.0</td><td>0</td><td>83903.93</td></tr><tr><td>33</td><td>1</td><td>&quot;Hispanic&quot;</td><td>1</td><td>0</td><td>0.0</td><td>10000.0</td><td>1</td><td>11803.33</td></tr><tr><td>43</td><td>0</td><td>&quot;White&quot;</td><td>0</td><td>1</td><td>124127.2</td><td>0.0</td><td>1</td><td>123086.25</td></tr></tbody></table></div>"
      ],
      "text/plain": [
       "shape: (5, 9)\n",
       "┌─────┬─────────┬──────────┬─────────────┬───┬─────────────┬─────────────┬───────────┬─────────────┐\n",
       "│ age ┆ is_male ┆ race     ┆ ownes_house ┆ … ┆ employment_ ┆ non_employm ┆ treatment ┆ expenditure │\n",
       "│ --- ┆ ---     ┆ ---      ┆ ---         ┆   ┆ income      ┆ ent_income  ┆ ---       ┆ ---         │\n",
       "│ i64 ┆ i64     ┆ str      ┆ i64         ┆   ┆ ---         ┆ ---         ┆ i64       ┆ f64         │\n",
       "│     ┆         ┆          ┆             ┆   ┆ f64         ┆ f64         ┆           ┆             │\n",
       "╞═════╪═════════╪══════════╪═════════════╪═══╪═════════════╪═════════════╪═══════════╪═════════════╡\n",
       "│ 18  ┆ 1       ┆ Asian    ┆ 1           ┆ … ┆ 0.0         ┆ 12000.0     ┆ 0         ┆ 8156.3      │\n",
       "│ 18  ┆ 0       ┆ Black    ┆ 0           ┆ … ┆ 0.0         ┆ 12000.0     ┆ 0         ┆ 9915.55     │\n",
       "│ 32  ┆ 0       ┆ White    ┆ 1           ┆ … ┆ 99157.9     ┆ 0.0         ┆ 0         ┆ 83903.93    │\n",
       "│ 33  ┆ 1       ┆ Hispanic ┆ 1           ┆ … ┆ 0.0         ┆ 10000.0     ┆ 1         ┆ 11803.33    │\n",
       "│ 43  ┆ 0       ┆ White    ┆ 0           ┆ … ┆ 124127.2    ┆ 0.0         ┆ 1         ┆ 123086.25   │\n",
       "└─────┴─────────┴──────────┴─────────────┴───┴─────────────┴─────────────┴───────────┴─────────────┘"
      ]
     },
     "execution_count": 2,
     "metadata": {},
     "output_type": "execute_result"
    }
   ],
   "source": [
    "df = pl.read_csv(\"Datagen/dataset.csv\")\n",
    "df.head(5)"
   ]
  },
  {
   "cell_type": "markdown",
   "metadata": {},
   "source": [
    "This dataset contains information about a legislation aimed at providing accidental and medical coverage to individuals in order to increase aggregate expenditure. The underlying rationale behind the experiment is that individuals with access to medical insurance are more likely to spend money without the concern of saving for unexpected emergencies. To test this hypothesis, the government launched a pilot program through a randomized controlled trial (RCT).\n",
    "\n",
    "The dataset includes information from this RCT, designed to assess the impact of accidental and medical insurance on employment outcomes. It contains various demographic and background characteristics, such as age, education level, and prior work experience, along with treatment assignment (indicating whether an individual received medical insurance) and the outcome variable (employment status after the program).\n",
    "\n",
    "20% of the population of this experiment are treated."
   ]
  },
  {
   "cell_type": "markdown",
   "metadata": {},
   "source": [
    "## Result of Randomized Controlled Trials (RCTs) in Expenditures "
   ]
  },
  {
   "cell_type": "markdown",
   "metadata": {},
   "source": [
    "The experiment is designed with robust randomized controlled trial framework. Now, let’s examine the average treatment effect on total expenditure."
   ]
  },
  {
   "cell_type": "code",
   "execution_count": 3,
   "metadata": {},
   "outputs": [],
   "source": [
    "treated = (df\n",
    ".filter(pl.col('treatment') == 1)\n",
    ".select('expenditure').to_numpy()\n",
    ")\n",
    "\n",
    "controlled = (df\n",
    ".filter(pl.col('treatment') == 0)\n",
    ".select('expenditure').to_numpy()\n",
    ")\n"
   ]
  },
  {
   "cell_type": "markdown",
   "metadata": {},
   "source": [
    "#### Function to run  t-test and output t-test values"
   ]
  },
  {
   "cell_type": "code",
   "execution_count": 4,
   "metadata": {},
   "outputs": [],
   "source": [
    "def p_test(treated, controlled):\n",
    "    t_stat, p_val = ttest_ind(treated, controlled)\n",
    "    # Store results in a dictionary\n",
    "    results = {\n",
    "        \"Mean Expenditure (Treated)\": treated.mean(),\n",
    "        \"Mean Expenditure (Controlled)\": controlled.mean(),\n",
    "        \"T-statistic\": t_stat[0],\n",
    "        \"P-value\": p_val[0]\n",
    "    }\n",
    "\n",
    "    # Print readable output\n",
    "    print(\"T-Test Results:\")\n",
    "    for key, value in results.items():\n",
    "        print(f\"{key}: {value:.4f}\")"
   ]
  },
  {
   "cell_type": "code",
   "execution_count": 5,
   "metadata": {},
   "outputs": [
    {
     "name": "stdout",
     "output_type": "stream",
     "text": [
      "T-Test Results:\n",
      "Mean Expenditure (Treated): 54484.0057\n",
      "Mean Expenditure (Controlled): 53094.3690\n",
      "T-statistic: 2.5590\n",
      "P-value: 0.0105\n"
     ]
    }
   ],
   "source": [
    "p_test(treated,controlled)"
   ]
  },
  {
   "cell_type": "code",
   "execution_count": 6,
   "metadata": {},
   "outputs": [
    {
     "data": {
      "text/plain": [
       "1389.6367000000027"
      ]
     },
     "execution_count": 6,
     "metadata": {},
     "output_type": "execute_result"
    }
   ],
   "source": [
    "54484.0057 - 53094.3690\n"
   ]
  },
  {
   "cell_type": "markdown",
   "metadata": {},
   "source": [
    "The mean expenditure for the treatment group (those who received medical insurance) is 55484, while the mean for the control group (those without insurance) is 53094.36. The difference between the two groups is **1389.6**. With a t-statistic of **2.56** and a p-value of less than **0.051**, this difference is statistically significant. \n",
    "\n",
    "These findings suggest that having accidental and medical insurance leads to increased spending. This implies that the security of a financial safety net encourages individuals to spend more, potentially stimulating economic activity and generating a multiplier effect throughout the economy."
   ]
  },
  {
   "cell_type": "markdown",
   "metadata": {},
   "source": [
    "### Factoring for different variable"
   ]
  },
  {
   "cell_type": "markdown",
   "metadata": {},
   "source": [
    "However, the average treatment effect does not account for the heterogeneity in treatment effects across different subpopulations. Do male and female benefit equally from the program? Are there differences in treatment effects based on age, education level, or other demographic factors? \n",
    "\n",
    "I will analyze further by sub grouping the demographic variables."
   ]
  },
  {
   "cell_type": "markdown",
   "metadata": {},
   "source": [
    "### Male and Female"
   ]
  },
  {
   "cell_type": "markdown",
   "metadata": {},
   "source": [
    "#### Treatment impact on Male"
   ]
  },
  {
   "cell_type": "code",
   "execution_count": 7,
   "metadata": {},
   "outputs": [],
   "source": [
    "#Treatment and Control Impact by Gender\n",
    "treated_male = df.filter(\n",
    "    (pl.col('treatment') ==1) & (pl.col('is_male') == 1)\n",
    ").select(\"expenditure\").to_numpy()\n",
    "\n",
    "controlled_male = df.filter(\n",
    "    (pl.col('treatment')==0) & (pl.col('is_male')==1)\n",
    ").select(\"expenditure\").to_numpy()\n"
   ]
  },
  {
   "cell_type": "code",
   "execution_count": 8,
   "metadata": {},
   "outputs": [
    {
     "name": "stdout",
     "output_type": "stream",
     "text": [
      "T-Test Results:\n",
      "Mean Expenditure (Treated): 55069.0839\n",
      "Mean Expenditure (Controlled): 53402.7015\n",
      "T-statistic: 2.2370\n",
      "P-value: 0.0253\n"
     ]
    }
   ],
   "source": [
    "p_test(treated_male, controlled_male)"
   ]
  },
  {
   "cell_type": "markdown",
   "metadata": {},
   "source": [
    "#### Female"
   ]
  },
  {
   "cell_type": "markdown",
   "metadata": {},
   "source": [
    "#### Treatment impact on Female"
   ]
  },
  {
   "cell_type": "code",
   "execution_count": 9,
   "metadata": {},
   "outputs": [],
   "source": [
    "#Treatment and Control Impact by Gender\n",
    "treated_female = df.filter(\n",
    "    (pl.col('treatment') ==1) & (pl.col('is_male') == 0)\n",
    ").select(\"expenditure\").to_numpy()\n",
    "\n",
    "controlled_female = df.filter(\n",
    "    (pl.col('treatment')==0) & (pl.col('is_male')==0)\n",
    ").select(\"expenditure\").to_numpy()"
   ]
  },
  {
   "cell_type": "code",
   "execution_count": 10,
   "metadata": {},
   "outputs": [
    {
     "name": "stdout",
     "output_type": "stream",
     "text": [
      "T-Test Results:\n",
      "Mean Expenditure (Treated): 53791.6865\n",
      "Mean Expenditure (Controlled): 52723.9074\n",
      "T-statistic: 1.3470\n",
      "P-value: 0.1780\n"
     ]
    }
   ],
   "source": [
    "p_test(treated_female, controlled_female)"
   ]
  },
  {
   "cell_type": "markdown",
   "metadata": {},
   "source": [
    "The results show an increase in mean expenditure for both males and females. However, the increase is **statistically significant at the 5% level** only for males. This raises an important question: **should the program prioritize targeting males to maximize its overall impact?**"
   ]
  },
  {
   "cell_type": "markdown",
   "metadata": {},
   "source": [
    "### Employment Status"
   ]
  },
  {
   "cell_type": "markdown",
   "metadata": {},
   "source": [
    "#### Employed"
   ]
  },
  {
   "cell_type": "code",
   "execution_count": 11,
   "metadata": {},
   "outputs": [],
   "source": [
    "treated_employed = df.filter(\n",
    "    (pl.col('treatment')==1) & (pl.col('employment_status')==1)\n",
    ").select(\"expenditure\").to_numpy()\n",
    "\n",
    "controlled_employed = df.filter(\n",
    "    (pl.col('treatment')==0) & (pl.col('employment_status')==1)\n",
    ").select(\"expenditure\").to_numpy()"
   ]
  },
  {
   "cell_type": "code",
   "execution_count": 12,
   "metadata": {},
   "outputs": [
    {
     "name": "stdout",
     "output_type": "stream",
     "text": [
      "T-Test Results:\n",
      "Mean Expenditure (Treated): 88414.1740\n",
      "Mean Expenditure (Controlled): 87370.9478\n",
      "T-statistic: 1.9788\n",
      "P-value: 0.0478\n"
     ]
    }
   ],
   "source": [
    "p_test(treated_employed, controlled_employed)"
   ]
  },
  {
   "cell_type": "markdown",
   "metadata": {},
   "source": [
    "#### Unemployed"
   ]
  },
  {
   "cell_type": "code",
   "execution_count": 13,
   "metadata": {},
   "outputs": [],
   "source": [
    "treated_unemployed = df.filter(\n",
    "    (pl.col('treatment')==1) & (pl.col('employment_status')==0)\n",
    ").select(\"expenditure\").to_numpy()\n",
    "\n",
    "controlled_unemployed = df.filter(\n",
    "    (pl.col('treatment')==0) & (pl.col('employment_status')==0)\n",
    ").select(\"expenditure\").to_numpy()"
   ]
  },
  {
   "cell_type": "code",
   "execution_count": 14,
   "metadata": {},
   "outputs": [
    {
     "name": "stdout",
     "output_type": "stream",
     "text": [
      "T-Test Results:\n",
      "Mean Expenditure (Treated): 6597.3795\n",
      "Mean Expenditure (Controlled): 6236.2265\n",
      "T-statistic: 4.7301\n",
      "P-value: 0.0000\n"
     ]
    }
   ],
   "source": [
    "p_test(treated_unemployed, controlled_unemployed)"
   ]
  },
  {
   "cell_type": "markdown",
   "metadata": {},
   "source": [
    "The results indicate that both employed and unemployed individuals increase their expenditure when treated. However, the **proportional increase is greater for the unemployed**, and the **very low p-value** suggests this effect is highly statistically significant. This finding aligns with intuition—**unemployed individuals are likely to benefit more from social security support**. It's also worth noting that, on average, **unemployed individuals spend significantly less than those who are employed**, highlighting the potential for targeted interventions to reduce inequality."
   ]
  },
  {
   "cell_type": "markdown",
   "metadata": {},
   "source": [
    "#### Having house or not"
   ]
  },
  {
   "cell_type": "code",
   "execution_count": 15,
   "metadata": {},
   "outputs": [],
   "source": [
    "treated_house = df.filter(\n",
    "    (pl.col('treatment')==1) & (pl.col('ownes_house')==1)\n",
    ").select('expenditure').to_numpy()\n",
    "\n",
    "controlled_house = df.filter(\n",
    "    (pl.col('treatment')==0) & (pl.col('ownes_house')==1)\n",
    ").select('expenditure').to_numpy()"
   ]
  },
  {
   "cell_type": "code",
   "execution_count": 16,
   "metadata": {},
   "outputs": [
    {
     "name": "stdout",
     "output_type": "stream",
     "text": [
      "T-Test Results:\n",
      "Mean Expenditure (Treated): 54246.9453\n",
      "Mean Expenditure (Controlled): 53244.6892\n",
      "T-statistic: 1.0138\n",
      "P-value: 0.3107\n"
     ]
    }
   ],
   "source": [
    "p_test(treated_house, controlled_house)"
   ]
  },
  {
   "cell_type": "code",
   "execution_count": 17,
   "metadata": {},
   "outputs": [],
   "source": [
    "treated_rental = df.filter(\n",
    "    (pl.col('treatment')==1) & (pl.col('ownes_house')==0)\n",
    ").select('expenditure').to_numpy()\n",
    "\n",
    "controlled_rental = df.filter(\n",
    "    (pl.col('treatment')==0) & (pl.col('ownes_house')==0)\n",
    ").select('expenditure').to_numpy()"
   ]
  },
  {
   "cell_type": "code",
   "execution_count": 18,
   "metadata": {},
   "outputs": [
    {
     "name": "stdout",
     "output_type": "stream",
     "text": [
      "T-Test Results:\n",
      "Mean Expenditure (Treated): 54586.5793\n",
      "Mean Expenditure (Controlled): 53028.8203\n",
      "T-statistic: 2.3971\n",
      "P-value: 0.0165\n"
     ]
    }
   ],
   "source": [
    "p_test(treated_rental, controlled_rental)"
   ]
  },
  {
   "cell_type": "markdown",
   "metadata": {},
   "source": [
    "\n",
    "When comparing homeowners to renters, the data shows that **renters experience a more significant increase in expenditure** after receiving the treatment. This result isn't surprising—**owning a home is often an indicator of greater financial stability and existing spending power**. In contrast, **renters may benefit more from additional support**, as they might have more immediate needs and fewer financial resources."
   ]
  },
  {
   "cell_type": "markdown",
   "metadata": {},
   "source": [
    "### Further Subgroup Analysis"
   ]
  },
  {
   "cell_type": "markdown",
   "metadata": {},
   "source": [
    "\n",
    "Now, let’s take the subgroup analysis a step further. What happens when we combine characteristics—like looking at treatment effects based on both **gender** and **employment status**? For instance, how does a **treated male who is unemployed** compare to a **treated female who is also unemployed** and **treated male who is employed** vs **treated female who is also unemployed** and in terms of expenditure change? These combinations open the door to a wide range of targeted insights and questions. While the number of subgroups increases quickly, analyzing just this one example illustrates the potential of more granular policy targeting."
   ]
  },
  {
   "cell_type": "markdown",
   "metadata": {},
   "source": [
    "#### For employed and gender"
   ]
  },
  {
   "cell_type": "code",
   "execution_count": 19,
   "metadata": {},
   "outputs": [],
   "source": [
    "#Treated female and employed\n",
    "treated_female_employed = df.filter(\n",
    "    (pl.col('treatment') ==1) & (pl.col('is_male') == 0) & (pl.col('employment_status')==1)\n",
    ").select(\"expenditure\").to_numpy()\n",
    "\n",
    "controlled_female_employed = df.filter(\n",
    "    (pl.col('treatment')==0) & (pl.col('is_male')==0) & (pl.col('employment_status')==1)\n",
    ").select(\"expenditure\").to_numpy()\n",
    "\n",
    "#Treated male and employed\n",
    "treated_male_employed = df.filter(\n",
    "    (pl.col('treatment') ==1) & (pl.col('is_male') == 1) & (pl.col('employment_status')==1)\n",
    ").select(\"expenditure\").to_numpy()\n",
    "\n",
    "#Control male and employed\n",
    "controlled_male_employed = df.filter(\n",
    "    (pl.col('treatment')==0) & (pl.col('is_male')==0) & (pl.col('employment_status')==1)\n",
    ").select(\"expenditure\").to_numpy()"
   ]
  },
  {
   "cell_type": "code",
   "execution_count": 20,
   "metadata": {},
   "outputs": [
    {
     "name": "stdout",
     "output_type": "stream",
     "text": [
      "T-Test Results:\n",
      "Mean Expenditure (Treated): 86569.4846\n",
      "Mean Expenditure (Controlled): 86407.3314\n",
      "T-statistic: 0.2111\n",
      "P-value: 0.8328\n"
     ]
    }
   ],
   "source": [
    "p_test(treated_female_employed, controlled_female_employed)"
   ]
  },
  {
   "cell_type": "code",
   "execution_count": 21,
   "metadata": {},
   "outputs": [
    {
     "name": "stdout",
     "output_type": "stream",
     "text": [
      "T-Test Results:\n",
      "Mean Expenditure (Treated): 89997.0778\n",
      "Mean Expenditure (Controlled): 86407.3314\n",
      "T-statistic: 4.9218\n",
      "P-value: 0.0000\n"
     ]
    }
   ],
   "source": [
    "p_test(treated_male_employed, controlled_male_employed)"
   ]
  },
  {
   "cell_type": "markdown",
   "metadata": {},
   "source": [
    "Among the employed group, we observe that expenditure rises significantly for males, but shows almost no change for females. Earlier, we saw that while being employed generally increases expenditure, and being female does not, the combination of the two suggests that gender has a stronger influence on expenditure than employment status—at least in this case. As a result, the expenditure increase for employed females is not statistically significant.\n",
    "\n",
    "This could be due to several factors: for example, the proportion of females who are employed may be smaller, or their average earnings might be lower. If female incomes are relatively modest, the income effect from employment might not be strong enough to significantly boost expenditure within this subgroup."
   ]
  },
  {
   "cell_type": "markdown",
   "metadata": {},
   "source": [
    "#### For unemployed and gender"
   ]
  },
  {
   "cell_type": "code",
   "execution_count": 22,
   "metadata": {},
   "outputs": [],
   "source": [
    "#Treated female and employed\n",
    "treated_female_unemployed = df.filter(\n",
    "    (pl.col('treatment') ==1) & (pl.col('is_male') == 0) & (pl.col('employment_status')==0)\n",
    ").select(\"expenditure\").to_numpy()\n",
    "\n",
    "controlled_female_unemployed = df.filter(\n",
    "    (pl.col('treatment')==0) & (pl.col('is_male')==0) & (pl.col('employment_status')==0)\n",
    ").select(\"expenditure\").to_numpy()\n",
    "\n",
    "#Treated male and employed\n",
    "treated_male_unemployed = df.filter(\n",
    "    (pl.col('treatment') ==1) & (pl.col('is_male') == 1) & (pl.col('employment_status')==0)\n",
    ").select(\"expenditure\").to_numpy()\n",
    "\n",
    "#Control male and employed\n",
    "controlled_male_unemployed = df.filter(\n",
    "    (pl.col('treatment')==0) & (pl.col('is_male')==0) & (pl.col('employment_status')==0)\n",
    ").select(\"expenditure\").to_numpy()"
   ]
  },
  {
   "cell_type": "code",
   "execution_count": 23,
   "metadata": {},
   "outputs": [
    {
     "name": "stdout",
     "output_type": "stream",
     "text": [
      "T-Test Results:\n",
      "Mean Expenditure (Treated): 6597.8874\n",
      "Mean Expenditure (Controlled): 6227.8678\n",
      "T-statistic: 3.2483\n",
      "P-value: 0.0012\n"
     ]
    }
   ],
   "source": [
    "p_test(treated_female_unemployed, controlled_female_unemployed)"
   ]
  },
  {
   "cell_type": "code",
   "execution_count": 24,
   "metadata": {},
   "outputs": [
    {
     "name": "stdout",
     "output_type": "stream",
     "text": [
      "T-Test Results:\n",
      "Mean Expenditure (Treated): 6596.9595\n",
      "Mean Expenditure (Controlled): 6227.8678\n",
      "T-statistic: 3.4971\n",
      "P-value: 0.0005\n"
     ]
    }
   ],
   "source": [
    "p_test(treated_male_unemployed, controlled_male_unemployed)"
   ]
  },
  {
   "cell_type": "markdown",
   "metadata": {},
   "source": [
    "Among the unemployed, the treatment has a significant impact on expenditure for both males and females. In fact, the increase in expenditure for unemployed females is nearly as large as it is for unemployed males. This is a particularly interesting observation, as it contrasts with the results from the employed group—where the impact was only significant for males.\n",
    "\n",
    "This raises further questions. There are many possible ways to subgroup the population to better understand who benefits the most from the treatment. However, such analysis involves extensive filtering and coding, which can be time-consuming and complex.\n",
    "\n",
    "A more efficient approach is to run a linear regression model. This allows us to control for multiple variables simultaneously and assess how each factor influences the outcome. As we continue, I will explore how we can use this model to identify individuals who benefit the most from the treatment—and how such insights can help us design more targeted and effective interventions in the future."
   ]
  },
  {
   "cell_type": "markdown",
   "metadata": {},
   "source": [
    "## Linear Model"
   ]
  },
  {
   "cell_type": "markdown",
   "metadata": {},
   "source": [
    "The RCT results demonstrated that the treatment is effective, and subgroup analysis confirmed its broad impact across different types of people. Now, we can conduct further analysis using linear regression. Linear regression will help us quantify the impact of each variable and determine whether these variables are significant in predicting expenditure.  \n",
    "\n",
    "Unlike simple mean comparisons between treatment and control groups, a linear regression model allows us to estimate the impact of multiple variables simultaneously. This approach provides a more precise measure of the treatment effect while accounting for potential confounding factors such as age, education level, previous work experience, and employment status. By incorporating all available variables, the model helps us isolate the true effect of medical insurance on expenditure and identify key determinants of spending behavior.  \n",
    "\n",
    "This deeper analysis will provide a more nuanced understanding of how different factors interact, offering valuable insights for policymakers and stakeholders looking to design effective interventions."
   ]
  },
  {
   "cell_type": "markdown",
   "metadata": {},
   "source": [
    "#### Using pyrsm package to port R's statistical output"
   ]
  },
  {
   "cell_type": "markdown",
   "metadata": {},
   "source": [
    "The scikit-learn (sklearn) package is excellent for machine learning but lacks detailed statistical outputs that can be useful for interpretation and analysis. Instead, I will use the pyrsm library, which brings R's comprehensive statistical output capabilities into the Python environment. "
   ]
  },
  {
   "cell_type": "code",
   "execution_count": 25,
   "metadata": {},
   "outputs": [],
   "source": [
    "import pyrsm as rsm"
   ]
  },
  {
   "cell_type": "code",
   "execution_count": 26,
   "metadata": {},
   "outputs": [
    {
     "name": "stdout",
     "output_type": "stream",
     "text": [
      "Linear regression (OLS)\n",
      "Data                 : df\n",
      "Response variable    : expenditure\n",
      "Explanatory variables: age, is_male, race, ownes_house, employment_status, employment_income, non_employment_income, treatment\n",
      "Null hyp.: the effect of x on expenditure is zero\n",
      "Alt. hyp.: the effect of x on expenditure is not zero\n",
      "\n",
      "                       coefficient  std.error  t.value p.value     \n",
      "Intercept                 3850.909    136.758   28.159  < .001  ***\n",
      "race[Black]                107.962    109.759    0.984   0.325     \n",
      "race[Hispanic]             -33.703    100.479   -0.335   0.737     \n",
      "race[Other]                -34.561    146.886   -0.235   0.814     \n",
      "race[White]                 77.972     93.923    0.830   0.406     \n",
      "age                          3.768      4.007    0.940   0.347     \n",
      "is_male                     29.948     53.792    0.557   0.578     \n",
      "ownes_house                 32.166     58.227    0.552   0.581     \n",
      "employment_status        -5190.535    147.308  -35.236  < .001  ***\n",
      "employment_income            0.791      0.002  484.726  < .001  ***\n",
      "non_employment_income        0.452      0.005   89.245  < .001  ***\n",
      "treatment                 1032.977     66.697   15.488  < .001  ***\n",
      "\n",
      "Signif. codes:  0 '***' 0.001 '**' 0.01 '*' 0.05 '.' 0.1 ' ' 1\n",
      "\n",
      "R-squared: 0.985, Adjusted R-squared: 0.985\n",
      "F-statistic: 296844.601 df(11, 49988), p.value < 0.001\n",
      "Nr obs: 50,000\n",
      "\n",
      "Sum of squares:\n",
      "\n",
      "                df                   SS\n",
      "Regression      11  116,958,762,807,242\n",
      "Error       49,988    1,790,509,736,701\n",
      "Total       49,999  118,749,272,543,943\n",
      "\n",
      "Root Mean Square Error (RMSE):\n",
      "5984.162\n"
     ]
    }
   ],
   "source": [
    "#using rsm\n",
    "feature_names = df.drop('expenditure').columns\n",
    "dfp = df.to_pandas() #note that pyrsm requires pandas dataframe, I could not find a way to run it on polars dataframe\n",
    "rsm.model.regress({\"df\":dfp},rvar=\"expenditure\",evar=feature_names).summary(rmse=True, ssq= True)"
   ]
  },
  {
   "cell_type": "markdown",
   "metadata": {},
   "source": [
    "##### Summary of Linear Regression (OLS) Results\n",
    "The linear regression model evaluates the impact of various factors on expenditure, using a dataset of 50,000 observations. The R-squared value of 0.985indicates that the model explains 97.8% of the variance in expenditure, suggesting a strong fit.\n",
    "\n",
    "Key Findings:\n",
    "- Income Matters Most: Both employment and non-employment income are strongly predictive of expenditure. This is economically intuitive.\n",
    "\n",
    "- Treatment Works: The treatment is statistically and practically significant, with a ~$1,032 increase in expenditure on average. This supports rolling out the program more broadly.\n",
    "\n",
    "- Unemployment Reduces Spending: Being unemployed strongly reduces expenditure, suggesting vulnerable populations benefit the most.\n",
    "\n",
    "- Demographics Less Relevant: Race, gender, age, and home ownership are not statistically significant in this model. Their effects on expenditure are relatively minor or inconsistent."
   ]
  },
  {
   "cell_type": "markdown",
   "metadata": {},
   "source": [
    "### Only treated people vs Not Treated people\n",
    "\n",
    "From the regression output, we can observe how the treatment effect significantly impacts expenditure. However, it would be interesting to explore what the outcome would have been if the treatment had never been implemented.\n",
    "\n",
    "To begin, let's run a regression model that excludes the treatment variable. I'll divide the dataset into two groups: the treated group and the control group, and then run a separate regression for each group. By excluding the treatment variable, we can assess how the other predictors affect expenditure in both the presence and absence of the treatment.\n",
    "\n",
    "After running both regressions, we can compare the results to see if there are any notable differences in the predictors between the treated and control groups. This will help us understand how the treatment may have altered the relationships between the predictors and expenditure."
   ]
  },
  {
   "cell_type": "code",
   "execution_count": 27,
   "metadata": {},
   "outputs": [],
   "source": [
    "df_treated = df.filter(pl.col('treatment')==1).drop('treatment')\n",
    "df_controled = df.filter(pl.col('treatment')==0).drop('treatment')"
   ]
  },
  {
   "cell_type": "markdown",
   "metadata": {},
   "source": [
    "#### Linear Regression for treated group only"
   ]
  },
  {
   "cell_type": "code",
   "execution_count": 28,
   "metadata": {},
   "outputs": [
    {
     "name": "stdout",
     "output_type": "stream",
     "text": [
      "Linear regression (OLS)\n",
      "Data                 : df treated\n",
      "Response variable    : expenditure\n",
      "Explanatory variables: age, is_male, race, ownes_house, employment_status, employment_income, non_employment_income\n",
      "Null hyp.: the effect of x on expenditure is zero\n",
      "Alt. hyp.: the effect of x on expenditure is not zero\n",
      "\n",
      "                       coefficient  std.error  t.value p.value     \n",
      "Intercept                 4162.760    455.904    9.131  < .001  ***\n",
      "race[Black]                213.500    367.206    0.581   0.561     \n",
      "race[Hispanic]            -231.865    336.747   -0.689   0.491     \n",
      "race[Other]               -301.942    484.381   -0.623   0.533     \n",
      "race[White]                298.268    313.562    0.951   0.342     \n",
      "age                          6.084     13.904    0.438   0.662     \n",
      "is_male                    183.949    181.840    1.012   0.312     \n",
      "ownes_house                249.373    197.138    1.265   0.206     \n",
      "employment_status        -5313.958    503.319  -10.558  < .001  ***\n",
      "employment_income            0.799      0.006  141.805  < .001  ***\n",
      "non_employment_income        0.448      0.017   26.164  < .001  ***\n",
      "\n",
      "Signif. codes:  0 '***' 0.001 '**' 0.01 '*' 0.05 '.' 0.1 ' ' 1\n",
      "\n",
      "R-squared: 0.966, Adjusted R-squared: 0.966\n",
      "F-statistic: 28984.027 df(10, 10078), p.value < 0.001\n",
      "Nr obs: 10,089\n",
      "\n",
      "Sum of squares:\n",
      "\n",
      "                df                  SS\n",
      "Regression      10  23,935,487,758,246\n",
      "Error       10,078     832,257,856,643\n",
      "Total       10,088  24,767,745,614,889\n",
      "\n",
      "Root Mean Square Error (RMSE):\n",
      "9082.489\n"
     ]
    }
   ],
   "source": [
    "feature_names_noTreat = df.drop('expenditure','treatment').columns\n",
    "dft = df_treated.to_pandas()\n",
    "rsm.model.regress({\"df treated\":dft},rvar=\"expenditure\",evar=feature_names_noTreat).summary(rmse=True, ssq= True)"
   ]
  },
  {
   "cell_type": "markdown",
   "metadata": {},
   "source": [
    "#### Linear Regression for control group only"
   ]
  },
  {
   "cell_type": "code",
   "execution_count": 29,
   "metadata": {},
   "outputs": [
    {
     "name": "stdout",
     "output_type": "stream",
     "text": [
      "Linear regression (OLS)\n",
      "Data                 : df controled\n",
      "Response variable    : expenditure\n",
      "Explanatory variables: age, is_male, race, ownes_house, employment_status, employment_income, non_employment_income\n",
      "Null hyp.: the effect of x on expenditure is zero\n",
      "Alt. hyp.: the effect of x on expenditure is not zero\n",
      "\n",
      "                       coefficient  std.error  t.value p.value     \n",
      "Intercept                 4041.565    124.726   32.403  < .001  ***\n",
      "race[Black]                 76.733    100.666    0.762   0.446     \n",
      "race[Hispanic]               5.172     92.121    0.056   0.955     \n",
      "race[Other]                 26.784    135.233    0.198   0.843     \n",
      "race[White]                 17.063     86.185    0.198   0.843     \n",
      "age                          2.992      3.642    0.822   0.411     \n",
      "is_male                    -10.469     49.204   -0.213   0.832     \n",
      "ownes_house                -19.927     53.237   -0.374   0.708     \n",
      "employment_status        -5161.413    134.406  -38.402  < .001  ***\n",
      "employment_income            0.789      0.001  531.340  < .001  ***\n",
      "non_employment_income        0.453      0.005   97.739  < .001  ***\n",
      "\n",
      "Signif. codes:  0 '***' 0.001 '**' 0.01 '*' 0.05 '.' 0.1 ' ' 1\n",
      "\n",
      "R-squared: 0.99, Adjusted R-squared: 0.99\n",
      "F-statistic: 388910.338 df(10, 39900), p.value < 0.001\n",
      "Nr obs: 39,911\n",
      "\n",
      "Sum of squares:\n",
      "\n",
      "                df                  SS\n",
      "Regression      10  93,011,727,698,075\n",
      "Error       39,900     954,247,694,975\n",
      "Total       39,910  93,965,975,393,050\n",
      "\n",
      "Root Mean Square Error (RMSE):\n",
      "4889.723\n"
     ]
    }
   ],
   "source": [
    "dfc = df_controled.to_pandas()\n",
    "rsm.model.regress({\"df controled\":dfc},rvar=\"expenditure\",evar=feature_names_noTreat).summary(rmse=True, ssq= True)"
   ]
  },
  {
   "cell_type": "markdown",
   "metadata": {},
   "source": [
    "\n",
    "#### Overall Model Comparison\n",
    "\n",
    " Both models explain a very large proportion of variance in expenditure, with very high F-statistics, suggesting the models are statistically significant. However, the treated group has a higher Root Mean Square Error (RMSE) of 9,082.49 compared to the control group's 4,839.51. This indicates that there is more variability in the expenditure outcomes for the treated group compared to the control group.\n",
    "\n",
    "Variable-Level Comparison\n",
    "\n",
    "Gender (is_male)\n",
    "In the treated group, the coefficient for gender is 183.95 with a p-value of 0.312, which is not statistically significant. Similarly, in the control group, the coefficient for gender is -16.97 with a p-value of 0.727, also not significant. This suggests that gender does not significantly influence expenditure in either group.\n",
    "\n",
    "Home Ownership (ownes_house)\n",
    "In the treated group, the coefficient for homeownership is 249.37 with a p-value of 0.206, which is not significant. In the control group, the coefficient for homeownership is 36.10 with a p-value of 0.494, also not significant. Thus, owning a house does not significantly affect expenditure in either group.\n",
    "\n",
    "Employment Status\n",
    "In both the treated and control groups, employment status has a highly significant negative impact on expenditure. The coefficients for employment status are -5,313.96 (p < 0.001) in the treated group and -5,212.03 (p < 0.001) in the control group, indicating that unemployment significantly reduces expenditure in both groups. The magnitude of the coefficient is almost identical for both groups, suggesting that unemployment remains a crucial factor regardless of treatment.\n",
    "\n",
    "Employment Income\n",
    "In both groups, employment income has a significant positive effect on expenditure. The coefficient for employment income in the treated group is 0.799 (p < 0.001), and in the control group, it is 0.699 (p < 0.001). This means that for every additional dollar of employment income, expenditure increases by approximately 70-80 cents. The effect of employment income is slightly stronger for the treated group, indicating that treatment may amplify the effect of income on expenditure.\n",
    "\n",
    "Non-Employment Income\n",
    "In both the treated and control groups, non-employment income also has a significant positive impact on expenditure. The coefficients for non-employment income are 0.448 (p < 0.001) in the treated group and 0.446 (p < 0.001) in the control group, which suggests that non-employment income consistently increases expenditure in both groups.\n",
    "\n",
    "Age\n",
    "The coefficient for age in both the treated and control groups is not statistically significant. In the treated group, the coefficient is 6.08 (p = 0.662), and in the control group, it is 0.93 (p = 0.794). This suggests that age does not have a significant effect on expenditure in either group.\n",
    "\n",
    "Race\n",
    "Race does not significantly influence expenditure in either group, except for a marginally significant result for race[White] in the control group, where the coefficient is 166.09 (p = 0.049). In the treated group, no racial category shows a significant difference in expenditure. Therefore, race has minimal to no impact on expenditure in both groups.\n",
    "\n",
    "Key Takeaways\n",
    "\n",
    "1. **Income (especially employment income)** is the most important predictor of spending in both groups.\n",
    "2. **Unemployment** significantly reduces expenditure in both groups, indicating that employment support is critical for increasing expenditure.\n",
    "3. The effect of treatment appears to increase income sensitivity, especially for employment income, meaning that treated individuals tend to respond more strongly to income changes.\n",
    "4. The treated individuals have more variability in spending (higher RMSE), which may be due to the different ways they respond to the intervention.\n",
    "5. **Demographics like gender, age, and race** do not significantly explain expenditure differences within either group, post-treatment or in control.\n",
    "\n",
    "Policy Implications\n",
    "\n",
    "1. Targeting individuals based on **employment status and income** is likely the most effective strategy for increasing expenditure.\n",
    "2. A **randomized treatment across demographic groups** appears equitable, as there is no strong evidence of a demographic bias in how the treatment influences expenditure.\n",
    "3. The treatment program has the potential to increase spending, but not equally for everyone—income and employment status are the most critical factors.\n",
    "4. To refine targeting strategies, further analysis should consider **interaction terms**, such as treatment × employment status, to capture more nuanced effects."
   ]
  },
  {
   "cell_type": "markdown",
   "metadata": {},
   "source": [
    "##### Predicting Expenditure with Linear Regression\n",
    "\n",
    "Although we have gained valuable insights into how each variable impacts the coefficients in our regression models, we can take the analysis a step further. To enhance our understanding, we will now use Scikit-Learn to fit a linear regression model and evaluate its predictive capabilities. By leveraging Scikit-Learn, we can assess the model's performance using various metrics such as R-squared, Mean Squared Error (MSE), and others. This will allow us to better understand how well the model generalizes to new data, which is crucial for making data-driven decisions in policy interventions.\n",
    "\n",
    "[Note: We are using the full dataset here, which includes both treated and control groups.]"
   ]
  },
  {
   "cell_type": "code",
   "execution_count": 30,
   "metadata": {},
   "outputs": [],
   "source": [
    "from sklearn.linear_model import LinearRegression,Ridge, Lasso\n",
    "from sklearn.preprocessing import LabelEncoder\n",
    "from sklearn.model_selection import train_test_split\n"
   ]
  },
  {
   "cell_type": "code",
   "execution_count": 31,
   "metadata": {},
   "outputs": [],
   "source": [
    "#### One Hot encoding categorical variables\n",
    "race_array = df['race'].to_numpy()\n",
    "label_encoder = LabelEncoder()\n",
    "race_encoded = label_encoder.fit_transform(race_array)\n",
    "X = df.with_columns(pl.Series('race_encoded', race_encoded))\n",
    "X = X.drop('race')\n",
    "y = X['expenditure']"
   ]
  },
  {
   "cell_type": "code",
   "execution_count": 32,
   "metadata": {},
   "outputs": [
    {
     "data": {
      "text/html": [
       "<div><style>\n",
       ".dataframe > thead > tr,\n",
       ".dataframe > tbody > tr {\n",
       "  text-align: right;\n",
       "  white-space: pre-wrap;\n",
       "}\n",
       "</style>\n",
       "<small>shape: (5, 9)</small><table border=\"1\" class=\"dataframe\"><thead><tr><th>age</th><th>is_male</th><th>ownes_house</th><th>employment_status</th><th>employment_income</th><th>non_employment_income</th><th>treatment</th><th>expenditure</th><th>race_encoded</th></tr><tr><td>i64</td><td>i64</td><td>i64</td><td>i64</td><td>f64</td><td>f64</td><td>i64</td><td>f64</td><td>i32</td></tr></thead><tbody><tr><td>18</td><td>1</td><td>1</td><td>0</td><td>0.0</td><td>12000.0</td><td>0</td><td>8156.3</td><td>0</td></tr><tr><td>18</td><td>0</td><td>0</td><td>0</td><td>0.0</td><td>12000.0</td><td>0</td><td>9915.55</td><td>1</td></tr><tr><td>32</td><td>0</td><td>1</td><td>1</td><td>99157.9</td><td>0.0</td><td>0</td><td>83903.93</td><td>4</td></tr><tr><td>33</td><td>1</td><td>1</td><td>0</td><td>0.0</td><td>10000.0</td><td>1</td><td>11803.33</td><td>2</td></tr><tr><td>43</td><td>0</td><td>0</td><td>1</td><td>124127.2</td><td>0.0</td><td>1</td><td>123086.25</td><td>4</td></tr></tbody></table></div>"
      ],
      "text/plain": [
       "shape: (5, 9)\n",
       "┌─────┬─────────┬─────────────┬─────────────┬───┬────────────┬───────────┬────────────┬────────────┐\n",
       "│ age ┆ is_male ┆ ownes_house ┆ employment_ ┆ … ┆ non_employ ┆ treatment ┆ expenditur ┆ race_encod │\n",
       "│ --- ┆ ---     ┆ ---         ┆ status      ┆   ┆ ment_incom ┆ ---       ┆ e          ┆ ed         │\n",
       "│ i64 ┆ i64     ┆ i64         ┆ ---         ┆   ┆ e          ┆ i64       ┆ ---        ┆ ---        │\n",
       "│     ┆         ┆             ┆ i64         ┆   ┆ ---        ┆           ┆ f64        ┆ i32        │\n",
       "│     ┆         ┆             ┆             ┆   ┆ f64        ┆           ┆            ┆            │\n",
       "╞═════╪═════════╪═════════════╪═════════════╪═══╪════════════╪═══════════╪════════════╪════════════╡\n",
       "│ 18  ┆ 1       ┆ 1           ┆ 0           ┆ … ┆ 12000.0    ┆ 0         ┆ 8156.3     ┆ 0          │\n",
       "│ 18  ┆ 0       ┆ 0           ┆ 0           ┆ … ┆ 12000.0    ┆ 0         ┆ 9915.55    ┆ 1          │\n",
       "│ 32  ┆ 0       ┆ 1           ┆ 1           ┆ … ┆ 0.0        ┆ 0         ┆ 83903.93   ┆ 4          │\n",
       "│ 33  ┆ 1       ┆ 1           ┆ 0           ┆ … ┆ 10000.0    ┆ 1         ┆ 11803.33   ┆ 2          │\n",
       "│ 43  ┆ 0       ┆ 0           ┆ 1           ┆ … ┆ 0.0        ┆ 1         ┆ 123086.25  ┆ 4          │\n",
       "└─────┴─────────┴─────────────┴─────────────┴───┴────────────┴───────────┴────────────┴────────────┘"
      ]
     },
     "execution_count": 32,
     "metadata": {},
     "output_type": "execute_result"
    }
   ],
   "source": [
    "X.head()"
   ]
  },
  {
   "cell_type": "code",
   "execution_count": 33,
   "metadata": {},
   "outputs": [],
   "source": [
    "lr = LinearRegression()\n",
    "X_train, X_test, y_train, y_test = train_test_split(X.drop('expenditure'),y,test_size=0.25,random_state=99)\n",
    "feature_names = X_train.columns"
   ]
  },
  {
   "cell_type": "code",
   "execution_count": 34,
   "metadata": {},
   "outputs": [],
   "source": [
    "reg = lr.fit(X_train,y_train)"
   ]
  },
  {
   "cell_type": "code",
   "execution_count": 35,
   "metadata": {},
   "outputs": [
    {
     "data": {
      "text/plain": [
       "{'Intercept': 3750.045833338423,\n",
       " 'age': 5.223903310191677,\n",
       " 'is_male': 71.87384429801835,\n",
       " 'ownes_house': 72.56523430901153,\n",
       " 'employment_status': -5199.925387378324,\n",
       " 'employment_income': 0.7909507960945765,\n",
       " 'non_employment_income': 0.4556498400688992,\n",
       " 'treatment': 1109.6872684667007,\n",
       " 'race_encoded': 15.518792544321574}"
      ]
     },
     "execution_count": 35,
     "metadata": {},
     "output_type": "execute_result"
    }
   ],
   "source": [
    "# Get feature names and coefficients\n",
    "{'Intercept': reg.intercept_, \n",
    "              **{feature_names[i]: reg.coef_[i] for i in range(len(feature_names))}}\n",
    "\n"
   ]
  },
  {
   "cell_type": "markdown",
   "metadata": {},
   "source": [
    "The values are slightly different since the training set is now different from the full set that I used before"
   ]
  },
  {
   "cell_type": "code",
   "execution_count": 36,
   "metadata": {},
   "outputs": [],
   "source": [
    "predicted_expenditure = reg.predict(X_test)"
   ]
  },
  {
   "cell_type": "code",
   "execution_count": 37,
   "metadata": {},
   "outputs": [
    {
     "data": {
      "text/html": [
       "<div><style>\n",
       ".dataframe > thead > tr,\n",
       ".dataframe > tbody > tr {\n",
       "  text-align: right;\n",
       "  white-space: pre-wrap;\n",
       "}\n",
       "</style>\n",
       "<small>shape: (12_500, 10)</small><table border=\"1\" class=\"dataframe\"><thead><tr><th>age</th><th>is_male</th><th>ownes_house</th><th>employment_status</th><th>employment_income</th><th>non_employment_income</th><th>treatment</th><th>race_encoded</th><th>actual_expenditure</th><th>pred_expenditure</th></tr><tr><td>i64</td><td>i64</td><td>i64</td><td>i64</td><td>f64</td><td>f64</td><td>i64</td><td>i32</td><td>f64</td><td>f64</td></tr></thead><tbody><tr><td>50</td><td>1</td><td>0</td><td>1</td><td>147487.0</td><td>10000.0</td><td>0</td><td>1</td><td>125990.96</td><td>120110.166713</td></tr><tr><td>60</td><td>1</td><td>0</td><td>1</td><td>172787.8</td><td>0.0</td><td>1</td><td>4</td><td>144926.01</td><td>136773.838893</td></tr><tr><td>70</td><td>1</td><td>1</td><td>1</td><td>181656.4</td><td>0.0</td><td>1</td><td>4</td><td>171010.97</td><td>143913.269391</td></tr><tr><td>18</td><td>0</td><td>1</td><td>1</td><td>62453.2</td><td>0.0</td><td>0</td><td>1</td><td>49217.38</td><td>48129.642991</td></tr><tr><td>27</td><td>0</td><td>1</td><td>0</td><td>0.0</td><td>0.0</td><td>0</td><td>2</td><td>2779.7</td><td>3994.694042</td></tr><tr><td>&hellip;</td><td>&hellip;</td><td>&hellip;</td><td>&hellip;</td><td>&hellip;</td><td>&hellip;</td><td>&hellip;</td><td>&hellip;</td><td>&hellip;</td><td>&hellip;</td></tr><tr><td>48</td><td>1</td><td>0</td><td>0</td><td>0.0</td><td>0.0</td><td>0</td><td>2</td><td>2446.25</td><td>4103.704622</td></tr><tr><td>30</td><td>0</td><td>0</td><td>0</td><td>0.0</td><td>10000.0</td><td>0</td><td>4</td><td>10354.48</td><td>8525.336504</td></tr><tr><td>22</td><td>0</td><td>0</td><td>0</td><td>0.0</td><td>0.0</td><td>1</td><td>2</td><td>2929.6</td><td>5005.69656</td></tr><tr><td>27</td><td>1</td><td>0</td><td>0</td><td>0.0</td><td>0.0</td><td>0</td><td>1</td><td>2500.35</td><td>3978.48386</td></tr><tr><td>47</td><td>1</td><td>0</td><td>1</td><td>143596.4</td><td>0.0</td><td>1</td><td>1</td><td>111897.35</td><td>113570.410703</td></tr></tbody></table></div>"
      ],
      "text/plain": [
       "shape: (12_500, 10)\n",
       "┌─────┬─────────┬─────────────┬─────────────┬───┬───────────┬────────────┬────────────┬────────────┐\n",
       "│ age ┆ is_male ┆ ownes_house ┆ employment_ ┆ … ┆ treatment ┆ race_encod ┆ actual_exp ┆ pred_expen │\n",
       "│ --- ┆ ---     ┆ ---         ┆ status      ┆   ┆ ---       ┆ ed         ┆ enditure   ┆ diture     │\n",
       "│ i64 ┆ i64     ┆ i64         ┆ ---         ┆   ┆ i64       ┆ ---        ┆ ---        ┆ ---        │\n",
       "│     ┆         ┆             ┆ i64         ┆   ┆           ┆ i32        ┆ f64        ┆ f64        │\n",
       "╞═════╪═════════╪═════════════╪═════════════╪═══╪═══════════╪════════════╪════════════╪════════════╡\n",
       "│ 50  ┆ 1       ┆ 0           ┆ 1           ┆ … ┆ 0         ┆ 1          ┆ 125990.96  ┆ 120110.166 │\n",
       "│     ┆         ┆             ┆             ┆   ┆           ┆            ┆            ┆ 713        │\n",
       "│ 60  ┆ 1       ┆ 0           ┆ 1           ┆ … ┆ 1         ┆ 4          ┆ 144926.01  ┆ 136773.838 │\n",
       "│     ┆         ┆             ┆             ┆   ┆           ┆            ┆            ┆ 893        │\n",
       "│ 70  ┆ 1       ┆ 1           ┆ 1           ┆ … ┆ 1         ┆ 4          ┆ 171010.97  ┆ 143913.269 │\n",
       "│     ┆         ┆             ┆             ┆   ┆           ┆            ┆            ┆ 391        │\n",
       "│ 18  ┆ 0       ┆ 1           ┆ 1           ┆ … ┆ 0         ┆ 1          ┆ 49217.38   ┆ 48129.6429 │\n",
       "│     ┆         ┆             ┆             ┆   ┆           ┆            ┆            ┆ 91         │\n",
       "│ 27  ┆ 0       ┆ 1           ┆ 0           ┆ … ┆ 0         ┆ 2          ┆ 2779.7     ┆ 3994.69404 │\n",
       "│     ┆         ┆             ┆             ┆   ┆           ┆            ┆            ┆ 2          │\n",
       "│ …   ┆ …       ┆ …           ┆ …           ┆ … ┆ …         ┆ …          ┆ …          ┆ …          │\n",
       "│ 48  ┆ 1       ┆ 0           ┆ 0           ┆ … ┆ 0         ┆ 2          ┆ 2446.25    ┆ 4103.70462 │\n",
       "│     ┆         ┆             ┆             ┆   ┆           ┆            ┆            ┆ 2          │\n",
       "│ 30  ┆ 0       ┆ 0           ┆ 0           ┆ … ┆ 0         ┆ 4          ┆ 10354.48   ┆ 8525.33650 │\n",
       "│     ┆         ┆             ┆             ┆   ┆           ┆            ┆            ┆ 4          │\n",
       "│ 22  ┆ 0       ┆ 0           ┆ 0           ┆ … ┆ 1         ┆ 2          ┆ 2929.6     ┆ 5005.69656 │\n",
       "│ 27  ┆ 1       ┆ 0           ┆ 0           ┆ … ┆ 0         ┆ 1          ┆ 2500.35    ┆ 3978.48386 │\n",
       "│ 47  ┆ 1       ┆ 0           ┆ 1           ┆ … ┆ 1         ┆ 1          ┆ 111897.35  ┆ 113570.410 │\n",
       "│     ┆         ┆             ┆             ┆   ┆           ┆            ┆            ┆ 703        │\n",
       "└─────┴─────────┴─────────────┴─────────────┴───┴───────────┴────────────┴────────────┴────────────┘"
      ]
     },
     "execution_count": 37,
     "metadata": {},
     "output_type": "execute_result"
    }
   ],
   "source": [
    "result = X_test.with_columns(\n",
    "    pl.Series(y_test).alias('actual_expenditure'),\n",
    "    pl.Series(predicted_expenditure).alias('pred_expenditure')\n",
    "    \n",
    ")\n",
    "result"
   ]
  },
  {
   "cell_type": "markdown",
   "metadata": {},
   "source": [
    "The dataset above shows the predicted expenditure values. Let's check out how much error it makes in the test set and if it is fit for further analysis."
   ]
  },
  {
   "cell_type": "markdown",
   "metadata": {},
   "source": [
    "The root mean square error between actual expenditure and predicted expenditure"
   ]
  },
  {
   "cell_type": "code",
   "execution_count": 38,
   "metadata": {},
   "outputs": [
    {
     "name": "stdout",
     "output_type": "stream",
     "text": [
      "Mean Squared Error: 35906504.080156565\n",
      "Root Mean Squared Error: 5992.203608035742\n"
     ]
    }
   ],
   "source": [
    "mse = mean_squared_error(y_test, predicted_expenditure)\n",
    "rmse = mse ** 0.5\n",
    "print(\"Mean Squared Error:\", mse)\n",
    "print(\"Root Mean Squared Error:\", rmse)"
   ]
  },
  {
   "cell_type": "markdown",
   "metadata": {},
   "source": [
    "An RMSE of 5992.20 means that, on average, the model's predictions are off by 6467.15. But how good or bad is that? Looking back at some of the model's outputs, we realized that the mean differences for particular subgroups were around 5000 to 10,000. Is an RMSE of 6467.15 a concern? Let me calculate the RMSE percentage, which should provide a clearer picture of our errors."
   ]
  },
  {
   "cell_type": "code",
   "execution_count": 39,
   "metadata": {},
   "outputs": [
    {
     "data": {
      "text/plain": [
       "53879.97462000001"
      ]
     },
     "execution_count": 39,
     "metadata": {},
     "output_type": "execute_result"
    }
   ],
   "source": [
    "mean_actual = result[\"actual_expenditure\"].mean()\n",
    "mean_actual"
   ]
  },
  {
   "cell_type": "code",
   "execution_count": 40,
   "metadata": {},
   "outputs": [
    {
     "name": "stdout",
     "output_type": "stream",
     "text": [
      "RMSE as % of Mean Expenditure: 11.12%\n"
     ]
    }
   ],
   "source": [
    "rmse_percentage = (rmse / mean_actual) * 100\n",
    "print(f\"RMSE as % of Mean Expenditure: {rmse_percentage:.2f}%\")"
   ]
  },
  {
   "cell_type": "markdown",
   "metadata": {},
   "source": [
    "The RMSE is 11.12%. In most cases, a small RMSE percentage is considered a sign of good model performance. A score of less than 20% is generally regarded as good. Based on this, we can say that this model is performing well and should be suitable for further analysis."
   ]
  },
  {
   "cell_type": "markdown",
   "metadata": {},
   "source": [
    "## Scaling Up to 1 Million People"
   ]
  },
  {
   "cell_type": "markdown",
   "metadata": {},
   "source": [
    "Now that we have two key insights—the treatment is effective across the board, and variables like employment status, employment income, and non-employment income have a significant impact on expenditure behavior—let's consider the next step.\n",
    "\n",
    "Suppose the government, based on the success of the results, wants to roll out the program statewide, which has a population of roughly one million people. However, the government only has enough budget to extend the program to another 200,000 people.\n",
    "\n",
    "We can confidently assert that the treatment increases expenditure, as supported by both the RCT and linear regression analysis. The regression results also highlight that certain factors—such as employment status and income—have strong, statistically significant effects on spending behavior.\n",
    "\n",
    "But the key question remains: **How should the government scale up the program?** In a completely new population, who should be prioritized for treatment? Should we focus on unemployed individuals to boost their spending capacity? Or should we target the employed, who might have a greater propensity to spend and potentially generate a larger multiplier effect? Should women be prioritized as a form of economic empowerment?\n",
    "\n",
    "These are complex economic and socio-political questions. However, with tools like **T-learners**, we can approach this challenge through the lens of **data-driven decision-making**, turning it into a prescriptive analytics problem—where we don't just evaluate impact, but optimize for it.\n"
   ]
  },
  {
   "cell_type": "code",
   "execution_count": 41,
   "metadata": {},
   "outputs": [
    {
     "data": {
      "text/html": [
       "<div><style>\n",
       ".dataframe > thead > tr,\n",
       ".dataframe > tbody > tr {\n",
       "  text-align: right;\n",
       "  white-space: pre-wrap;\n",
       "}\n",
       "</style>\n",
       "<small>shape: (5, 7)</small><table border=\"1\" class=\"dataframe\"><thead><tr><th>age</th><th>is_male</th><th>race</th><th>ownes_house</th><th>employment_status</th><th>employment_income</th><th>non_employment_income</th></tr><tr><td>i64</td><td>i64</td><td>str</td><td>i64</td><td>i64</td><td>f64</td><td>f64</td></tr></thead><tbody><tr><td>50</td><td>0</td><td>&quot;White&quot;</td><td>0</td><td>0</td><td>0.0</td><td>9000.0</td></tr><tr><td>35</td><td>1</td><td>&quot;White&quot;</td><td>0</td><td>1</td><td>108244.6</td><td>12000.0</td></tr><tr><td>18</td><td>1</td><td>&quot;Asian&quot;</td><td>1</td><td>0</td><td>0.0</td><td>0.0</td></tr><tr><td>18</td><td>1</td><td>&quot;Hispanic&quot;</td><td>0</td><td>0</td><td>0.0</td><td>0.0</td></tr><tr><td>49</td><td>1</td><td>&quot;Black&quot;</td><td>0</td><td>1</td><td>137030.7</td><td>0.0</td></tr></tbody></table></div>"
      ],
      "text/plain": [
       "shape: (5, 7)\n",
       "┌─────┬─────────┬──────────┬─────────────┬───────────────────┬──────────────────┬──────────────────┐\n",
       "│ age ┆ is_male ┆ race     ┆ ownes_house ┆ employment_status ┆ employment_incom ┆ non_employment_i │\n",
       "│ --- ┆ ---     ┆ ---      ┆ ---         ┆ ---               ┆ e                ┆ ncome            │\n",
       "│ i64 ┆ i64     ┆ str      ┆ i64         ┆ i64               ┆ ---              ┆ ---              │\n",
       "│     ┆         ┆          ┆             ┆                   ┆ f64              ┆ f64              │\n",
       "╞═════╪═════════╪══════════╪═════════════╪═══════════════════╪══════════════════╪══════════════════╡\n",
       "│ 50  ┆ 0       ┆ White    ┆ 0           ┆ 0                 ┆ 0.0              ┆ 9000.0           │\n",
       "│ 35  ┆ 1       ┆ White    ┆ 0           ┆ 1                 ┆ 108244.6         ┆ 12000.0          │\n",
       "│ 18  ┆ 1       ┆ Asian    ┆ 1           ┆ 0                 ┆ 0.0              ┆ 0.0              │\n",
       "│ 18  ┆ 1       ┆ Hispanic ┆ 0           ┆ 0                 ┆ 0.0              ┆ 0.0              │\n",
       "│ 49  ┆ 1       ┆ Black    ┆ 0           ┆ 1                 ┆ 137030.7         ┆ 0.0              │\n",
       "└─────┴─────────┴──────────┴─────────────┴───────────────────┴──────────────────┴──────────────────┘"
      ]
     },
     "execution_count": 41,
     "metadata": {},
     "output_type": "execute_result"
    }
   ],
   "source": [
    "target = pl.read_csv(\"Datagen/new_target.csv\")\n",
    "target.head(5)"
   ]
  },
  {
   "cell_type": "markdown",
   "metadata": {},
   "source": [
    "### Scenarios 1: Randomly Assigning Treatment to 200,000 People\n",
    "\n",
    "One method would be to randomly assign the treatment to 200,000 people, given that we observed a consistent impact of the treatment across all subgroups. Let’s explore how this approach would look. \n",
    "\n",
    "#### I have developed a simulation program that generates the outcomes for individuals after the treatment is assigned. Think of this as a hypothetical scenario after the treatment following the experiment."
   ]
  },
  {
   "cell_type": "code",
   "execution_count": 42,
   "metadata": {},
   "outputs": [
    {
     "data": {
      "text/html": [
       "<div><style>\n",
       ".dataframe > thead > tr,\n",
       ".dataframe > tbody > tr {\n",
       "  text-align: right;\n",
       "  white-space: pre-wrap;\n",
       "}\n",
       "</style>\n",
       "<small>shape: (5, 8)</small><table border=\"1\" class=\"dataframe\"><thead><tr><th>age</th><th>is_male</th><th>race</th><th>ownes_house</th><th>employment_status</th><th>employment_income</th><th>non_employment_income</th><th>treatment</th></tr><tr><td>i64</td><td>i64</td><td>str</td><td>i64</td><td>i64</td><td>f64</td><td>f64</td><td>i32</td></tr></thead><tbody><tr><td>50</td><td>0</td><td>&quot;White&quot;</td><td>0</td><td>0</td><td>0.0</td><td>9000.0</td><td>0</td></tr><tr><td>35</td><td>1</td><td>&quot;White&quot;</td><td>0</td><td>1</td><td>108244.6</td><td>12000.0</td><td>1</td></tr><tr><td>18</td><td>1</td><td>&quot;Asian&quot;</td><td>1</td><td>0</td><td>0.0</td><td>0.0</td><td>0</td></tr><tr><td>18</td><td>1</td><td>&quot;Hispanic&quot;</td><td>0</td><td>0</td><td>0.0</td><td>0.0</td><td>0</td></tr><tr><td>49</td><td>1</td><td>&quot;Black&quot;</td><td>0</td><td>1</td><td>137030.7</td><td>0.0</td><td>0</td></tr></tbody></table></div>"
      ],
      "text/plain": [
       "shape: (5, 8)\n",
       "┌─────┬─────────┬──────────┬─────────────┬───────────────┬──────────────┬──────────────┬───────────┐\n",
       "│ age ┆ is_male ┆ race     ┆ ownes_house ┆ employment_st ┆ employment_i ┆ non_employme ┆ treatment │\n",
       "│ --- ┆ ---     ┆ ---      ┆ ---         ┆ atus          ┆ ncome        ┆ nt_income    ┆ ---       │\n",
       "│ i64 ┆ i64     ┆ str      ┆ i64         ┆ ---           ┆ ---          ┆ ---          ┆ i32       │\n",
       "│     ┆         ┆          ┆             ┆ i64           ┆ f64          ┆ f64          ┆           │\n",
       "╞═════╪═════════╪══════════╪═════════════╪═══════════════╪══════════════╪══════════════╪═══════════╡\n",
       "│ 50  ┆ 0       ┆ White    ┆ 0           ┆ 0             ┆ 0.0          ┆ 9000.0       ┆ 0         │\n",
       "│ 35  ┆ 1       ┆ White    ┆ 0           ┆ 1             ┆ 108244.6     ┆ 12000.0      ┆ 1         │\n",
       "│ 18  ┆ 1       ┆ Asian    ┆ 1           ┆ 0             ┆ 0.0          ┆ 0.0          ┆ 0         │\n",
       "│ 18  ┆ 1       ┆ Hispanic ┆ 0           ┆ 0             ┆ 0.0          ┆ 0.0          ┆ 0         │\n",
       "│ 49  ┆ 1       ┆ Black    ┆ 0           ┆ 1             ┆ 137030.7     ┆ 0.0          ┆ 0         │\n",
       "└─────┴─────────┴──────────┴─────────────┴───────────────┴──────────────┴──────────────┴───────────┘"
      ]
     },
     "execution_count": 42,
     "metadata": {},
     "output_type": "execute_result"
    }
   ],
   "source": [
    "RCT_target = target\n",
    "np.random.seed(259)\n",
    "treatment = np.random.choice([1, 0], RCT_target.shape[0], p=[0.2, 0.8])\n",
    "RCT_target = RCT_target.with_columns(pl.Series('treatment', treatment))\n",
    "RCT_target.head(5)"
   ]
  },
  {
   "cell_type": "code",
   "execution_count": 43,
   "metadata": {},
   "outputs": [
    {
     "data": {
      "text/html": [
       "<div><style>\n",
       ".dataframe > thead > tr,\n",
       ".dataframe > tbody > tr {\n",
       "  text-align: right;\n",
       "  white-space: pre-wrap;\n",
       "}\n",
       "</style>\n",
       "<small>shape: (5, 9)</small><table border=\"1\" class=\"dataframe\"><thead><tr><th>age</th><th>is_male</th><th>race</th><th>ownes_house</th><th>employment_status</th><th>employment_income</th><th>non_employment_income</th><th>treatment</th><th>expenditure</th></tr><tr><td>i64</td><td>i64</td><td>str</td><td>i64</td><td>i64</td><td>f64</td><td>f64</td><td>i32</td><td>f64</td></tr></thead><tbody><tr><td>50</td><td>0</td><td>&quot;White&quot;</td><td>0</td><td>0</td><td>0.0</td><td>9000.0</td><td>0</td><td>9986.9</td></tr><tr><td>35</td><td>1</td><td>&quot;White&quot;</td><td>0</td><td>1</td><td>108244.6</td><td>12000.0</td><td>1</td><td>122066.69</td></tr><tr><td>18</td><td>1</td><td>&quot;Asian&quot;</td><td>1</td><td>0</td><td>0.0</td><td>0.0</td><td>0</td><td>2159.8</td></tr><tr><td>18</td><td>1</td><td>&quot;Hispanic&quot;</td><td>0</td><td>0</td><td>0.0</td><td>0.0</td><td>0</td><td>2159.8</td></tr><tr><td>49</td><td>1</td><td>&quot;Black&quot;</td><td>0</td><td>1</td><td>137030.7</td><td>0.0</td><td>0</td><td>78744.31</td></tr></tbody></table></div>"
      ],
      "text/plain": [
       "shape: (5, 9)\n",
       "┌─────┬─────────┬──────────┬─────────────┬───┬─────────────┬─────────────┬───────────┬─────────────┐\n",
       "│ age ┆ is_male ┆ race     ┆ ownes_house ┆ … ┆ employment_ ┆ non_employm ┆ treatment ┆ expenditure │\n",
       "│ --- ┆ ---     ┆ ---      ┆ ---         ┆   ┆ income      ┆ ent_income  ┆ ---       ┆ ---         │\n",
       "│ i64 ┆ i64     ┆ str      ┆ i64         ┆   ┆ ---         ┆ ---         ┆ i32       ┆ f64         │\n",
       "│     ┆         ┆          ┆             ┆   ┆ f64         ┆ f64         ┆           ┆             │\n",
       "╞═════╪═════════╪══════════╪═════════════╪═══╪═════════════╪═════════════╪═══════════╪═════════════╡\n",
       "│ 50  ┆ 0       ┆ White    ┆ 0           ┆ … ┆ 0.0         ┆ 9000.0      ┆ 0         ┆ 9986.9      │\n",
       "│ 35  ┆ 1       ┆ White    ┆ 0           ┆ … ┆ 108244.6    ┆ 12000.0     ┆ 1         ┆ 122066.69   │\n",
       "│ 18  ┆ 1       ┆ Asian    ┆ 1           ┆ … ┆ 0.0         ┆ 0.0         ┆ 0         ┆ 2159.8      │\n",
       "│ 18  ┆ 1       ┆ Hispanic ┆ 0           ┆ … ┆ 0.0         ┆ 0.0         ┆ 0         ┆ 2159.8      │\n",
       "│ 49  ┆ 1       ┆ Black    ┆ 0           ┆ … ┆ 137030.7    ┆ 0.0         ┆ 0         ┆ 78744.31    │\n",
       "└─────┴─────────┴──────────┴─────────────┴───┴─────────────┴─────────────┴───────────┴─────────────┘"
      ]
     },
     "execution_count": 43,
     "metadata": {},
     "output_type": "execute_result"
    }
   ],
   "source": [
    "%run data_processor.ipynb  # Executes the notebook\n",
    "# Then call your function directly\n",
    "RCT_target = process_dataframe(RCT_target)\n",
    "RCT_target.head(5)"
   ]
  },
  {
   "cell_type": "markdown",
   "metadata": {},
   "source": [
    "We have now obtained the simulated expenditure values. Next, let's calculate the total increase in expenditure among the treated individuals and across the entire economy.\n",
    "\n",
    "Total Expenditure Increase Among Treated Individuals: This will be the sum of the differences in expenditure for the treated individuals compared to their hypothetical expenditure if they had not received the treatment.\n",
    "\n",
    "Total Expenditure for the Whole Economy (Including Both Treated and Control Groups): This represents the sum of all expenditures (both treated and control groups) in the entire population after the treatment has been applied."
   ]
  },
  {
   "cell_type": "code",
   "execution_count": 44,
   "metadata": {},
   "outputs": [
    {
     "name": "stdout",
     "output_type": "stream",
     "text": [
      "Treatment Group 1 - Mean Expenditure: 68943.99619016469, Sum Expenditure: 13806586789.05\n",
      "Treatment Group 0 - Mean Expenditure: 37351.423360508765, Sum Expenditure: 29871502021.18\n",
      "Total - Mean Expenditure: 43678.088810229994, Sum Expenditure: 43678088810.229996\n"
     ]
    }
   ],
   "source": [
    "treatment_group_1 = RCT_target.filter(pl.col('treatment') == 1)\n",
    "treatment_group_0 = RCT_target.filter(pl.col('treatment') == 0)\n",
    "\n",
    "# Mean and sum for treatment group 1\n",
    "mean_treatment_1 = treatment_group_1.select(pl.col('expenditure').mean()).to_numpy()[0][0]\n",
    "sum_treatment_1 = treatment_group_1.select(pl.col('expenditure').sum()).to_numpy()[0][0]\n",
    "\n",
    "# Mean and sum for treatment group 0\n",
    "mean_treatment_0 = treatment_group_0.select(pl.col('expenditure').mean()).to_numpy()[0][0]\n",
    "sum_treatment_0 = treatment_group_0.select(pl.col('expenditure').sum()).to_numpy()[0][0]\n",
    "\n",
    "# Mean and sum for total population\n",
    "mean_total = RCT_target.select(pl.col('expenditure').mean()).to_numpy()[0][0]\n",
    "sum_total = RCT_target.select(pl.col('expenditure').sum()).to_numpy()[0][0]\n",
    "\n",
    "# Output the results\n",
    "print(f\"Treatment Group 1 - Mean Expenditure: {mean_treatment_1}, Sum Expenditure: {sum_treatment_1}\")\n",
    "print(f\"Treatment Group 0 - Mean Expenditure: {mean_treatment_0}, Sum Expenditure: {sum_treatment_0}\")\n",
    "print(f\"Total - Mean Expenditure: {mean_total}, Sum Expenditure: {sum_total}\")"
   ]
  },
  {
   "cell_type": "markdown",
   "metadata": {},
   "source": [
    "\n",
    "Treatment Group 1: The mean expenditure for individuals in the treatment group is approximately $68,943.99,  with a total expenditure of around $13.81 billion.\n",
    "\n",
    "Treatment Group 0: The mean expenditure for individuals in the control group is approximately $37,351.42,  with a total expenditure of about $29.87 billion.\n",
    "\n",
    "Overall: The overall mean expenditure is approximately $43,678.08,  with the total expenditure across all groups amounting to about $43.69 billion."
   ]
  },
  {
   "cell_type": "markdown",
   "metadata": {},
   "source": [
    "## Scenario 2: Using Predictive Models to Assign Treatment "
   ]
  },
  {
   "cell_type": "markdown",
   "metadata": {},
   "source": [
    "Instead of randomly selecting 200,000 people for treatment, I can use linear regression to target individuals who are likely to benefit the most. To achieve this, I will leverage both the results from the RCT and the linear regression model. This approach is known as T-learners, a type of Causal Machine Learning model.  \n",
    "\n",
    "T-learners work by developing two separate models: one from treated group and one from the control group. These models allow us to make a prediction of two counterfactual scenarios; one where everyone receives treatment and another where no one does. This enables us to estimate the individual treatment effect for each person in the dataset. While these estimates are hypothetical, they provide valuable insight into the potential outcomes of individuals with or without treatment. It’s important to note that our previous models demonstrated strong predictive performance, with a low RMSE and a high R² statistic, suggesting that these estimates should be fairly reliable."
   ]
  },
  {
   "cell_type": "markdown",
   "metadata": {},
   "source": [
    "Here is a more step-wise breakdown of how T-learners work:\n",
    "\n",
    "Train Two Models:\n",
    "\n",
    "- Model 1: Train a model using the data for the treated group (where treatment = 1).\n",
    "\n",
    "- Model 2: Train another model using the data for the control group (where treatment = 0).\n",
    "\n",
    "Make Predictions:\n",
    "\n",
    "- Prediction 1: Use Model 1 (treated group) to predict the outcome as if everyone received the treatment.\n",
    "\n",
    "- Prediction 2: Use Model 2 (control group) to predict the outcome as if no one received the treatment.\n",
    "\n",
    "Calculate the Difference:\n",
    "\n",
    "By comparing the predicted outcomes for the treated and control groups, we can find the difference in predicted expenditure for each individual.\n",
    "\n",
    "The individuals who show the highest difference between the treated and control predictions are likely to benefit the most from the treatment. For example, individuals with higher predicted outcomes in the treated group compared to the control group would be the ones who see the largest benefit from the insurance treatment.\n",
    "\n",
    "In this way, the T-Learner allows us to estimate the individualized treatment effect by predicting how each person would behave in both treatment and control conditions, and then comparing those predictions.\n",
    "\n",
    "For instance, being a woman, unemployed, and older might result in the most benefit from the treatment. The difference between the two predictions should be the highest for such a person (just an example)"
   ]
  },
  {
   "cell_type": "markdown",
   "metadata": {},
   "source": [
    "I will be using the whole dataset from out earlier analysis to train the model. The reason is that I want to use all the data available to make the best prediction possible. The T-Learner will be able to learn from both treated and control groups, and then we can apply it to the new dataset."
   ]
  },
  {
   "cell_type": "code",
   "execution_count": 45,
   "metadata": {},
   "outputs": [],
   "source": [
    "X_treated = X.filter(pl.col('treatment')==1).drop('expenditure','treatment')\n",
    "X_control = X.filter(pl.col('treatment')==0).drop('expenditure','treatment')\n",
    "\n",
    "y_treated = df.filter(pl.col('treatment')==1).select('expenditure').to_numpy()\n",
    "y_control = df.filter(pl.col('treatment')==0).select('expenditure').to_numpy()\n"
   ]
  },
  {
   "cell_type": "code",
   "execution_count": 46,
   "metadata": {},
   "outputs": [],
   "source": [
    "lr= LinearRegression()\n",
    "# make a linear regression model for treated group only\n",
    "lr_treated = lr.fit(X_treated.to_numpy(),y_treated) \n",
    "lr= LinearRegression()\n",
    "# make a linear regression model for control group only\n",
    "lr_control = lr.fit(X_control.to_numpy(),y_control)\n"
   ]
  },
  {
   "cell_type": "markdown",
   "metadata": {},
   "source": [
    "Now, using the model, I will make predictions on a new dataset representing a population of 1 million. I will generate predictions for two scenarios: one where everyone receives treatment and another where no one does. The difference between these two predictions will indicate the individuals who are likely to benefit the most from the treatment.\n",
    "\n",
    "This is my hypothesis: those with the largest predicted difference will experience the greatest impact from the treatment. Based on this, I will select the top 200,000 individuals with the highest predicted benefit to receive the treatment. Finally, I will compare their actual (simulated) outcomes to evaluate whether this targeted approach leads to a better overall result than random assignment."
   ]
  },
  {
   "cell_type": "code",
   "execution_count": 47,
   "metadata": {},
   "outputs": [
    {
     "data": {
      "text/html": [
       "<div><style>\n",
       ".dataframe > thead > tr,\n",
       ".dataframe > tbody > tr {\n",
       "  text-align: right;\n",
       "  white-space: pre-wrap;\n",
       "}\n",
       "</style>\n",
       "<small>shape: (5, 7)</small><table border=\"1\" class=\"dataframe\"><thead><tr><th>age</th><th>is_male</th><th>race</th><th>ownes_house</th><th>employment_status</th><th>employment_income</th><th>non_employment_income</th></tr><tr><td>i64</td><td>i64</td><td>str</td><td>i64</td><td>i64</td><td>f64</td><td>f64</td></tr></thead><tbody><tr><td>50</td><td>0</td><td>&quot;White&quot;</td><td>0</td><td>0</td><td>0.0</td><td>9000.0</td></tr><tr><td>35</td><td>1</td><td>&quot;White&quot;</td><td>0</td><td>1</td><td>108244.6</td><td>12000.0</td></tr><tr><td>18</td><td>1</td><td>&quot;Asian&quot;</td><td>1</td><td>0</td><td>0.0</td><td>0.0</td></tr><tr><td>18</td><td>1</td><td>&quot;Hispanic&quot;</td><td>0</td><td>0</td><td>0.0</td><td>0.0</td></tr><tr><td>49</td><td>1</td><td>&quot;Black&quot;</td><td>0</td><td>1</td><td>137030.7</td><td>0.0</td></tr></tbody></table></div>"
      ],
      "text/plain": [
       "shape: (5, 7)\n",
       "┌─────┬─────────┬──────────┬─────────────┬───────────────────┬──────────────────┬──────────────────┐\n",
       "│ age ┆ is_male ┆ race     ┆ ownes_house ┆ employment_status ┆ employment_incom ┆ non_employment_i │\n",
       "│ --- ┆ ---     ┆ ---      ┆ ---         ┆ ---               ┆ e                ┆ ncome            │\n",
       "│ i64 ┆ i64     ┆ str      ┆ i64         ┆ i64               ┆ ---              ┆ ---              │\n",
       "│     ┆         ┆          ┆             ┆                   ┆ f64              ┆ f64              │\n",
       "╞═════╪═════════╪══════════╪═════════════╪═══════════════════╪══════════════════╪══════════════════╡\n",
       "│ 50  ┆ 0       ┆ White    ┆ 0           ┆ 0                 ┆ 0.0              ┆ 9000.0           │\n",
       "│ 35  ┆ 1       ┆ White    ┆ 0           ┆ 1                 ┆ 108244.6         ┆ 12000.0          │\n",
       "│ 18  ┆ 1       ┆ Asian    ┆ 1           ┆ 0                 ┆ 0.0              ┆ 0.0              │\n",
       "│ 18  ┆ 1       ┆ Hispanic ┆ 0           ┆ 0                 ┆ 0.0              ┆ 0.0              │\n",
       "│ 49  ┆ 1       ┆ Black    ┆ 0           ┆ 1                 ┆ 137030.7         ┆ 0.0              │\n",
       "└─────┴─────────┴──────────┴─────────────┴───────────────────┴──────────────────┴──────────────────┘"
      ]
     },
     "execution_count": 47,
     "metadata": {},
     "output_type": "execute_result"
    }
   ],
   "source": [
    "target_tlearner = target\n",
    "target_tlearner.head(5)"
   ]
  },
  {
   "cell_type": "code",
   "execution_count": null,
   "metadata": {},
   "outputs": [
    {
     "data": {
      "text/html": [
       "<div><style>\n",
       ".dataframe > thead > tr,\n",
       ".dataframe > tbody > tr {\n",
       "  text-align: right;\n",
       "  white-space: pre-wrap;\n",
       "}\n",
       "</style>\n",
       "<small>shape: (5, 7)</small><table border=\"1\" class=\"dataframe\"><thead><tr><th>age</th><th>is_male</th><th>ownes_house</th><th>employment_status</th><th>employment_income</th><th>non_employment_income</th><th>race_encoded</th></tr><tr><td>i64</td><td>i64</td><td>i64</td><td>i64</td><td>f64</td><td>f64</td><td>i32</td></tr></thead><tbody><tr><td>50</td><td>0</td><td>0</td><td>0</td><td>0.0</td><td>9000.0</td><td>4</td></tr><tr><td>35</td><td>1</td><td>0</td><td>1</td><td>108244.6</td><td>12000.0</td><td>4</td></tr><tr><td>18</td><td>1</td><td>1</td><td>0</td><td>0.0</td><td>0.0</td><td>0</td></tr><tr><td>18</td><td>1</td><td>0</td><td>0</td><td>0.0</td><td>0.0</td><td>2</td></tr><tr><td>49</td><td>1</td><td>0</td><td>1</td><td>137030.7</td><td>0.0</td><td>1</td></tr></tbody></table></div>"
      ],
      "text/plain": [
       "shape: (5, 7)\n",
       "┌─────┬─────────┬─────────────┬─────────────────┬─────────────────┬─────────────────┬──────────────┐\n",
       "│ age ┆ is_male ┆ ownes_house ┆ employment_stat ┆ employment_inco ┆ non_employment_ ┆ race_encoded │\n",
       "│ --- ┆ ---     ┆ ---         ┆ us              ┆ me              ┆ income          ┆ ---          │\n",
       "│ i64 ┆ i64     ┆ i64         ┆ ---             ┆ ---             ┆ ---             ┆ i32          │\n",
       "│     ┆         ┆             ┆ i64             ┆ f64             ┆ f64             ┆              │\n",
       "╞═════╪═════════╪═════════════╪═════════════════╪═════════════════╪═════════════════╪══════════════╡\n",
       "│ 50  ┆ 0       ┆ 0           ┆ 0               ┆ 0.0             ┆ 9000.0          ┆ 4            │\n",
       "│ 35  ┆ 1       ┆ 0           ┆ 1               ┆ 108244.6        ┆ 12000.0         ┆ 4            │\n",
       "│ 18  ┆ 1       ┆ 1           ┆ 0               ┆ 0.0             ┆ 0.0             ┆ 0            │\n",
       "│ 18  ┆ 1       ┆ 0           ┆ 0               ┆ 0.0             ┆ 0.0             ┆ 2            │\n",
       "│ 49  ┆ 1       ┆ 0           ┆ 1               ┆ 137030.7        ┆ 0.0             ┆ 1            │\n",
       "└─────┴─────────┴─────────────┴─────────────────┴─────────────────┴─────────────────┴──────────────┘"
      ]
     },
     "execution_count": 48,
     "metadata": {},
     "output_type": "execute_result"
    }
   ],
   "source": [
    "#encode race from target_tlearner\n",
    "race_encoded = label_encoder.fit_transform(target_tlearner['race'].to_numpy())\n",
    "target_tlearner = target_tlearner.with_columns(pl.Series('race_encoded', race_encoded))\n",
    "target_tlearner= target_tlearner.drop('race')"
   ]
  },
  {
   "cell_type": "code",
   "execution_count": 49,
   "metadata": {},
   "outputs": [
    {
     "name": "stderr",
     "output_type": "stream",
     "text": [
      "c:\\Users\\meala\\anaconda3\\Lib\\site-packages\\sklearn\\base.py:432: UserWarning: X has feature names, but LinearRegression was fitted without feature names\n",
      "  warnings.warn(\n",
      "c:\\Users\\meala\\anaconda3\\Lib\\site-packages\\sklearn\\base.py:432: UserWarning: X has feature names, but LinearRegression was fitted without feature names\n",
      "  warnings.warn(\n"
     ]
    }
   ],
   "source": [
    "#predict outcome for all individual with the model built on treated group\n",
    "predicted_expenditure_treated = lr_treated.predict(target_tlearner)\n",
    "#predict outcome for all individual with the model built on control group\n",
    "predicted_expenditure_control = lr_control.predict(target_tlearner)"
   ]
  },
  {
   "cell_type": "code",
   "execution_count": 50,
   "metadata": {},
   "outputs": [],
   "source": [
    "target_tlearner = target_tlearner.with_columns(\n",
    "    pl.Series(predicted_expenditure_treated.flatten()).alias('predicted_expenditure_treated'),\n",
    "    pl.Series(predicted_expenditure_control.flatten()).alias('predicted_expenditure_control')\n",
    ")"
   ]
  },
  {
   "cell_type": "code",
   "execution_count": 51,
   "metadata": {},
   "outputs": [
    {
     "data": {
      "text/html": [
       "<div><style>\n",
       ".dataframe > thead > tr,\n",
       ".dataframe > tbody > tr {\n",
       "  text-align: right;\n",
       "  white-space: pre-wrap;\n",
       "}\n",
       "</style>\n",
       "<small>shape: (10, 9)</small><table border=\"1\" class=\"dataframe\"><thead><tr><th>age</th><th>is_male</th><th>ownes_house</th><th>employment_status</th><th>employment_income</th><th>non_employment_income</th><th>race_encoded</th><th>predicted_expenditure_treated</th><th>predicted_expenditure_control</th></tr><tr><td>i64</td><td>i64</td><td>i64</td><td>i64</td><td>f64</td><td>f64</td><td>i32</td><td>f64</td><td>f64</td></tr></thead><tbody><tr><td>50</td><td>0</td><td>0</td><td>0</td><td>0.0</td><td>9000.0</td><td>4</td><td>8700.086814</td><td>8284.063161</td></tr><tr><td>35</td><td>1</td><td>0</td><td>1</td><td>108244.6</td><td>12000.0</td><td>4</td><td>91328.241418</td><td>89791.513214</td></tr><tr><td>18</td><td>1</td><td>1</td><td>0</td><td>0.0</td><td>0.0</td><td>0</td><td>4596.710038</td><td>4097.409711</td></tr><tr><td>18</td><td>1</td><td>0</td><td>0</td><td>0.0</td><td>0.0</td><td>2</td><td>4508.574865</td><td>4109.400776</td></tr><tr><td>49</td><td>1</td><td>0</td><td>1</td><td>137030.7</td><td>0.0</td><td>1</td><td>108811.194898</td><td>107109.685601</td></tr><tr><td>18</td><td>0</td><td>1</td><td>1</td><td>59443.8</td><td>9000.0</td><td>4</td><td>50947.992835</td><td>49886.321986</td></tr><tr><td>18</td><td>0</td><td>0</td><td>1</td><td>65769.2</td><td>0.0</td><td>4</td><td>51730.069015</td><td>50817.006997</td></tr><tr><td>22</td><td>0</td><td>0</td><td>0</td><td>0.0</td><td>9000.0</td><td>2</td><td>8376.286623</td><td>8208.839592</td></tr><tr><td>18</td><td>0</td><td>0</td><td>1</td><td>61014.4</td><td>9000.0</td><td>3</td><td>51874.604561</td><td>51148.604399</td></tr><tr><td>49</td><td>1</td><td>0</td><td>1</td><td>187961.9</td><td>12000.0</td><td>2</td><td>154968.260549</td><td>152708.516017</td></tr></tbody></table></div>"
      ],
      "text/plain": [
       "shape: (10, 9)\n",
       "┌─────┬─────────┬─────────────┬────────────┬───┬────────────┬────────────┬────────────┬────────────┐\n",
       "│ age ┆ is_male ┆ ownes_house ┆ employment ┆ … ┆ non_employ ┆ race_encod ┆ predicted_ ┆ predicted_ │\n",
       "│ --- ┆ ---     ┆ ---         ┆ _status    ┆   ┆ ment_incom ┆ ed         ┆ expenditur ┆ expenditur │\n",
       "│ i64 ┆ i64     ┆ i64         ┆ ---        ┆   ┆ e          ┆ ---        ┆ e_treated  ┆ e_control  │\n",
       "│     ┆         ┆             ┆ i64        ┆   ┆ ---        ┆ i32        ┆ ---        ┆ ---        │\n",
       "│     ┆         ┆             ┆            ┆   ┆ f64        ┆            ┆ f64        ┆ f64        │\n",
       "╞═════╪═════════╪═════════════╪════════════╪═══╪════════════╪════════════╪════════════╪════════════╡\n",
       "│ 50  ┆ 0       ┆ 0           ┆ 0          ┆ … ┆ 9000.0     ┆ 4          ┆ 8700.08681 ┆ 8284.06316 │\n",
       "│     ┆         ┆             ┆            ┆   ┆            ┆            ┆ 4          ┆ 1          │\n",
       "│ 35  ┆ 1       ┆ 0           ┆ 1          ┆ … ┆ 12000.0    ┆ 4          ┆ 91328.2414 ┆ 89791.5132 │\n",
       "│     ┆         ┆             ┆            ┆   ┆            ┆            ┆ 18         ┆ 14         │\n",
       "│ 18  ┆ 1       ┆ 1           ┆ 0          ┆ … ┆ 0.0        ┆ 0          ┆ 4596.71003 ┆ 4097.40971 │\n",
       "│     ┆         ┆             ┆            ┆   ┆            ┆            ┆ 8          ┆ 1          │\n",
       "│ 18  ┆ 1       ┆ 0           ┆ 0          ┆ … ┆ 0.0        ┆ 2          ┆ 4508.57486 ┆ 4109.40077 │\n",
       "│     ┆         ┆             ┆            ┆   ┆            ┆            ┆ 5          ┆ 6          │\n",
       "│ 49  ┆ 1       ┆ 0           ┆ 1          ┆ … ┆ 0.0        ┆ 1          ┆ 108811.194 ┆ 107109.685 │\n",
       "│     ┆         ┆             ┆            ┆   ┆            ┆            ┆ 898        ┆ 601        │\n",
       "│ 18  ┆ 0       ┆ 1           ┆ 1          ┆ … ┆ 9000.0     ┆ 4          ┆ 50947.9928 ┆ 49886.3219 │\n",
       "│     ┆         ┆             ┆            ┆   ┆            ┆            ┆ 35         ┆ 86         │\n",
       "│ 18  ┆ 0       ┆ 0           ┆ 1          ┆ … ┆ 0.0        ┆ 4          ┆ 51730.0690 ┆ 50817.0069 │\n",
       "│     ┆         ┆             ┆            ┆   ┆            ┆            ┆ 15         ┆ 97         │\n",
       "│ 22  ┆ 0       ┆ 0           ┆ 0          ┆ … ┆ 9000.0     ┆ 2          ┆ 8376.28662 ┆ 8208.83959 │\n",
       "│     ┆         ┆             ┆            ┆   ┆            ┆            ┆ 3          ┆ 2          │\n",
       "│ 18  ┆ 0       ┆ 0           ┆ 1          ┆ … ┆ 9000.0     ┆ 3          ┆ 51874.6045 ┆ 51148.6043 │\n",
       "│     ┆         ┆             ┆            ┆   ┆            ┆            ┆ 61         ┆ 99         │\n",
       "│ 49  ┆ 1       ┆ 0           ┆ 1          ┆ … ┆ 12000.0    ┆ 2          ┆ 154968.260 ┆ 152708.516 │\n",
       "│     ┆         ┆             ┆            ┆   ┆            ┆            ┆ 549        ┆ 017        │\n",
       "└─────┴─────────┴─────────────┴────────────┴───┴────────────┴────────────┴────────────┴────────────┘"
      ]
     },
     "execution_count": 51,
     "metadata": {},
     "output_type": "execute_result"
    }
   ],
   "source": [
    "target_tlearner.head(10)"
   ]
  },
  {
   "cell_type": "code",
   "execution_count": 52,
   "metadata": {},
   "outputs": [
    {
     "data": {
      "text/html": [
       "<div><style>\n",
       ".dataframe > thead > tr,\n",
       ".dataframe > tbody > tr {\n",
       "  text-align: right;\n",
       "  white-space: pre-wrap;\n",
       "}\n",
       "</style>\n",
       "<small>shape: (5, 10)</small><table border=\"1\" class=\"dataframe\"><thead><tr><th>age</th><th>is_male</th><th>ownes_house</th><th>employment_status</th><th>employment_income</th><th>non_employment_income</th><th>race_encoded</th><th>predicted_expenditure_treated</th><th>predicted_expenditure_control</th><th>difference</th></tr><tr><td>i64</td><td>i64</td><td>i64</td><td>i64</td><td>f64</td><td>f64</td><td>i32</td><td>f64</td><td>f64</td><td>f64</td></tr></thead><tbody><tr><td>50</td><td>0</td><td>0</td><td>0</td><td>0.0</td><td>9000.0</td><td>4</td><td>8700.086814</td><td>8284.063161</td><td>416.023653</td></tr><tr><td>35</td><td>1</td><td>0</td><td>1</td><td>108244.6</td><td>12000.0</td><td>4</td><td>91328.241418</td><td>89791.513214</td><td>1536.728204</td></tr><tr><td>18</td><td>1</td><td>1</td><td>0</td><td>0.0</td><td>0.0</td><td>0</td><td>4596.710038</td><td>4097.409711</td><td>499.300327</td></tr><tr><td>18</td><td>1</td><td>0</td><td>0</td><td>0.0</td><td>0.0</td><td>2</td><td>4508.574865</td><td>4109.400776</td><td>399.17409</td></tr><tr><td>49</td><td>1</td><td>0</td><td>1</td><td>137030.7</td><td>0.0</td><td>1</td><td>108811.194898</td><td>107109.685601</td><td>1701.509297</td></tr></tbody></table></div>"
      ],
      "text/plain": [
       "shape: (5, 10)\n",
       "┌─────┬─────────┬─────────────┬────────────┬───┬────────────┬────────────┬────────────┬────────────┐\n",
       "│ age ┆ is_male ┆ ownes_house ┆ employment ┆ … ┆ race_encod ┆ predicted_ ┆ predicted_ ┆ difference │\n",
       "│ --- ┆ ---     ┆ ---         ┆ _status    ┆   ┆ ed         ┆ expenditur ┆ expenditur ┆ ---        │\n",
       "│ i64 ┆ i64     ┆ i64         ┆ ---        ┆   ┆ ---        ┆ e_treated  ┆ e_control  ┆ f64        │\n",
       "│     ┆         ┆             ┆ i64        ┆   ┆ i32        ┆ ---        ┆ ---        ┆            │\n",
       "│     ┆         ┆             ┆            ┆   ┆            ┆ f64        ┆ f64        ┆            │\n",
       "╞═════╪═════════╪═════════════╪════════════╪═══╪════════════╪════════════╪════════════╪════════════╡\n",
       "│ 50  ┆ 0       ┆ 0           ┆ 0          ┆ … ┆ 4          ┆ 8700.08681 ┆ 8284.06316 ┆ 416.023653 │\n",
       "│     ┆         ┆             ┆            ┆   ┆            ┆ 4          ┆ 1          ┆            │\n",
       "│ 35  ┆ 1       ┆ 0           ┆ 1          ┆ … ┆ 4          ┆ 91328.2414 ┆ 89791.5132 ┆ 1536.72820 │\n",
       "│     ┆         ┆             ┆            ┆   ┆            ┆ 18         ┆ 14         ┆ 4          │\n",
       "│ 18  ┆ 1       ┆ 1           ┆ 0          ┆ … ┆ 0          ┆ 4596.71003 ┆ 4097.40971 ┆ 499.300327 │\n",
       "│     ┆         ┆             ┆            ┆   ┆            ┆ 8          ┆ 1          ┆            │\n",
       "│ 18  ┆ 1       ┆ 0           ┆ 0          ┆ … ┆ 2          ┆ 4508.57486 ┆ 4109.40077 ┆ 399.17409  │\n",
       "│     ┆         ┆             ┆            ┆   ┆            ┆ 5          ┆ 6          ┆            │\n",
       "│ 49  ┆ 1       ┆ 0           ┆ 1          ┆ … ┆ 1          ┆ 108811.194 ┆ 107109.685 ┆ 1701.50929 │\n",
       "│     ┆         ┆             ┆            ┆   ┆            ┆ 898        ┆ 601        ┆ 7          │\n",
       "└─────┴─────────┴─────────────┴────────────┴───┴────────────┴────────────┴────────────┴────────────┘"
      ]
     },
     "execution_count": 52,
     "metadata": {},
     "output_type": "execute_result"
    }
   ],
   "source": [
    "#find the difference between the two predicted outcomes\n",
    "# and add it to the dataframe\n",
    "target_tlearner= target_tlearner.with_columns(\n",
    "    (pl.col('predicted_expenditure_treated') - pl.col('predicted_expenditure_control')).alias('difference')\n",
    ")\n",
    "target_tlearner.head(5)"
   ]
  },
  {
   "cell_type": "markdown",
   "metadata": {},
   "source": [
    "Based on the two model regression output, I will now assign the treatment (we can now call it a benefit since we are no longer evaluating the treatment effect) to the top 200,000 individuals with the highest predicted difference. This will hopefully allow us to see if this targeted approach yields better results than random assignment."
   ]
  },
  {
   "cell_type": "code",
   "execution_count": 53,
   "metadata": {},
   "outputs": [
    {
     "data": {
      "text/html": [
       "<div><style>\n",
       ".dataframe > thead > tr,\n",
       ".dataframe > tbody > tr {\n",
       "  text-align: right;\n",
       "  white-space: pre-wrap;\n",
       "}\n",
       "</style>\n",
       "<small>shape: (10, 12)</small><table border=\"1\" class=\"dataframe\"><thead><tr><th>age</th><th>is_male</th><th>ownes_house</th><th>employment_status</th><th>employment_income</th><th>non_employment_income</th><th>race_encoded</th><th>predicted_expenditure_treated</th><th>predicted_expenditure_control</th><th>difference</th><th>treatment</th><th>race</th></tr><tr><td>i64</td><td>i64</td><td>i64</td><td>i64</td><td>f64</td><td>f64</td><td>i32</td><td>f64</td><td>f64</td><td>f64</td><td>i32</td><td>str</td></tr></thead><tbody><tr><td>70</td><td>1</td><td>1</td><td>1</td><td>251542.0</td><td>0.0</td><td>4</td><td>200952.865824</td><td>197447.94329</td><td>3504.922534</td><td>1</td><td>&quot;White&quot;</td></tr><tr><td>70</td><td>1</td><td>1</td><td>1</td><td>251358.8</td><td>0.0</td><td>4</td><td>200806.432388</td><td>197303.465647</td><td>3502.966742</td><td>1</td><td>&quot;White&quot;</td></tr><tr><td>70</td><td>1</td><td>1</td><td>1</td><td>249812.0</td><td>0.0</td><td>4</td><td>199570.060999</td><td>196083.607465</td><td>3486.453534</td><td>1</td><td>&quot;Asian&quot;</td></tr><tr><td>70</td><td>1</td><td>1</td><td>1</td><td>249606.0</td><td>0.0</td><td>4</td><td>199405.403315</td><td>195921.148979</td><td>3484.254336</td><td>1</td><td>&quot;Hispanic&quot;</td></tr><tr><td>70</td><td>1</td><td>1</td><td>1</td><td>250049.0</td><td>1000.0</td><td>4</td><td>200206.753567</td><td>196723.569555</td><td>3483.184012</td><td>1</td><td>&quot;Black&quot;</td></tr><tr><td>70</td><td>1</td><td>1</td><td>1</td><td>249918.7</td><td>1000.0</td><td>4</td><td>200102.603585</td><td>196620.81062</td><td>3481.792965</td><td>1</td><td>&quot;White&quot;</td></tr><tr><td>70</td><td>1</td><td>1</td><td>1</td><td>249061.8</td><td>0.0</td><td>4</td><td>198970.419277</td><td>195491.97467</td><td>3478.444608</td><td>1</td><td>&quot;White&quot;</td></tr><tr><td>70</td><td>1</td><td>1</td><td>1</td><td>249484.8</td><td>1000.0</td><td>4</td><td>199755.783346</td><td>196278.622577</td><td>3477.160769</td><td>1</td><td>&quot;Hispanic&quot;</td></tr><tr><td>70</td><td>1</td><td>1</td><td>1</td><td>248630.6</td><td>0.0</td><td>4</td><td>198625.757173</td><td>195151.915937</td><td>3473.841236</td><td>1</td><td>&quot;Other&quot;</td></tr><tr><td>70</td><td>1</td><td>1</td><td>1</td><td>248520.2</td><td>0.0</td><td>4</td><td>198537.513443</td><td>195064.850807</td><td>3472.662636</td><td>1</td><td>&quot;Hispanic&quot;</td></tr></tbody></table></div>"
      ],
      "text/plain": [
       "shape: (10, 12)\n",
       "┌─────┬─────────┬─────────────┬─────────────┬───┬─────────────┬─────────────┬───────────┬──────────┐\n",
       "│ age ┆ is_male ┆ ownes_house ┆ employment_ ┆ … ┆ predicted_e ┆ difference  ┆ treatment ┆ race     │\n",
       "│ --- ┆ ---     ┆ ---         ┆ status      ┆   ┆ xpenditure_ ┆ ---         ┆ ---       ┆ ---      │\n",
       "│ i64 ┆ i64     ┆ i64         ┆ ---         ┆   ┆ control     ┆ f64         ┆ i32       ┆ str      │\n",
       "│     ┆         ┆             ┆ i64         ┆   ┆ ---         ┆             ┆           ┆          │\n",
       "│     ┆         ┆             ┆             ┆   ┆ f64         ┆             ┆           ┆          │\n",
       "╞═════╪═════════╪═════════════╪═════════════╪═══╪═════════════╪═════════════╪═══════════╪══════════╡\n",
       "│ 70  ┆ 1       ┆ 1           ┆ 1           ┆ … ┆ 197447.9432 ┆ 3504.922534 ┆ 1         ┆ White    │\n",
       "│     ┆         ┆             ┆             ┆   ┆ 9           ┆             ┆           ┆          │\n",
       "│ 70  ┆ 1       ┆ 1           ┆ 1           ┆ … ┆ 197303.4656 ┆ 3502.966742 ┆ 1         ┆ White    │\n",
       "│     ┆         ┆             ┆             ┆   ┆ 47          ┆             ┆           ┆          │\n",
       "│ 70  ┆ 1       ┆ 1           ┆ 1           ┆ … ┆ 196083.6074 ┆ 3486.453534 ┆ 1         ┆ Asian    │\n",
       "│     ┆         ┆             ┆             ┆   ┆ 65          ┆             ┆           ┆          │\n",
       "│ 70  ┆ 1       ┆ 1           ┆ 1           ┆ … ┆ 195921.1489 ┆ 3484.254336 ┆ 1         ┆ Hispanic │\n",
       "│     ┆         ┆             ┆             ┆   ┆ 79          ┆             ┆           ┆          │\n",
       "│ 70  ┆ 1       ┆ 1           ┆ 1           ┆ … ┆ 196723.5695 ┆ 3483.184012 ┆ 1         ┆ Black    │\n",
       "│     ┆         ┆             ┆             ┆   ┆ 55          ┆             ┆           ┆          │\n",
       "│ 70  ┆ 1       ┆ 1           ┆ 1           ┆ … ┆ 196620.8106 ┆ 3481.792965 ┆ 1         ┆ White    │\n",
       "│     ┆         ┆             ┆             ┆   ┆ 2           ┆             ┆           ┆          │\n",
       "│ 70  ┆ 1       ┆ 1           ┆ 1           ┆ … ┆ 195491.9746 ┆ 3478.444608 ┆ 1         ┆ White    │\n",
       "│     ┆         ┆             ┆             ┆   ┆ 7           ┆             ┆           ┆          │\n",
       "│ 70  ┆ 1       ┆ 1           ┆ 1           ┆ … ┆ 196278.6225 ┆ 3477.160769 ┆ 1         ┆ Hispanic │\n",
       "│     ┆         ┆             ┆             ┆   ┆ 77          ┆             ┆           ┆          │\n",
       "│ 70  ┆ 1       ┆ 1           ┆ 1           ┆ … ┆ 195151.9159 ┆ 3473.841236 ┆ 1         ┆ Other    │\n",
       "│     ┆         ┆             ┆             ┆   ┆ 37          ┆             ┆           ┆          │\n",
       "│ 70  ┆ 1       ┆ 1           ┆ 1           ┆ … ┆ 195064.8508 ┆ 3472.662636 ┆ 1         ┆ Hispanic │\n",
       "│     ┆         ┆             ┆             ┆   ┆ 07          ┆             ┆           ┆          │\n",
       "└─────┴─────────┴─────────────┴─────────────┴───┴─────────────┴─────────────┴───────────┴──────────┘"
      ]
     },
     "execution_count": 53,
     "metadata": {},
     "output_type": "execute_result"
    }
   ],
   "source": [
    "target_tlearner = target_tlearner.with_columns(\n",
    "    pl.lit(0).alias(\"treatment\")  # Create a new column with default value 0\n",
    ")\n",
    "\n",
    "# Sort the DataFrame in descending order based on predicted benefit\n",
    "target_tlearner = target_tlearner.sort(\"difference\", descending=True)\n",
    "\n",
    "# Assign 1 to the top 200,000 people\n",
    "target_tlearner = target_tlearner.with_columns(\n",
    "    pl.when(pl.arange(0, target_tlearner.height) < 200000)\n",
    "    .then(1)\n",
    "    .otherwise(0)\n",
    "    .alias(\"treatment\")\n",
    ")\n",
    "\n",
    "target_tlearner = target_tlearner.with_columns(\n",
    "    pl.Series(target['race']).alias('race')\n",
    ")\n",
    "target_tlearner.head(10)"
   ]
  },
  {
   "cell_type": "markdown",
   "metadata": {},
   "source": [
    "Now, using the simulation, let see what impact this targeted approach has on the total expenditure. "
   ]
  },
  {
   "cell_type": "code",
   "execution_count": 54,
   "metadata": {},
   "outputs": [
    {
     "data": {
      "text/html": [
       "<div><style>\n",
       ".dataframe > thead > tr,\n",
       ".dataframe > tbody > tr {\n",
       "  text-align: right;\n",
       "  white-space: pre-wrap;\n",
       "}\n",
       "</style>\n",
       "<small>shape: (5, 13)</small><table border=\"1\" class=\"dataframe\"><thead><tr><th>age</th><th>is_male</th><th>ownes_house</th><th>employment_status</th><th>employment_income</th><th>non_employment_income</th><th>race_encoded</th><th>predicted_expenditure_treated</th><th>predicted_expenditure_control</th><th>difference</th><th>treatment</th><th>race</th><th>expenditure</th></tr><tr><td>i64</td><td>i64</td><td>i64</td><td>i64</td><td>f64</td><td>f64</td><td>i32</td><td>f64</td><td>f64</td><td>f64</td><td>i32</td><td>str</td><td>f64</td></tr></thead><tbody><tr><td>70</td><td>1</td><td>1</td><td>1</td><td>251542.0</td><td>0.0</td><td>4</td><td>200952.865824</td><td>197447.94329</td><td>3504.922534</td><td>1</td><td>&quot;White&quot;</td><td>197364.92</td></tr><tr><td>70</td><td>1</td><td>1</td><td>1</td><td>251358.8</td><td>0.0</td><td>4</td><td>200806.432388</td><td>197303.465647</td><td>3502.966742</td><td>1</td><td>&quot;White&quot;</td><td>197221.37</td></tr><tr><td>70</td><td>1</td><td>1</td><td>1</td><td>249812.0</td><td>0.0</td><td>4</td><td>199570.060999</td><td>196083.607465</td><td>3486.453534</td><td>1</td><td>&quot;Asian&quot;</td><td>196009.32</td></tr><tr><td>70</td><td>1</td><td>1</td><td>1</td><td>249606.0</td><td>0.0</td><td>4</td><td>199405.403315</td><td>195921.148979</td><td>3484.254336</td><td>1</td><td>&quot;Hispanic&quot;</td><td>196067.9</td></tr><tr><td>70</td><td>1</td><td>1</td><td>1</td><td>250049.0</td><td>1000.0</td><td>4</td><td>200206.753567</td><td>196723.569555</td><td>3483.184012</td><td>1</td><td>&quot;Black&quot;</td><td>197025.64</td></tr></tbody></table></div>"
      ],
      "text/plain": [
       "shape: (5, 13)\n",
       "┌─────┬─────────┬─────────────┬─────────────┬───┬─────────────┬───────────┬──────────┬─────────────┐\n",
       "│ age ┆ is_male ┆ ownes_house ┆ employment_ ┆ … ┆ difference  ┆ treatment ┆ race     ┆ expenditure │\n",
       "│ --- ┆ ---     ┆ ---         ┆ status      ┆   ┆ ---         ┆ ---       ┆ ---      ┆ ---         │\n",
       "│ i64 ┆ i64     ┆ i64         ┆ ---         ┆   ┆ f64         ┆ i32       ┆ str      ┆ f64         │\n",
       "│     ┆         ┆             ┆ i64         ┆   ┆             ┆           ┆          ┆             │\n",
       "╞═════╪═════════╪═════════════╪═════════════╪═══╪═════════════╪═══════════╪══════════╪═════════════╡\n",
       "│ 70  ┆ 1       ┆ 1           ┆ 1           ┆ … ┆ 3504.922534 ┆ 1         ┆ White    ┆ 197364.92   │\n",
       "│ 70  ┆ 1       ┆ 1           ┆ 1           ┆ … ┆ 3502.966742 ┆ 1         ┆ White    ┆ 197221.37   │\n",
       "│ 70  ┆ 1       ┆ 1           ┆ 1           ┆ … ┆ 3486.453534 ┆ 1         ┆ Asian    ┆ 196009.32   │\n",
       "│ 70  ┆ 1       ┆ 1           ┆ 1           ┆ … ┆ 3484.254336 ┆ 1         ┆ Hispanic ┆ 196067.9    │\n",
       "│ 70  ┆ 1       ┆ 1           ┆ 1           ┆ … ┆ 3483.184012 ┆ 1         ┆ Black    ┆ 197025.64   │\n",
       "└─────┴─────────┴─────────────┴─────────────┴───┴─────────────┴───────────┴──────────┴─────────────┘"
      ]
     },
     "execution_count": 54,
     "metadata": {},
     "output_type": "execute_result"
    }
   ],
   "source": [
    "%run data_processor.ipynb  # Executes the notebook\n",
    "# Then call your function directly\n",
    "target_tlearner = process_dataframe(target_tlearner)\n",
    "target_tlearner.head(5)"
   ]
  },
  {
   "cell_type": "markdown",
   "metadata": {},
   "source": [
    "Finally, let us evaluate what the impact of this targeted approach has on the total expenditure."
   ]
  },
  {
   "cell_type": "code",
   "execution_count": 55,
   "metadata": {},
   "outputs": [
    {
     "name": "stdout",
     "output_type": "stream",
     "text": [
      "Treatment Group 1 - Mean Expenditure: 119106.8910883, Sum Expenditure: 23821378217.66\n",
      "Treatment Group 0 - Mean Expenditure: 32528.46748395, Sum Expenditure: 26022773987.16\n",
      "Total - Mean Expenditure: 49844.15220482, Sum Expenditure: 49844152204.82\n"
     ]
    }
   ],
   "source": [
    "treatment_group_1 = target_tlearner .filter(pl.col('treatment') == 1)\n",
    "treatment_group_0 = target_tlearner .filter(pl.col('treatment') == 0)\n",
    "\n",
    "# Mean and sum for treatment group 1\n",
    "mean_treatment_1 = treatment_group_1.select(pl.col('expenditure').mean()).to_numpy()[0][0]\n",
    "sum_treatment_1 = treatment_group_1.select(pl.col('expenditure').sum()).to_numpy()[0][0]\n",
    "\n",
    "# Mean and sum for treatment group 0\n",
    "mean_treatment_0 = treatment_group_0.select(pl.col('expenditure').mean()).to_numpy()[0][0]\n",
    "sum_treatment_0 = treatment_group_0.select(pl.col('expenditure').sum()).to_numpy()[0][0]\n",
    "\n",
    "# Mean and sum for total population\n",
    "mean_total = target_tlearner .select(pl.col('expenditure').mean()).to_numpy()[0][0]\n",
    "sum_total = target_tlearner .select(pl.col('expenditure').sum()).to_numpy()[0][0]\n",
    "\n",
    "# Output the results\n",
    "print(f\"Treatment Group 1 - Mean Expenditure: {mean_treatment_1}, Sum Expenditure: {sum_treatment_1}\")\n",
    "print(f\"Treatment Group 0 - Mean Expenditure: {mean_treatment_0}, Sum Expenditure: {sum_treatment_0}\")\n",
    "print(f\"Total - Mean Expenditure: {mean_total}, Sum Expenditure: {sum_total}\")"
   ]
  },
  {
   "cell_type": "markdown",
   "metadata": {},
   "source": [
    "The results indicate a significant difference in expenditure between the treated and untreated groups. Individuals who received the treatment had an **average expenditure of $119,106.89**, contributing to a **total expenditure of $23.8 billion**. In contrast, those who did not receive the treatment had a **much lower average expenditure of $32,528.47**, with a **total expenditure of $26.02 billion**. \n",
    "\n",
    "Overall, across the entire population, the **mean expenditure was $47,822.22**, leading to a **total economic expenditure of $49.84 billion**. This highlights the substantial impact of the treatment on spending behavior."
   ]
  },
  {
   "cell_type": "markdown",
   "metadata": {},
   "source": [
    "### Comparing the two sets of results, we can see a clear difference in expenditure patterns between the **random assignment method** and the **T-learner targeting approach**:\n",
    "\n",
    "\n",
    "#### Treatment Group (Assigned Treatment)\n",
    "\n",
    "1. Random Assignment: Mean expenditure = $68,943.99, Total expenditure = $13.81 billion\n",
    "\n",
    "2. T-Learner Targeting: Mean expenditure = $119,106.89, Total expenditure = $23.8 billion\n",
    "\n",
    "1.Comparison: The T-learner approach results in a higher mean expenditure (+$50,162.90) and an increase of $9.99 billion in total expenditure, suggesting that targeting individuals most likely to benefit significantly increases the program's economic impact.\n",
    "\n",
    "#### Control Group (No Treatment)\n",
    "\n",
    "1. Random Assignment: Mean expenditure = $37,351.42, Total expenditure = $29.87 billion\n",
    "\n",
    "2. T-Learner Targeting: Mean expenditure = $32,528.47, Total expenditure = $26.02 billion\n",
    "\n",
    "Comparison: The mean expenditure in the control group is slightly lower (-$4,822.95) when using the T-learner method, and total expenditure decreases by about $3.85 billion. \n",
    "\n",
    "You can see the gains in the treatment group are much much more larger than the losses in the control group. While the average expenditure in the control group is lower by around $5000, the average expenditure in the treatment group is higher by around $50,000 (almost 10 times). This suggests that the T-learner method is more effective in targeting individuals who are likely to benefit from the treatment, leading to a more efficient allocation of resources.\n",
    "\n",
    "#### Overall Economic Impact\n",
    "\n",
    "1. Random Assignment: Mean expenditure = $43,678.08, Total expenditure = $43.69 billion\n",
    "\n",
    "2. T-Learner Targeting: Mean expenditure = $47,822.22, Total expenditure = $47.82 billion\n",
    "\n",
    "Comparison: The T-learner method results in an increase of $4,144.14 in mean expenditure and a higher total expenditure by $4.13 billion, indicating a more efficient allocation of resources.\n",
    "\n",
    "However, it is worth noting that while the T-learner approach significantly increases expenditure within the treatment group, the overall impact on the entire economy is comparatively smaller. This is primarily because only 20% of the population is treated, meaning the control group carries more weight in the overall expenditure calculation, thus lowering the mean expenditure. Nevertheless, it is still evident how the T-learner method improves both mean expenditures and total expenditures by targeting those who are most likely to benefit.\n",
    "\n",
    "If we were to scale the program to a larger population, the impact could become much more substantial, as the proportion of treated individuals would increase, leading to a larger increase in total expenditures.\n",
    "\n",
    "However, this also brings up an important policy consideration: fairness vs. equity. Randomized assignment is often viewed as a fair approach because everyone has an equal chance of receiving the treatment, regardless of their characteristics. On the other hand, the T-learner method focuses on those most likely to benefit, making it a more equitable strategy, as resources are allocated where they can generate the greatest impact.\n",
    "\n",
    "Ultimately, the choice between these approaches depends on the policy goal: maximizing overall impact (T-learner) or ensuring equal access (random assignment).\n",
    "\n",
    "#### Conclusion\n",
    "\n",
    "The T-learner approach outperforms random assignment by targeting individuals who are expected to benefit the most from treatment. This leads to a higher mean expenditure per treated individual and a greater overall economic impact. By prioritizing those with the highest predicted treatment effect, the program can maximize its effectiveness while using the same budget constraints."
   ]
  }
 ],
 "metadata": {
  "kernelspec": {
   "display_name": "base",
   "language": "python",
   "name": "python3"
  },
  "language_info": {
   "codemirror_mode": {
    "name": "ipython",
    "version": 3
   },
   "file_extension": ".py",
   "mimetype": "text/x-python",
   "name": "python",
   "nbconvert_exporter": "python",
   "pygments_lexer": "ipython3",
   "version": "3.11.7"
  }
 },
 "nbformat": 4,
 "nbformat_minor": 2
}
