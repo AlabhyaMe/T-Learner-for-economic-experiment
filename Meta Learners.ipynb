{
 "cells": [
  {
   "cell_type": "markdown",
   "metadata": {},
   "source": [
    "# A Case for using Machine Learning Models to Improve Causal Inference in Economics"
   ]
  },
  {
   "cell_type": "markdown",
   "metadata": {},
   "source": [
    "Randomized Controlled Trials (RCTs) are widely considered the gold standard for establishing causal relationships. While execution can be challenging, RCTs are valued for their straightforward methodology, ease of interpretation, and statistical robustness. However, RCTs are primarily evaluative, not prescriptive. They excel at determining a program's success and informing decisions about its continuation or implementation in similar contexts, but they don't make predictions. Furthermore, RCTs often overlook variations in treatment effects across subgroups. Let me demonstrate this with an example"
   ]
  },
  {
   "cell_type": "markdown",
   "metadata": {},
   "source": [
    "### Import Libraries"
   ]
  },
  {
   "cell_type": "code",
   "execution_count": 1,
   "metadata": {},
   "outputs": [],
   "source": [
    "import polars as pl\n",
    "from scipy.stats import ttest_ind\n",
    "import numpy as np\n",
    "from sklearn.metrics import mean_squared_error"
   ]
  },
  {
   "cell_type": "markdown",
   "metadata": {},
   "source": [
    "### Read the experiment dataset"
   ]
  },
  {
   "cell_type": "code",
   "execution_count": 2,
   "metadata": {},
   "outputs": [
    {
     "data": {
      "text/html": [
       "<div><style>\n",
       ".dataframe > thead > tr,\n",
       ".dataframe > tbody > tr {\n",
       "  text-align: right;\n",
       "  white-space: pre-wrap;\n",
       "}\n",
       "</style>\n",
       "<small>shape: (10, 9)</small><table border=\"1\" class=\"dataframe\"><thead><tr><th>age</th><th>is_male</th><th>race</th><th>ownes_house</th><th>employment_status</th><th>employment_income</th><th>non_employment_income</th><th>treatment</th><th>expenditure</th></tr><tr><td>i64</td><td>i64</td><td>str</td><td>i64</td><td>i64</td><td>f64</td><td>f64</td><td>i64</td><td>f64</td></tr></thead><tbody><tr><td>18</td><td>0</td><td>&quot;White&quot;</td><td>0</td><td>0</td><td>0.0</td><td>0.0</td><td>0</td><td>2993.03</td></tr><tr><td>22</td><td>0</td><td>&quot;White&quot;</td><td>1</td><td>1</td><td>71512.0</td><td>0.0</td><td>0</td><td>42829.0</td></tr><tr><td>18</td><td>1</td><td>&quot;White&quot;</td><td>1</td><td>1</td><td>58287.6</td><td>9000.0</td><td>1</td><td>45194.99</td></tr><tr><td>18</td><td>0</td><td>&quot;White&quot;</td><td>1</td><td>1</td><td>69786.9</td><td>0.0</td><td>0</td><td>51264.09</td></tr><tr><td>23</td><td>0</td><td>&quot;Other&quot;</td><td>0</td><td>1</td><td>69507.0</td><td>0.0</td><td>0</td><td>49103.26</td></tr><tr><td>68</td><td>1</td><td>&quot;White&quot;</td><td>0</td><td>1</td><td>232942.1</td><td>12000.0</td><td>0</td><td>168641.33</td></tr><tr><td>30</td><td>1</td><td>&quot;White&quot;</td><td>1</td><td>1</td><td>92158.8</td><td>12000.0</td><td>0</td><td>67339.59</td></tr><tr><td>18</td><td>1</td><td>&quot;Asian&quot;</td><td>0</td><td>1</td><td>62839.9</td><td>12000.0</td><td>0</td><td>40356.07</td></tr><tr><td>26</td><td>1</td><td>&quot;Black&quot;</td><td>0</td><td>1</td><td>85679.5</td><td>12000.0</td><td>0</td><td>54805.69</td></tr><tr><td>18</td><td>1</td><td>&quot;White&quot;</td><td>0</td><td>0</td><td>0.0</td><td>0.0</td><td>0</td><td>2453.04</td></tr></tbody></table></div>"
      ],
      "text/plain": [
       "shape: (10, 9)\n",
       "┌─────┬─────────┬───────┬─────────────┬───┬───────────────┬──────────────┬───────────┬─────────────┐\n",
       "│ age ┆ is_male ┆ race  ┆ ownes_house ┆ … ┆ employment_in ┆ non_employme ┆ treatment ┆ expenditure │\n",
       "│ --- ┆ ---     ┆ ---   ┆ ---         ┆   ┆ come          ┆ nt_income    ┆ ---       ┆ ---         │\n",
       "│ i64 ┆ i64     ┆ str   ┆ i64         ┆   ┆ ---           ┆ ---          ┆ i64       ┆ f64         │\n",
       "│     ┆         ┆       ┆             ┆   ┆ f64           ┆ f64          ┆           ┆             │\n",
       "╞═════╪═════════╪═══════╪═════════════╪═══╪═══════════════╪══════════════╪═══════════╪═════════════╡\n",
       "│ 18  ┆ 0       ┆ White ┆ 0           ┆ … ┆ 0.0           ┆ 0.0          ┆ 0         ┆ 2993.03     │\n",
       "│ 22  ┆ 0       ┆ White ┆ 1           ┆ … ┆ 71512.0       ┆ 0.0          ┆ 0         ┆ 42829.0     │\n",
       "│ 18  ┆ 1       ┆ White ┆ 1           ┆ … ┆ 58287.6       ┆ 9000.0       ┆ 1         ┆ 45194.99    │\n",
       "│ 18  ┆ 0       ┆ White ┆ 1           ┆ … ┆ 69786.9       ┆ 0.0          ┆ 0         ┆ 51264.09    │\n",
       "│ 23  ┆ 0       ┆ Other ┆ 0           ┆ … ┆ 69507.0       ┆ 0.0          ┆ 0         ┆ 49103.26    │\n",
       "│ 68  ┆ 1       ┆ White ┆ 0           ┆ … ┆ 232942.1      ┆ 12000.0      ┆ 0         ┆ 168641.33   │\n",
       "│ 30  ┆ 1       ┆ White ┆ 1           ┆ … ┆ 92158.8       ┆ 12000.0      ┆ 0         ┆ 67339.59    │\n",
       "│ 18  ┆ 1       ┆ Asian ┆ 0           ┆ … ┆ 62839.9       ┆ 12000.0      ┆ 0         ┆ 40356.07    │\n",
       "│ 26  ┆ 1       ┆ Black ┆ 0           ┆ … ┆ 85679.5       ┆ 12000.0      ┆ 0         ┆ 54805.69    │\n",
       "│ 18  ┆ 1       ┆ White ┆ 0           ┆ … ┆ 0.0           ┆ 0.0          ┆ 0         ┆ 2453.04     │\n",
       "└─────┴─────────┴───────┴─────────────┴───┴───────────────┴──────────────┴───────────┴─────────────┘"
      ]
     },
     "execution_count": 2,
     "metadata": {},
     "output_type": "execute_result"
    }
   ],
   "source": [
    "df = pl.read_csv(\"dataset.csv\")\n",
    "df.head(10)"
   ]
  },
  {
   "cell_type": "markdown",
   "metadata": {},
   "source": [
    "The dataset contains information from a randomized controlled trial (RCT) designed to assess the impact of accidental and medical insurance on employment outcomes. It includes various demographic and background characteristics, such as age, education level, and prior work experience, alongside treatment assignment (whether an individual received medical insurance) and the outcome variable (employment status after the program). \n",
    "\n",
    "In this study, accidental and medical insurance was randomly assigned to 20% of the population, forming the treatment group, while the remaining individuals served as the control group without insurance benefits. The primary outcome of interest is the change in expenditure, measured as a continuous variable, with a focus on a one-tailed test to determine whether receiving insurance led to an increase in spending. Additionally, the analysis aims to explore potential differences in treatment effects across various subgroups to provide deeper insights into the program's effectiveness."
   ]
  },
  {
   "cell_type": "markdown",
   "metadata": {},
   "source": [
    "### Result of Randomized Controlled Trials (RCTs) in Expenditures "
   ]
  },
  {
   "cell_type": "code",
   "execution_count": 3,
   "metadata": {},
   "outputs": [],
   "source": [
    "treated = (df\n",
    ".filter(pl.col('treatment') == 1)\n",
    ".select('expenditure').to_numpy()\n",
    ")\n",
    "\n",
    "controlled = (df\n",
    ".filter(pl.col('treatment') == 0)\n",
    ".select('expenditure').to_numpy()\n",
    ")\n"
   ]
  },
  {
   "cell_type": "code",
   "execution_count": 4,
   "metadata": {},
   "outputs": [],
   "source": [
    "def p_test(treated, controlled):\n",
    "    t_stat, p_val = ttest_ind(treated, controlled)\n",
    "    # Store results in a dictionary\n",
    "    results = {\n",
    "        \"Mean Expenditure (Treated)\": treated.mean(),\n",
    "        \"Mean Expenditure (Controlled)\": controlled.mean(),\n",
    "        \"T-statistic\": t_stat[0],\n",
    "        \"P-value\": p_val[0]\n",
    "    }\n",
    "\n",
    "    # Print readable output\n",
    "    print(\"T-Test Results:\")\n",
    "    for key, value in results.items():\n",
    "        print(f\"{key}: {value:.4f}\")"
   ]
  },
  {
   "cell_type": "code",
   "execution_count": 5,
   "metadata": {},
   "outputs": [
    {
     "name": "stdout",
     "output_type": "stream",
     "text": [
      "T-Test Results:\n",
      "Mean Expenditure (Treated): 50544.4261\n",
      "Mean Expenditure (Controlled): 44641.7624\n",
      "T-statistic: 5.8597\n",
      "P-value: 0.0000\n"
     ]
    }
   ],
   "source": [
    "p_test(treated,controlled)"
   ]
  },
  {
   "cell_type": "markdown",
   "metadata": {},
   "source": [
    "The mean expenditure for the treatment group (those who received medical insurance) is 54,265.49, while the mean for the control group (those without insurance) is 47,629.78. The difference between the two groups is **6,635.71**. With a t-statistic of **13.41** and a p-value of less than **0.001**, this difference is statistically significant. \n",
    "\n",
    "These findings suggest that having accidental and medical insurance leads to increased spending. This implies that the security of a financial safety net encourages individuals to spend more, potentially stimulating economic activity and generating a multiplier effect throughout the economy."
   ]
  },
  {
   "cell_type": "markdown",
   "metadata": {},
   "source": [
    "### Factoring for different variable"
   ]
  },
  {
   "cell_type": "markdown",
   "metadata": {},
   "source": [
    "#### Male"
   ]
  },
  {
   "cell_type": "code",
   "execution_count": 6,
   "metadata": {},
   "outputs": [],
   "source": [
    "#Treatment and Control Impact by Gender\n",
    "treated_male = df.filter(\n",
    "    (pl.col('treatment') ==1) & (pl.col('is_male') == 1)\n",
    ").select(\"expenditure\").to_numpy()\n",
    "\n",
    "controlled_male = df.filter(\n",
    "    (pl.col('treatment')==0) & (pl.col('is_male')==1)\n",
    ").select(\"expenditure\").to_numpy()\n"
   ]
  },
  {
   "cell_type": "code",
   "execution_count": 7,
   "metadata": {},
   "outputs": [
    {
     "name": "stdout",
     "output_type": "stream",
     "text": [
      "T-Test Results:\n",
      "Mean Expenditure (Treated): 51290.8735\n",
      "Mean Expenditure (Controlled): 45066.2654\n",
      "T-statistic: 4.6004\n",
      "P-value: 0.0000\n"
     ]
    }
   ],
   "source": [
    "p_test(treated_male, controlled_male)"
   ]
  },
  {
   "cell_type": "markdown",
   "metadata": {},
   "source": [
    "#### Female"
   ]
  },
  {
   "cell_type": "code",
   "execution_count": 8,
   "metadata": {},
   "outputs": [],
   "source": [
    "#Treatment and Control Impact by Gender\n",
    "treated_female = df.filter(\n",
    "    (pl.col('treatment') ==1) & (pl.col('is_male') == 0)\n",
    ").select(\"expenditure\").to_numpy()\n",
    "\n",
    "controlled_female = df.filter(\n",
    "    (pl.col('treatment')==0) & (pl.col('is_male')==0)\n",
    ").select(\"expenditure\").to_numpy()"
   ]
  },
  {
   "cell_type": "code",
   "execution_count": 9,
   "metadata": {},
   "outputs": [
    {
     "name": "stdout",
     "output_type": "stream",
     "text": [
      "T-Test Results:\n",
      "Mean Expenditure (Treated): 49585.8474\n",
      "Mean Expenditure (Controlled): 44139.1981\n",
      "T-statistic: 3.6084\n",
      "P-value: 0.0003\n"
     ]
    }
   ],
   "source": [
    "p_test(treated_female, controlled_female)"
   ]
  },
  {
   "cell_type": "markdown",
   "metadata": {},
   "source": [
    "To further analyze the impact of medical insurance, we examine its effects across gender subgroups. Our results indicate that both men and women experience a statistically significant increase in expenditure due to the treatment. However, the impact appears to be slightly greater for women than for men. \n",
    "\n",
    "This suggests that women may be more responsive to the financial security provided by insurance, potentially leading to higher spending. Understanding these gender-based differences can help policymakers design more targeted interventions to maximize the economic benefits of insurance programs."
   ]
  },
  {
   "cell_type": "markdown",
   "metadata": {},
   "source": [
    "### Employment Status"
   ]
  },
  {
   "cell_type": "markdown",
   "metadata": {},
   "source": [
    "### On the employed"
   ]
  },
  {
   "cell_type": "code",
   "execution_count": 10,
   "metadata": {},
   "outputs": [],
   "source": [
    "treated_employed = df.filter(\n",
    "    (pl.col('treatment')==1) & (pl.col('employment_status')==1)\n",
    ").select(\"expenditure\").to_numpy()\n",
    "\n",
    "controlled_employed = df.filter(\n",
    "    (pl.col('treatment')==0) & (pl.col('employment_status')==1)\n",
    ").select(\"expenditure\").to_numpy()"
   ]
  },
  {
   "cell_type": "code",
   "execution_count": 11,
   "metadata": {},
   "outputs": [
    {
     "name": "stdout",
     "output_type": "stream",
     "text": [
      "T-Test Results:\n",
      "Mean Expenditure (Treated): 82245.7384\n",
      "Mean Expenditure (Controlled): 72026.3710\n",
      "T-statistic: 10.2528\n",
      "P-value: 0.0000\n"
     ]
    }
   ],
   "source": [
    "p_test(treated_employed, controlled_employed)"
   ]
  },
  {
   "cell_type": "markdown",
   "metadata": {},
   "source": [
    "### On the unemployed"
   ]
  },
  {
   "cell_type": "code",
   "execution_count": 12,
   "metadata": {},
   "outputs": [],
   "source": [
    "treated_unemployed = df.filter(\n",
    "    (pl.col('treatment')==1) & (pl.col('employment_status')==0)\n",
    ").select(\"expenditure\").to_numpy()\n",
    "\n",
    "controlled_unemployed = df.filter(\n",
    "    (pl.col('treatment')==0) & (pl.col('employment_status')==0)\n",
    ").select(\"expenditure\").to_numpy()"
   ]
  },
  {
   "cell_type": "code",
   "execution_count": 13,
   "metadata": {},
   "outputs": [
    {
     "name": "stdout",
     "output_type": "stream",
     "text": [
      "T-Test Results:\n",
      "Mean Expenditure (Treated): 6601.3125\n",
      "Mean Expenditure (Controlled): 5984.1033\n",
      "T-statistic: 3.8524\n",
      "P-value: 0.0001\n"
     ]
    }
   ],
   "source": [
    "p_test(treated_unemployed, controlled_unemployed)"
   ]
  },
  {
   "cell_type": "markdown",
   "metadata": {},
   "source": [
    "Another key subgroup of interest is employment status. Our results indicate that, regardless of whether an individual is employed or unemployed, the treatment effect leads to an increase in expenditure. However, unemployed individuals tend to spend less overall compared to their employed counterparts, and the increase in spending due to treatment is also more modest. \n",
    "\n",
    "This suggests that unemployed individuals may adopt a more cautious approach to spending, even when provided with financial security through insurance. These findings highlight the need for targeted strategies that consider economic behavior differences based on employment status, ensuring that support programs effectively address the needs of different groups."
   ]
  },
  {
   "cell_type": "markdown",
   "metadata": {},
   "source": [
    "## Having house or not"
   ]
  },
  {
   "cell_type": "code",
   "execution_count": 14,
   "metadata": {},
   "outputs": [],
   "source": [
    "treated_house = df.filter(\n",
    "    (pl.col('treatment')==1) & (pl.col('ownes_house')==1)\n",
    ").select('expenditure').to_numpy()\n",
    "\n",
    "controlled_house = df.filter(\n",
    "    (pl.col('treatment')==0) & (pl.col('ownes_house')==1)\n",
    ").select('expenditure').to_numpy()"
   ]
  },
  {
   "cell_type": "code",
   "execution_count": 15,
   "metadata": {},
   "outputs": [
    {
     "name": "stdout",
     "output_type": "stream",
     "text": [
      "T-Test Results:\n",
      "Mean Expenditure (Treated): 50634.3989\n",
      "Mean Expenditure (Controlled): 45308.7235\n",
      "T-statistic: 2.9769\n",
      "P-value: 0.0029\n"
     ]
    }
   ],
   "source": [
    "p_test(treated_house, controlled_house)"
   ]
  },
  {
   "cell_type": "code",
   "execution_count": 16,
   "metadata": {},
   "outputs": [],
   "source": [
    "treated_rental = df.filter(\n",
    "    (pl.col('treatment')==1) & (pl.col('ownes_house')==0)\n",
    ").select('expenditure').to_numpy()\n",
    "\n",
    "controlled_rental = df.filter(\n",
    "    (pl.col('treatment')==0) & (pl.col('ownes_house')==0)\n",
    ").select('expenditure').to_numpy()"
   ]
  },
  {
   "cell_type": "code",
   "execution_count": 17,
   "metadata": {},
   "outputs": [
    {
     "name": "stdout",
     "output_type": "stream",
     "text": [
      "T-Test Results:\n",
      "Mean Expenditure (Treated): 50501.7356\n",
      "Mean Expenditure (Controlled): 44360.5051\n",
      "T-statistic: 5.0363\n",
      "P-value: 0.0000\n"
     ]
    }
   ],
   "source": [
    "p_test(treated_rental, controlled_rental)"
   ]
  },
  {
   "cell_type": "code",
   "execution_count": 18,
   "metadata": {},
   "outputs": [],
   "source": [
    "import matplotlib.pyplot as plt"
   ]
  },
  {
   "cell_type": "code",
   "execution_count": 19,
   "metadata": {},
   "outputs": [
    {
     "data": {
      "text/plain": [
       "Text(0, 0.5, 'Value')"
      ]
     },
     "execution_count": 19,
     "metadata": {},
     "output_type": "execute_result"
    },
    {
     "data": {
      "image/png": "[encoded data removed]",
      "text/plain": [
       "<Figure size 640x480 with 1 Axes>"
      ]
     },
     "metadata": {},
     "output_type": "display_data"
    }
   ],
   "source": [
    "plt.hist(df['expenditure'], bins=10, density=True)\n",
    "plt.xlabel('Expenditure')\n",
    "plt.ylabel('Value')"
   ]
  },
  {
   "cell_type": "code",
   "execution_count": 20,
   "metadata": {},
   "outputs": [
    {
     "data": {
      "text/plain": [
       "Text(0.5, 1.0, 'Count of Treatment Groups')"
      ]
     },
     "execution_count": 20,
     "metadata": {},
     "output_type": "execute_result"
    },
    {
     "data": {
      "image/png": "[encoded data removed]",
      "text/plain": [
       "<Figure size 640x480 with 1 Axes>"
      ]
     },
     "metadata": {},
     "output_type": "display_data"
    }
   ],
   "source": [
    "treatment_counts = df['treatment'].value_counts().sort('treatment')\n",
    "\n",
    "# Convert Polars Series to lists for plotting\n",
    "x = treatment_counts['treatment'].to_list()\n",
    "y = treatment_counts['count'].to_list()\n",
    "\n",
    "# Create bar plot\n",
    "plt.bar(x, y, color=['blue', 'orange'])\n",
    "plt.xlabel('Treatment Group')\n",
    "plt.ylabel('Count')\n",
    "plt.xticks([0, 1], ['Control (0)', 'Treated (1)'])  # Label the x-axis categories\n",
    "plt.title('Count of Treatment Groups')\n"
   ]
  },
  {
   "cell_type": "code",
   "execution_count": 21,
   "metadata": {},
   "outputs": [
    {
     "data": {
      "image/png": "[encoded data removed]",
      "text/plain": [
       "<Figure size 640x480 with 1 Axes>"
      ]
     },
     "metadata": {},
     "output_type": "display_data"
    }
   ],
   "source": [
    "treatment_sums = df.group_by('treatment').agg(pl.col('expenditure').mean().alias('mean_expenditure'))\n",
    "x = treatment_sums['treatment'].to_list()\n",
    "y = treatment_sums['mean_expenditure'].to_list()\n",
    "\n",
    "# Create bar plot\n",
    "plt.bar(x, y, color=['blue', 'orange'])\n",
    "plt.xlabel('Treatment Group')\n",
    "plt.ylabel('Expenditure')\n",
    "plt.xticks([0, 1], ['Control (0)', 'Treated (1)'])  # Label the x-axis categories\n",
    "plt.title('Mean Expenditure of the Groups')\n",
    "plt.show()"
   ]
  },
  {
   "cell_type": "markdown",
   "metadata": {},
   "source": [
    "## Linear Model"
   ]
  },
  {
   "cell_type": "markdown",
   "metadata": {},
   "source": [
    "Now that we have analyzed the RCT results, including overall treatment effects and subgroup differences, we turn to a linear regression model for a more comprehensive understanding of how various factors influence expenditure.  \n",
    "\n",
    "Unlike simple mean comparisons between treatment and control groups, a linear regression model allows us to estimate the impact of multiple variables simultaneously. This approach provides a more precise measure of the treatment effect while accounting for potential confounding factors such as age, education level, previous work experience, and employment status. By incorporating all available variables, the model helps us isolate the true effect of medical insurance on expenditure and identify key determinants of spending behavior.  \n",
    "\n",
    "This deeper analysis will provide a more nuanced understanding of how different factors interact, offering valuable insights for policymakers and stakeholders looking to design effective interventions."
   ]
  },
  {
   "cell_type": "code",
   "execution_count": 22,
   "metadata": {},
   "outputs": [],
   "source": [
    "from sklearn.linear_model import LinearRegression,Ridge, Lasso\n",
    "from sklearn.preprocessing import LabelEncoder\n",
    "from sklearn.model_selection import train_test_split\n"
   ]
  },
  {
   "cell_type": "code",
   "execution_count": 23,
   "metadata": {},
   "outputs": [],
   "source": [
    "race_array = df['race'].to_numpy()\n",
    "label_encoder = LabelEncoder()\n",
    "race_encoded = label_encoder.fit_transform(race_array)\n",
    "df = df.with_columns(pl.Series('race_encoded', race_encoded))"
   ]
  },
  {
   "cell_type": "code",
   "execution_count": 24,
   "metadata": {},
   "outputs": [],
   "source": [
    "df = df.drop('race')"
   ]
  },
  {
   "cell_type": "code",
   "execution_count": 25,
   "metadata": {},
   "outputs": [],
   "source": [
    "lr = LinearRegression()"
   ]
  },
  {
   "cell_type": "code",
   "execution_count": 26,
   "metadata": {},
   "outputs": [],
   "source": [
    "y = df['expenditure']#.to_numpy()\n",
    "X = df.drop('expenditure')\n",
    "feature_names = X.columns\n",
    "#X = X.to_numpy()"
   ]
  },
  {
   "cell_type": "code",
   "execution_count": 27,
   "metadata": {},
   "outputs": [],
   "source": [
    "import pyrsm as rsm"
   ]
  },
  {
   "cell_type": "code",
   "execution_count": 28,
   "metadata": {},
   "outputs": [
    {
     "name": "stdout",
     "output_type": "stream",
     "text": [
      "Linear regression (OLS)\n",
      "Data                 : df\n",
      "Response variable    : expenditure\n",
      "Explanatory variables: age, is_male, ownes_house, employment_status, employment_income, non_employment_income, treatment, race_encoded\n",
      "Null hyp.: the effect of x on expenditure is zero\n",
      "Alt. hyp.: the effect of x on expenditure is not zero\n",
      "\n",
      "                       coefficient  std.error  t.value p.value     \n",
      "Intercept                 2990.342    252.885   11.825  < .001  ***\n",
      "age                         -2.750      7.933   -0.347   0.729     \n",
      "is_male                   -143.619    121.046   -1.186   0.235     \n",
      "ownes_house                 20.375    131.259    0.155   0.877     \n",
      "employment_status        -5055.385    320.512  -15.773  < .001  ***\n",
      "employment_income            0.719      0.004  204.953  < .001  ***\n",
      "non_employment_income        0.448      0.012   37.963  < .001  ***\n",
      "treatment                 6158.661    146.988   41.899  < .001  ***\n",
      "race_encoded               -14.245     39.358   -0.362   0.717     \n",
      "\n",
      "Signif. codes:  0 '***' 0.001 '**' 0.01 '*' 0.05 '.' 0.1 ' ' 1\n",
      "\n",
      "R-squared: 0.979, Adjusted R-squared: 0.979\n",
      "F-statistic: 57704.046 df(8, 9991), p.value < 0.001\n",
      "Nr obs: 10,000\n",
      "\n",
      "Sum of squares:\n",
      "\n",
      "               df                  SS\n",
      "Regression      8  16,748,785,356,768\n",
      "Error       9,991     362,489,996,242\n",
      "Total       9,999  17,111,275,353,010\n",
      "\n",
      "Root Mean Square Error (RMSE):\n",
      "6020.714\n"
     ]
    }
   ],
   "source": [
    "#using rsm\n",
    "dfp = df.to_pandas()\n",
    "rsm.model.regress({\"df\":dfp},rvar=\"expenditure\",evar=feature_names).summary(rmse=True, ssq= True)"
   ]
  },
  {
   "cell_type": "markdown",
   "metadata": {},
   "source": [
    "The results of the linear regression model confirm that treatment is a highly significant factor in estimating expenditure. The treatment coefficient is **6,783.3**, making it the largest coefficient estimate among all variables, further reinforcing the strong impact of medical insurance on spending.  \n",
    "\n",
    "In addition to treatment, **non-employment income, employment income, employment status, and age** are also significant predictors of expenditure, indicating that financial resources and labor market participation play crucial roles in spending behavior.  \n",
    "\n",
    "While **gender** has a p-value of **0.09**, meaning it is not statistically significant at the conventional **5% level**, it is still close enough to warrant further exploration. This suggests there may be meaningful gender differences in how individuals respond to medical insurance, which could be better understood through additional analysis or interaction effects in the model."
   ]
  },
  {
   "cell_type": "markdown",
   "metadata": {},
   "source": [
    "### Let's see how the regression result would have been in absence of any treatment"
   ]
  },
  {
   "cell_type": "code",
   "execution_count": 29,
   "metadata": {},
   "outputs": [],
   "source": [
    "# since treatment may absorb all the information, let's see without treatment\n",
    "X_noTreat = df.drop('expenditure','treatment')\n",
    "feature_names_noTreat = X_noTreat.columns"
   ]
  },
  {
   "cell_type": "code",
   "execution_count": 30,
   "metadata": {},
   "outputs": [
    {
     "name": "stdout",
     "output_type": "stream",
     "text": [
      "Linear regression (OLS)\n",
      "Data                 : df all\n",
      "Response variable    : expenditure\n",
      "Explanatory variables: age, is_male, ownes_house, employment_status, employment_income, non_employment_income, race_encoded\n",
      "Null hyp.: the effect of x on expenditure is zero\n",
      "Alt. hyp.: the effect of x on expenditure is not zero\n",
      "\n",
      "                       coefficient  std.error  t.value p.value     \n",
      "Intercept                 4182.208    272.449   15.350  < .001  ***\n",
      "age                          0.517      8.601    0.060   0.952     \n",
      "is_male                    -60.457    131.226   -0.461   0.645     \n",
      "ownes_house                142.570    142.282    1.002   0.316     \n",
      "employment_status        -4984.357    347.510  -14.343  < .001  ***\n",
      "employment_income            0.718      0.004  188.718  < .001  ***\n",
      "non_employment_income        0.450      0.013   35.118  < .001  ***\n",
      "race_encoded               -27.931     42.672   -0.655   0.513     \n",
      "\n",
      "Signif. codes:  0 '***' 0.001 '**' 0.01 '*' 0.05 '.' 0.1 ' ' 1\n",
      "\n",
      "R-squared: 0.975, Adjusted R-squared: 0.975\n",
      "F-statistic: 55883.805 df(7, 9992), p.value < 0.001\n",
      "Nr obs: 10,000\n",
      "\n",
      "Sum of squares:\n",
      "\n",
      "               df                  SS\n",
      "Regression      7  16,685,091,480,184\n",
      "Error       9,992     426,183,872,825\n",
      "Total       9,999  17,111,275,353,010\n",
      "\n",
      "Root Mean Square Error (RMSE):\n",
      "6528.276\n"
     ]
    }
   ],
   "source": [
    "rsm.model.regress({\"df all\":dfp},rvar=\"expenditure\",evar=feature_names_noTreat).summary(rmse=True, ssq= True)"
   ]
  },
  {
   "cell_type": "markdown",
   "metadata": {},
   "source": [
    "By removing the **treatment** variable from the regression model, we aim to examine the underlying conditions before treatment or in its absence. This allows us to understand the natural relationships between other predictors and expenditure.  \n",
    "\n",
    "Without the treatment variable, the coefficients of all predictors have adjusted, yet the same variables remain significant while others do not. Notably, **gender (is_male)** now has a lower p-value of **0.065**, making it even closer to statistical significance at the 5% level. This suggests that gender may have a more pronounced influence on expenditure than previously detected, and further investigation could help clarify its role.  \n",
    "\n",
    "This analysis provides a clearer baseline for understanding spending patterns without the influence of medical insurance, offering valuable insights into pre-existing economic behaviors."
   ]
  },
  {
   "cell_type": "markdown",
   "metadata": {},
   "source": [
    "## Only treated people vs Not Treated people"
   ]
  },
  {
   "cell_type": "markdown",
   "metadata": {},
   "source": [
    "### Let's see how the regression result would have been if all were treatment"
   ]
  },
  {
   "cell_type": "code",
   "execution_count": 31,
   "metadata": {},
   "outputs": [],
   "source": [
    "df_treated = df.filter(pl.col('treatment')==1).drop('treatment')\n",
    "df_controled = df.filter(pl.col('treatment')==0).drop('treatment')"
   ]
  },
  {
   "cell_type": "code",
   "execution_count": 32,
   "metadata": {},
   "outputs": [
    {
     "name": "stdout",
     "output_type": "stream",
     "text": [
      "Linear regression (OLS)\n",
      "Data                 : df treated\n",
      "Response variable    : expenditure\n",
      "Explanatory variables: age, is_male, ownes_house, employment_status, employment_income, non_employment_income, race_encoded\n",
      "Null hyp.: the effect of x on expenditure is zero\n",
      "Alt. hyp.: the effect of x on expenditure is not zero\n",
      "\n",
      "                       coefficient  std.error  t.value p.value     \n",
      "Intercept                 4220.726    735.595    5.738  < .001  ***\n",
      "age                          5.364     22.196    0.242   0.809     \n",
      "is_male                      9.500    367.900    0.026   0.979     \n",
      "ownes_house               -225.473    390.682   -0.577   0.564     \n",
      "employment_status        -4450.097    933.202   -4.769  < .001  ***\n",
      "employment_income            0.787      0.010   79.140  < .001  ***\n",
      "non_employment_income        0.445      0.036   12.392  < .001  ***\n",
      "race_encoded               132.419    120.057    1.103    0.27     \n",
      "\n",
      "Signif. codes:  0 '***' 0.001 '**' 0.01 '*' 0.05 '.' 0.1 ' ' 1\n",
      "\n",
      "R-squared: 0.967, Adjusted R-squared: 0.967\n",
      "F-statistic: 8901.247 df(7, 2130), p.value < 0.001\n",
      "Nr obs: 2,138\n",
      "\n",
      "Sum of squares:\n",
      "\n",
      "               df                 SS\n",
      "Regression      7  4,431,681,688,571\n",
      "Error       2,130    151,495,340,646\n",
      "Total       2,137  4,583,177,029,217\n",
      "\n",
      "Root Mean Square Error (RMSE):\n",
      "8417.745\n"
     ]
    }
   ],
   "source": [
    "dft = df_treated.to_pandas()\n",
    "rsm.model.regress({\"df treated\":dft},rvar=\"expenditure\",evar=feature_names_noTreat).summary(rmse=True, ssq= True)"
   ]
  },
  {
   "cell_type": "code",
   "execution_count": 33,
   "metadata": {},
   "outputs": [
    {
     "name": "stdout",
     "output_type": "stream",
     "text": [
      "Linear regression (OLS)\n",
      "Data                 : df controled\n",
      "Response variable    : expenditure\n",
      "Explanatory variables: age, is_male, ownes_house, employment_status, employment_income, non_employment_income, race_encoded\n",
      "Null hyp.: the effect of x on expenditure is zero\n",
      "Alt. hyp.: the effect of x on expenditure is not zero\n",
      "\n",
      "                       coefficient  std.error  t.value p.value     \n",
      "Intercept                 4125.860    213.482   19.326  < .001  ***\n",
      "age                          3.186      6.827    0.467   0.641     \n",
      "is_male                   -191.834    101.570   -1.889   0.059    .\n",
      "ownes_house                108.226    110.777    0.977   0.329     \n",
      "employment_status        -4890.693    272.596  -17.941  < .001  ***\n",
      "employment_income            0.697      0.003  231.600  < .001  ***\n",
      "non_employment_income        0.449      0.010   45.295  < .001  ***\n",
      "race_encoded               -47.014     33.002   -1.425   0.154     \n",
      "\n",
      "Signif. codes:  0 '***' 0.001 '**' 0.01 '*' 0.05 '.' 0.1 ' ' 1\n",
      "\n",
      "R-squared: 0.987, Adjusted R-squared: 0.987\n",
      "F-statistic: 87423.522 df(7, 7854), p.value < 0.001\n",
      "Nr obs: 7,862\n",
      "\n",
      "Sum of squares:\n",
      "\n",
      "               df                  SS\n",
      "Regression      7  12,311,526,454,681\n",
      "Error       7,854     158,007,048,002\n",
      "Total       7,861  12,469,533,502,683\n",
      "\n",
      "Root Mean Square Error (RMSE):\n",
      "4483.031\n"
     ]
    }
   ],
   "source": [
    "dfc = df_controled.to_pandas()\n",
    "rsm.model.regress({\"df controled\":dfc},rvar=\"expenditure\",evar=feature_names_noTreat).summary(rmse=True, ssq= True)"
   ]
  },
  {
   "cell_type": "markdown",
   "metadata": {},
   "source": [
    "In an alternative scenario where **everyone receives treatment**, we run the regression exclusively on the treated group. The results largely mirror previous findings, with the same significant variables, except for two key differences:  \n",
    "\n",
    "1. **Gender (is_male) becomes statistically significant** with a p-value of **0.047**, indicating that male participants tend to spend **$363 less** than females. This suggests that the impact of treatment is stronger for women, reinforcing the idea that medical insurance may influence female spending behavior more than male spending.  \n",
    "\n",
    "2. **Age is no longer significant**, with a p-value of **0.6**, meaning that once everyone is treated, age does not appear to play a role in determining expenditure. This contrasts with previous models where age was a significant predictor, implying that treatment standardizes spending behavior across different age groups.  \n",
    "\n",
    "These findings highlight that **gender differences in spending become more pronounced with treatment**, while age loses its predictive power when medical insurance is universally provided. This insight could be valuable for designing policies that maximize the economic impact of insurance programs."
   ]
  },
  {
   "cell_type": "markdown",
   "metadata": {},
   "source": [
    "## Now, let us run the estimate"
   ]
  },
  {
   "cell_type": "markdown",
   "metadata": {},
   "source": [
    "Now, I will run the regression model by dividing the data into training and test sets. This will allow me to calculate the mean squared error (MSE) between the training and test sets. Our goal is to make a forecast: if the insurance benefit were to be scaled up, we want to estimate how impactful it would be. By using this approach, we can assess the effectiveness of the program and predict its potential outcomes."
   ]
  },
  {
   "cell_type": "code",
   "execution_count": 34,
   "metadata": {},
   "outputs": [],
   "source": [
    "X_train, X_test, y_train, y_test = train_test_split(X,y,test_size=0.25,random_state=99)"
   ]
  },
  {
   "cell_type": "code",
   "execution_count": 35,
   "metadata": {},
   "outputs": [],
   "source": [
    "reg = lr.fit(X_train,y_train)"
   ]
  },
  {
   "cell_type": "code",
   "execution_count": 36,
   "metadata": {},
   "outputs": [
    {
     "data": {
      "text/plain": [
       "{'Intercept': 3030.285988660842,\n",
       " 'age': -3.458385404797223,\n",
       " 'is_male': -25.387760242458356,\n",
       " 'ownes_house': -83.83388851503886,\n",
       " 'employment_status': -5114.66236932114,\n",
       " 'employment_income': 0.7203499134540611,\n",
       " 'non_employment_income': 0.44206800625092707,\n",
       " 'treatment': 6154.736048316374,\n",
       " 'race_encoded': -31.75624500157307}"
      ]
     },
     "execution_count": 36,
     "metadata": {},
     "output_type": "execute_result"
    }
   ],
   "source": [
    "# Get feature names and coefficients\n",
    "{'Intercept': reg.intercept_, \n",
    "              **{feature_names[i]: reg.coef_[i] for i in range(len(feature_names))}}\n",
    "\n"
   ]
  },
  {
   "cell_type": "markdown",
   "metadata": {},
   "source": [
    "The values are slightly different since the training set is not different from the full set that I used before"
   ]
  },
  {
   "cell_type": "code",
   "execution_count": 37,
   "metadata": {},
   "outputs": [],
   "source": [
    "predicted_expenditure = reg.predict(X_test)"
   ]
  },
  {
   "cell_type": "code",
   "execution_count": 38,
   "metadata": {},
   "outputs": [
    {
     "data": {
      "text/plain": [
       "array([ 12925.94078028, 107303.17114043,   2764.92559246, ...,\n",
       "         8913.45813664,   6857.74685739,  51127.29725327])"
      ]
     },
     "execution_count": 38,
     "metadata": {},
     "output_type": "execute_result"
    }
   ],
   "source": [
    "predicted_expenditure"
   ]
  },
  {
   "cell_type": "code",
   "execution_count": 39,
   "metadata": {},
   "outputs": [
    {
     "data": {
      "text/html": [
       "<div><style>\n",
       ".dataframe > thead > tr,\n",
       ".dataframe > tbody > tr {\n",
       "  text-align: right;\n",
       "  white-space: pre-wrap;\n",
       "}\n",
       "</style>\n",
       "<small>shape: (2_500, 10)</small><table border=\"1\" class=\"dataframe\"><thead><tr><th>age</th><th>is_male</th><th>ownes_house</th><th>employment_status</th><th>employment_income</th><th>non_employment_income</th><th>treatment</th><th>race_encoded</th><th>actual_expenditure</th><th>pred_expenditure</th></tr><tr><td>i64</td><td>i64</td><td>i64</td><td>i64</td><td>f64</td><td>f64</td><td>i64</td><td>i32</td><td>f64</td><td>f64</td></tr></thead><tbody><tr><td>32</td><td>0</td><td>0</td><td>0</td><td>0.0</td><td>9000.0</td><td>1</td><td>4</td><td>8435.84</td><td>12925.94078</td></tr><tr><td>55</td><td>0</td><td>1</td><td>1</td><td>145045.9</td><td>12000.0</td><td>0</td><td>4</td><td>109527.42</td><td>107303.17114</td></tr><tr><td>40</td><td>0</td><td>0</td><td>0</td><td>0.0</td><td>0.0</td><td>0</td><td>4</td><td>2551.92</td><td>2764.925592</td></tr><tr><td>22</td><td>0</td><td>0</td><td>1</td><td>70114.7</td><td>1000.0</td><td>0</td><td>4</td><td>53285.6</td><td>48661.700244</td></tr><tr><td>21</td><td>0</td><td>0</td><td>1</td><td>62536.3</td><td>9000.0</td><td>0</td><td>2</td><td>43791.63</td><td>46806.115385</td></tr><tr><td>&hellip;</td><td>&hellip;</td><td>&hellip;</td><td>&hellip;</td><td>&hellip;</td><td>&hellip;</td><td>&hellip;</td><td>&hellip;</td><td>&hellip;</td><td>&hellip;</td></tr><tr><td>26</td><td>1</td><td>0</td><td>1</td><td>81198.2</td><td>0.0</td><td>0</td><td>4</td><td>53962.76</td><td>56164.409201</td></tr><tr><td>33</td><td>1</td><td>0</td><td>1</td><td>104481.1</td><td>12000.0</td><td>0</td><td>0</td><td>87443.79</td><td>78343.876558</td></tr><tr><td>62</td><td>1</td><td>0</td><td>0</td><td>0.0</td><td>0.0</td><td>1</td><td>1</td><td>3193.81</td><td>8913.458137</td></tr><tr><td>18</td><td>1</td><td>0</td><td>0</td><td>0.0</td><td>9000.0</td><td>0</td><td>2</td><td>12393.78</td><td>6857.746857</td></tr><tr><td>18</td><td>0</td><td>0</td><td>1</td><td>60064.7</td><td>9000.0</td><td>1</td><td>4</td><td>54279.75</td><td>51127.297253</td></tr></tbody></table></div>"
      ],
      "text/plain": [
       "shape: (2_500, 10)\n",
       "┌─────┬─────────┬─────────────┬─────────────┬───┬───────────┬────────────┬────────────┬────────────┐\n",
       "│ age ┆ is_male ┆ ownes_house ┆ employment_ ┆ … ┆ treatment ┆ race_encod ┆ actual_exp ┆ pred_expen │\n",
       "│ --- ┆ ---     ┆ ---         ┆ status      ┆   ┆ ---       ┆ ed         ┆ enditure   ┆ diture     │\n",
       "│ i64 ┆ i64     ┆ i64         ┆ ---         ┆   ┆ i64       ┆ ---        ┆ ---        ┆ ---        │\n",
       "│     ┆         ┆             ┆ i64         ┆   ┆           ┆ i32        ┆ f64        ┆ f64        │\n",
       "╞═════╪═════════╪═════════════╪═════════════╪═══╪═══════════╪════════════╪════════════╪════════════╡\n",
       "│ 32  ┆ 0       ┆ 0           ┆ 0           ┆ … ┆ 1         ┆ 4          ┆ 8435.84    ┆ 12925.9407 │\n",
       "│     ┆         ┆             ┆             ┆   ┆           ┆            ┆            ┆ 8          │\n",
       "│ 55  ┆ 0       ┆ 1           ┆ 1           ┆ … ┆ 0         ┆ 4          ┆ 109527.42  ┆ 107303.171 │\n",
       "│     ┆         ┆             ┆             ┆   ┆           ┆            ┆            ┆ 14         │\n",
       "│ 40  ┆ 0       ┆ 0           ┆ 0           ┆ … ┆ 0         ┆ 4          ┆ 2551.92    ┆ 2764.92559 │\n",
       "│     ┆         ┆             ┆             ┆   ┆           ┆            ┆            ┆ 2          │\n",
       "│ 22  ┆ 0       ┆ 0           ┆ 1           ┆ … ┆ 0         ┆ 4          ┆ 53285.6    ┆ 48661.7002 │\n",
       "│     ┆         ┆             ┆             ┆   ┆           ┆            ┆            ┆ 44         │\n",
       "│ 21  ┆ 0       ┆ 0           ┆ 1           ┆ … ┆ 0         ┆ 2          ┆ 43791.63   ┆ 46806.1153 │\n",
       "│     ┆         ┆             ┆             ┆   ┆           ┆            ┆            ┆ 85         │\n",
       "│ …   ┆ …       ┆ …           ┆ …           ┆ … ┆ …         ┆ …          ┆ …          ┆ …          │\n",
       "│ 26  ┆ 1       ┆ 0           ┆ 1           ┆ … ┆ 0         ┆ 4          ┆ 53962.76   ┆ 56164.4092 │\n",
       "│     ┆         ┆             ┆             ┆   ┆           ┆            ┆            ┆ 01         │\n",
       "│ 33  ┆ 1       ┆ 0           ┆ 1           ┆ … ┆ 0         ┆ 0          ┆ 87443.79   ┆ 78343.8765 │\n",
       "│     ┆         ┆             ┆             ┆   ┆           ┆            ┆            ┆ 58         │\n",
       "│ 62  ┆ 1       ┆ 0           ┆ 0           ┆ … ┆ 1         ┆ 1          ┆ 3193.81    ┆ 8913.45813 │\n",
       "│     ┆         ┆             ┆             ┆   ┆           ┆            ┆            ┆ 7          │\n",
       "│ 18  ┆ 1       ┆ 0           ┆ 0           ┆ … ┆ 0         ┆ 2          ┆ 12393.78   ┆ 6857.74685 │\n",
       "│     ┆         ┆             ┆             ┆   ┆           ┆            ┆            ┆ 7          │\n",
       "│ 18  ┆ 0       ┆ 0           ┆ 1           ┆ … ┆ 1         ┆ 4          ┆ 54279.75   ┆ 51127.2972 │\n",
       "│     ┆         ┆             ┆             ┆   ┆           ┆            ┆            ┆ 53         │\n",
       "└─────┴─────────┴─────────────┴─────────────┴───┴───────────┴────────────┴────────────┴────────────┘"
      ]
     },
     "execution_count": 39,
     "metadata": {},
     "output_type": "execute_result"
    }
   ],
   "source": [
    "result = X_test.with_columns(\n",
    "    pl.Series(y_test).alias('actual_expenditure'),\n",
    "    pl.Series(predicted_expenditure).alias('pred_expenditure')\n",
    "    \n",
    ")\n",
    "result"
   ]
  },
  {
   "cell_type": "markdown",
   "metadata": {},
   "source": [
    "The root mean square error between actual expenditure and predicted expenditure"
   ]
  },
  {
   "cell_type": "code",
   "execution_count": 40,
   "metadata": {},
   "outputs": [
    {
     "name": "stdout",
     "output_type": "stream",
     "text": [
      "Mean Squared Error: 34059413.35434576\n",
      "Root Mean Squared Error: 5836.044324227307\n"
     ]
    }
   ],
   "source": [
    "mse = mean_squared_error(y_test, predicted_expenditure)\n",
    "rmse = mse ** 0.5\n",
    "print(\"Mean Squared Error:\", mse)\n",
    "print(\"Root Mean Squared Error:\", rmse)"
   ]
  },
  {
   "cell_type": "markdown",
   "metadata": {},
   "source": [
    "An RMSE of 6553.5 means that, on average, the model's predictions are off by 6553.5. But how good or bad is that? Looking back at some of the model's outputs, we realized that the mean differences for particular subgroups were around 5000 to 10,000. Is an RMSE of 6553.5 a concern? Let me calculate the RMSE percentage, which should provide a clearer picture of our errors."
   ]
  },
  {
   "cell_type": "code",
   "execution_count": 41,
   "metadata": {},
   "outputs": [
    {
     "data": {
      "text/plain": [
       "45762.165704"
      ]
     },
     "execution_count": 41,
     "metadata": {},
     "output_type": "execute_result"
    }
   ],
   "source": [
    "mean_actual = result[\"actual_expenditure\"].mean()\n",
    "mean_actual"
   ]
  },
  {
   "cell_type": "code",
   "execution_count": 42,
   "metadata": {},
   "outputs": [
    {
     "name": "stdout",
     "output_type": "stream",
     "text": [
      "RMSE as % of Mean Expenditure: 12.75%\n"
     ]
    }
   ],
   "source": [
    "rmse_percentage = (rmse / mean_actual) * 100\n",
    "print(f\"RMSE as % of Mean Expenditure: {rmse_percentage:.2f}%\")"
   ]
  },
  {
   "cell_type": "markdown",
   "metadata": {},
   "source": [
    "The RMSE is 13.4%. In most cases, a small RMSE percentage is considered a sign of good model performance. A score of less than 20% is generally regarded as good. Based on this, we can say that our model is performing well."
   ]
  },
  {
   "cell_type": "markdown",
   "metadata": {},
   "source": [
    "### Now what?\n",
    "Now that we know the model can make good predictions, what should we do next? Should the insurance be targeted to all individuals, since the RCT showed positive results? If we target everyone, then what role does the linear regression model play? Alternatively, should we focus on targeting individuals with the highest expenditures? Or perhaps we should target those with the largest difference in expenditures, i.e., the gap between their actual and predicted expenditures. However, there is an issue: the people who were treated will naturally have a larger difference compared to the control group, as we observed in our regression model. Let me verify this further."
   ]
  },
  {
   "cell_type": "code",
   "execution_count": 43,
   "metadata": {},
   "outputs": [
    {
     "name": "stdout",
     "output_type": "stream",
     "text": [
      "Mean Difference for Treated Group: 8.172042775353619, Mean Difference for Control Group: -8.313226655199559\n"
     ]
    }
   ],
   "source": [
    "result = result.with_columns(\n",
    "    (pl.col(\"actual_expenditure\") - pl.col(\"pred_expenditure\")).alias(\"difference\")\n",
    ")\n",
    "\n",
    "mean_diff_treated = (result\n",
    "    .filter(pl.col(\"treatment\") == 1)\n",
    "    .select(pl.col(\"difference\")).mean()\n",
    ").to_numpy()[0][0]\n",
    "\n",
    "# Calculate the mean difference for control group (treatment == 0)\n",
    "mean_diff_control = (result\n",
    "    .filter(pl.col(\"treatment\") == 0)\n",
    "    .select(pl.col(\"difference\")).mean()\n",
    ").to_numpy()[0][0]\n",
    "\n",
    "# Print both mean differences side by side\n",
    "print(f\"Mean Difference for Treated Group: {mean_diff_treated}, Mean Difference for Control Group: {mean_diff_control}\")"
   ]
  },
  {
   "cell_type": "markdown",
   "metadata": {},
   "source": [
    "While we’ve addressed the policy question of whether the treatment is effective or not, we still can't determine the best way to move forward. Sure, we could target everyone, but that could be costly and inefficient. Using a linear model, we could focus on individuals with the largest difference in expenditure, based on the features we used to build the model. However, we’ve observed that being treated is a significant factor, and it's the feature that impacts expenditure the most. So, how can we identify which individuals benefit the most from this program?\n",
    "\n",
    "This is where Meta-Learners can help."
   ]
  },
  {
   "cell_type": "markdown",
   "metadata": {},
   "source": [
    "# Using Meta Learners to make prediction"
   ]
  },
  {
   "cell_type": "markdown",
   "metadata": {},
   "source": [
    "Now, the main goal of a meta-learner is to differentiate how people’s expenditures would change if they were treated versus if they were not treated. You may recall how we built a few linear models earlier, one where we kept 'treated' as a variable, and others where we didn’t include it as a variable, instead filtering treated and control groups separately. These concepts will be used in the Meta Learner.\n",
    "\n",
    "I wil be taking about one kind of Meta Learner today, that is T-Learner.\n",
    "\n",
    "1. T-Learner:\n",
    "The T-Learner, on the other hand, fits two separate models: one for the treated group and one for the control group. Each model predicts the outcome based on its respective group, and the difference in outcomes between the two models for an individual is used to estimate the individual treatment effect (ITE). The T-Learner allows for heterogeneous treatment effects, meaning it can capture the fact that different people may experience different effects from the treatment, making it a more flexible approach than the S-Learner when treatment effects vary across individuals.\n",
    "\n",
    "By using these meta-learners, we can more accurately estimate who benefits the most from the treatment, allowing us to target individuals who will likely see the greatest improvement in expenditure from receiving the treatment."
   ]
  },
  {
   "cell_type": "markdown",
   "metadata": {},
   "source": [
    "Now, prediction is where it gets different. I will not be using the treatment variable in the same way for making the prediction. Instead, I will make two separate predictions using the T-Learner approach.\n",
    "\n",
    "In the T-Learner, we train two separate models: one for the treated group and another for the control group. This allows each model to independently learn the relationship between the features and the outcome for both treated and control individuals. Afterward, I will predict the outcome for each individual as if they were in both the treated and control groups.\n",
    "\n",
    "Here’s how I approach this:\n",
    "\n",
    "Train Two Models:\n",
    "\n",
    "Model 1: Train a model using the data for the treated group (where treatment = 1).\n",
    "\n",
    "Model 2: Train another model using the data for the control group (where treatment = 0).\n",
    "\n",
    "Make Predictions:\n",
    "\n",
    "Prediction 1: Use Model 1 (treated group) to predict the outcome as if everyone received the treatment.\n",
    "\n",
    "Prediction 2: Use Model 2 (control group) to predict the outcome as if no one received the treatment.\n",
    "\n",
    "Calculate the Difference:\n",
    "\n",
    "By comparing the predicted outcomes for the treated and control groups, we can find the difference in predicted expenditure for each individual.\n",
    "\n",
    "The individuals who show the highest difference between the treated and control predictions are likely to benefit the most from the treatment. For example, individuals with higher predicted outcomes in the treated group compared to the control group would be the ones who see the largest benefit from the insurance treatment.\n",
    "\n",
    "In this way, the T-Learner allows us to estimate the individualized treatment effect by predicting how each person would behave in both treatment and control conditions, and then comparing those predictions.\n",
    "\n",
    "For instance, being a woman, unemployed, and older might result in the most benefit from the treatment. The difference between the two predictions should be the highest for such a person (just an example)"
   ]
  },
  {
   "cell_type": "code",
   "execution_count": 44,
   "metadata": {},
   "outputs": [],
   "source": [
    "X_treated = df.filter(pl.col('treatment')==1).drop('expenditure','treatment')\n",
    "X_control = df.filter(pl.col('treatment')==0).drop('expenditure','treatment')\n",
    "\n",
    "y_treated = df.filter(pl.col('treatment')==1).select('expenditure').to_numpy()\n",
    "y_control = df.filter(pl.col('treatment')==0).select('expenditure').to_numpy()\n"
   ]
  },
  {
   "cell_type": "code",
   "execution_count": 45,
   "metadata": {},
   "outputs": [
    {
     "name": "stdout",
     "output_type": "stream",
     "text": [
      "50544.42614125351 44641.76244085474\n"
     ]
    }
   ],
   "source": [
    "print(y_treated.mean(), y_control.mean())"
   ]
  },
  {
   "cell_type": "code",
   "execution_count": 46,
   "metadata": {},
   "outputs": [],
   "source": [
    "lr= LinearRegression()\n",
    "lr_treated = lr.fit(X_treated.to_numpy(),y_treated)\n",
    "lr= LinearRegression()\n",
    "lr_control = lr.fit(X_control.to_numpy(),y_control)\n"
   ]
  },
  {
   "cell_type": "code",
   "execution_count": 47,
   "metadata": {},
   "outputs": [
    {
     "name": "stderr",
     "output_type": "stream",
     "text": [
      "c:\\Users\\meala\\anaconda3\\Lib\\site-packages\\sklearn\\base.py:432: UserWarning: X has feature names, but LinearRegression was fitted without feature names\n",
      "  warnings.warn(\n",
      "c:\\Users\\meala\\anaconda3\\Lib\\site-packages\\sklearn\\base.py:432: UserWarning: X has feature names, but LinearRegression was fitted without feature names\n",
      "  warnings.warn(\n"
     ]
    }
   ],
   "source": [
    "predicted_expenditure_treated = lr_treated.predict(df.drop('expenditure','treatment'))\n",
    "predicted_expenditure_control = lr_control.predict(df.drop('expenditure','treatment'))"
   ]
  },
  {
   "cell_type": "code",
   "execution_count": 48,
   "metadata": {},
   "outputs": [],
   "source": [
    "df = df.with_columns(\n",
    "    pl.Series(predicted_expenditure_treated.flatten()).alias('predicted_expenditure_treated'),\n",
    "    pl.Series(predicted_expenditure_control.flatten()).alias('predicted_expenditure_control')\n",
    ")"
   ]
  },
  {
   "cell_type": "code",
   "execution_count": 49,
   "metadata": {},
   "outputs": [
    {
     "data": {
      "text/html": [
       "<div><style>\n",
       ".dataframe > thead > tr,\n",
       ".dataframe > tbody > tr {\n",
       "  text-align: right;\n",
       "  white-space: pre-wrap;\n",
       "}\n",
       "</style>\n",
       "<small>shape: (10, 11)</small><table border=\"1\" class=\"dataframe\"><thead><tr><th>age</th><th>is_male</th><th>ownes_house</th><th>employment_status</th><th>employment_income</th><th>non_employment_income</th><th>treatment</th><th>expenditure</th><th>race_encoded</th><th>predicted_expenditure_treated</th><th>predicted_expenditure_control</th></tr><tr><td>i64</td><td>i64</td><td>i64</td><td>i64</td><td>f64</td><td>f64</td><td>i64</td><td>f64</td><td>i32</td><td>f64</td><td>f64</td></tr></thead><tbody><tr><td>18</td><td>0</td><td>0</td><td>0</td><td>0.0</td><td>0.0</td><td>0</td><td>2993.03</td><td>4</td><td>4846.948558</td><td>3995.160217</td></tr><tr><td>22</td><td>0</td><td>1</td><td>1</td><td>71512.0</td><td>0.0</td><td>0</td><td>42829.0</td><td>4</td><td>56487.114917</td><td>49068.766969</td></tr><tr><td>18</td><td>1</td><td>1</td><td>1</td><td>58287.6</td><td>9000.0</td><td>1</td><td>45194.99</td><td>4</td><td>50069.511648</td><td>43685.418864</td></tr><tr><td>18</td><td>0</td><td>1</td><td>1</td><td>69786.9</td><td>0.0</td><td>0</td><td>51264.09</td><td>4</td><td>55107.660217</td><td>47853.639374</td></tr><tr><td>23</td><td>0</td><td>0</td><td>1</td><td>69507.0</td><td>0.0</td><td>0</td><td>49103.26</td><td>3</td><td>55007.196499</td><td>47613.271204</td></tr><tr><td>68</td><td>1</td><td>0</td><td>1</td><td>232942.1</td><td>12000.0</td><td>0</td><td>168641.33</td><td>4</td><td>189386.150184</td><td>166815.573042</td></tr><tr><td>30</td><td>1</td><td>1</td><td>1</td><td>92158.8</td><td>12000.0</td><td>0</td><td>67339.59</td><td>4</td><td>78132.170784</td><td>68677.80883</td></tr><tr><td>18</td><td>1</td><td>0</td><td>1</td><td>62839.9</td><td>12000.0</td><td>0</td><td>40356.07</td><td>0</td><td>54683.752227</td><td>48284.347323</td></tr><tr><td>26</td><td>1</td><td>0</td><td>1</td><td>85679.5</td><td>12000.0</td><td>0</td><td>54805.69</td><td>1</td><td>72838.425263</td><td>64181.855078</td></tr><tr><td>18</td><td>1</td><td>0</td><td>0</td><td>0.0</td><td>0.0</td><td>0</td><td>2453.04</td><td>4</td><td>4856.448772</td><td>3803.325845</td></tr></tbody></table></div>"
      ],
      "text/plain": [
       "shape: (10, 11)\n",
       "┌─────┬─────────┬─────────────┬────────────┬───┬────────────┬────────────┬────────────┬────────────┐\n",
       "│ age ┆ is_male ┆ ownes_house ┆ employment ┆ … ┆ expenditur ┆ race_encod ┆ predicted_ ┆ predicted_ │\n",
       "│ --- ┆ ---     ┆ ---         ┆ _status    ┆   ┆ e          ┆ ed         ┆ expenditur ┆ expenditur │\n",
       "│ i64 ┆ i64     ┆ i64         ┆ ---        ┆   ┆ ---        ┆ ---        ┆ e_treated  ┆ e_control  │\n",
       "│     ┆         ┆             ┆ i64        ┆   ┆ f64        ┆ i32        ┆ ---        ┆ ---        │\n",
       "│     ┆         ┆             ┆            ┆   ┆            ┆            ┆ f64        ┆ f64        │\n",
       "╞═════╪═════════╪═════════════╪════════════╪═══╪════════════╪════════════╪════════════╪════════════╡\n",
       "│ 18  ┆ 0       ┆ 0           ┆ 0          ┆ … ┆ 2993.03    ┆ 4          ┆ 4846.94855 ┆ 3995.16021 │\n",
       "│     ┆         ┆             ┆            ┆   ┆            ┆            ┆ 8          ┆ 7          │\n",
       "│ 22  ┆ 0       ┆ 1           ┆ 1          ┆ … ┆ 42829.0    ┆ 4          ┆ 56487.1149 ┆ 49068.7669 │\n",
       "│     ┆         ┆             ┆            ┆   ┆            ┆            ┆ 17         ┆ 69         │\n",
       "│ 18  ┆ 1       ┆ 1           ┆ 1          ┆ … ┆ 45194.99   ┆ 4          ┆ 50069.5116 ┆ 43685.4188 │\n",
       "│     ┆         ┆             ┆            ┆   ┆            ┆            ┆ 48         ┆ 64         │\n",
       "│ 18  ┆ 0       ┆ 1           ┆ 1          ┆ … ┆ 51264.09   ┆ 4          ┆ 55107.6602 ┆ 47853.6393 │\n",
       "│     ┆         ┆             ┆            ┆   ┆            ┆            ┆ 17         ┆ 74         │\n",
       "│ 23  ┆ 0       ┆ 0           ┆ 1          ┆ … ┆ 49103.26   ┆ 3          ┆ 55007.1964 ┆ 47613.2712 │\n",
       "│     ┆         ┆             ┆            ┆   ┆            ┆            ┆ 99         ┆ 04         │\n",
       "│ 68  ┆ 1       ┆ 0           ┆ 1          ┆ … ┆ 168641.33  ┆ 4          ┆ 189386.150 ┆ 166815.573 │\n",
       "│     ┆         ┆             ┆            ┆   ┆            ┆            ┆ 184        ┆ 042        │\n",
       "│ 30  ┆ 1       ┆ 1           ┆ 1          ┆ … ┆ 67339.59   ┆ 4          ┆ 78132.1707 ┆ 68677.8088 │\n",
       "│     ┆         ┆             ┆            ┆   ┆            ┆            ┆ 84         ┆ 3          │\n",
       "│ 18  ┆ 1       ┆ 0           ┆ 1          ┆ … ┆ 40356.07   ┆ 0          ┆ 54683.7522 ┆ 48284.3473 │\n",
       "│     ┆         ┆             ┆            ┆   ┆            ┆            ┆ 27         ┆ 23         │\n",
       "│ 26  ┆ 1       ┆ 0           ┆ 1          ┆ … ┆ 54805.69   ┆ 1          ┆ 72838.4252 ┆ 64181.8550 │\n",
       "│     ┆         ┆             ┆            ┆   ┆            ┆            ┆ 63         ┆ 78         │\n",
       "│ 18  ┆ 1       ┆ 0           ┆ 0          ┆ … ┆ 2453.04    ┆ 4          ┆ 4856.44877 ┆ 3803.32584 │\n",
       "│     ┆         ┆             ┆            ┆   ┆            ┆            ┆ 2          ┆ 5          │\n",
       "└─────┴─────────┴─────────────┴────────────┴───┴────────────┴────────────┴────────────┴────────────┘"
      ]
     },
     "execution_count": 49,
     "metadata": {},
     "output_type": "execute_result"
    }
   ],
   "source": [
    "df.head(10)"
   ]
  },
  {
   "cell_type": "code",
   "execution_count": 50,
   "metadata": {},
   "outputs": [
    {
     "data": {
      "text/html": [
       "<div><style>\n",
       ".dataframe > thead > tr,\n",
       ".dataframe > tbody > tr {\n",
       "  text-align: right;\n",
       "  white-space: pre-wrap;\n",
       "}\n",
       "</style>\n",
       "<small>shape: (5, 12)</small><table border=\"1\" class=\"dataframe\"><thead><tr><th>age</th><th>is_male</th><th>ownes_house</th><th>employment_status</th><th>employment_income</th><th>non_employment_income</th><th>treatment</th><th>expenditure</th><th>race_encoded</th><th>predicted_expenditure_treated</th><th>predicted_expenditure_control</th><th>difference</th></tr><tr><td>i64</td><td>i64</td><td>i64</td><td>i64</td><td>f64</td><td>f64</td><td>i64</td><td>f64</td><td>i32</td><td>f64</td><td>f64</td><td>f64</td></tr></thead><tbody><tr><td>18</td><td>0</td><td>0</td><td>0</td><td>0.0</td><td>0.0</td><td>0</td><td>2993.03</td><td>4</td><td>4846.948558</td><td>3995.160217</td><td>851.788341</td></tr><tr><td>22</td><td>0</td><td>1</td><td>1</td><td>71512.0</td><td>0.0</td><td>0</td><td>42829.0</td><td>4</td><td>56487.114917</td><td>49068.766969</td><td>7418.347948</td></tr><tr><td>18</td><td>1</td><td>1</td><td>1</td><td>58287.6</td><td>9000.0</td><td>1</td><td>45194.99</td><td>4</td><td>50069.511648</td><td>43685.418864</td><td>6384.092785</td></tr><tr><td>18</td><td>0</td><td>1</td><td>1</td><td>69786.9</td><td>0.0</td><td>0</td><td>51264.09</td><td>4</td><td>55107.660217</td><td>47853.639374</td><td>7254.020843</td></tr><tr><td>23</td><td>0</td><td>0</td><td>1</td><td>69507.0</td><td>0.0</td><td>0</td><td>49103.26</td><td>3</td><td>55007.196499</td><td>47613.271204</td><td>7393.925295</td></tr></tbody></table></div>"
      ],
      "text/plain": [
       "shape: (5, 12)\n",
       "┌─────┬─────────┬─────────────┬────────────┬───┬────────────┬────────────┬────────────┬────────────┐\n",
       "│ age ┆ is_male ┆ ownes_house ┆ employment ┆ … ┆ race_encod ┆ predicted_ ┆ predicted_ ┆ difference │\n",
       "│ --- ┆ ---     ┆ ---         ┆ _status    ┆   ┆ ed         ┆ expenditur ┆ expenditur ┆ ---        │\n",
       "│ i64 ┆ i64     ┆ i64         ┆ ---        ┆   ┆ ---        ┆ e_treated  ┆ e_control  ┆ f64        │\n",
       "│     ┆         ┆             ┆ i64        ┆   ┆ i32        ┆ ---        ┆ ---        ┆            │\n",
       "│     ┆         ┆             ┆            ┆   ┆            ┆ f64        ┆ f64        ┆            │\n",
       "╞═════╪═════════╪═════════════╪════════════╪═══╪════════════╪════════════╪════════════╪════════════╡\n",
       "│ 18  ┆ 0       ┆ 0           ┆ 0          ┆ … ┆ 4          ┆ 4846.94855 ┆ 3995.16021 ┆ 851.788341 │\n",
       "│     ┆         ┆             ┆            ┆   ┆            ┆ 8          ┆ 7          ┆            │\n",
       "│ 22  ┆ 0       ┆ 1           ┆ 1          ┆ … ┆ 4          ┆ 56487.1149 ┆ 49068.7669 ┆ 7418.34794 │\n",
       "│     ┆         ┆             ┆            ┆   ┆            ┆ 17         ┆ 69         ┆ 8          │\n",
       "│ 18  ┆ 1       ┆ 1           ┆ 1          ┆ … ┆ 4          ┆ 50069.5116 ┆ 43685.4188 ┆ 6384.09278 │\n",
       "│     ┆         ┆             ┆            ┆   ┆            ┆ 48         ┆ 64         ┆ 5          │\n",
       "│ 18  ┆ 0       ┆ 1           ┆ 1          ┆ … ┆ 4          ┆ 55107.6602 ┆ 47853.6393 ┆ 7254.02084 │\n",
       "│     ┆         ┆             ┆            ┆   ┆            ┆ 17         ┆ 74         ┆ 3          │\n",
       "│ 23  ┆ 0       ┆ 0           ┆ 1          ┆ … ┆ 3          ┆ 55007.1964 ┆ 47613.2712 ┆ 7393.92529 │\n",
       "│     ┆         ┆             ┆            ┆   ┆            ┆ 99         ┆ 04         ┆ 5          │\n",
       "└─────┴─────────┴─────────────┴────────────┴───┴────────────┴────────────┴────────────┴────────────┘"
      ]
     },
     "execution_count": 50,
     "metadata": {},
     "output_type": "execute_result"
    }
   ],
   "source": [
    "df= df.with_columns(\n",
    "    (pl.col('predicted_expenditure_treated') - pl.col('predicted_expenditure_control')).alias('difference')\n",
    ")\n",
    "df.head(5)"
   ]
  },
  {
   "cell_type": "code",
   "execution_count": 51,
   "metadata": {},
   "outputs": [
    {
     "data": {
      "text/html": [
       "<div><style>\n",
       ".dataframe > thead > tr,\n",
       ".dataframe > tbody > tr {\n",
       "  text-align: right;\n",
       "  white-space: pre-wrap;\n",
       "}\n",
       "</style>\n",
       "<small>shape: (10, 13)</small><table border=\"1\" class=\"dataframe\"><thead><tr><th>age</th><th>is_male</th><th>ownes_house</th><th>employment_status</th><th>employment_income</th><th>non_employment_income</th><th>treatment</th><th>expenditure</th><th>race_encoded</th><th>predicted_expenditure_treated</th><th>predicted_expenditure_control</th><th>difference</th><th>decile</th></tr><tr><td>i64</td><td>i64</td><td>i64</td><td>i64</td><td>f64</td><td>f64</td><td>i64</td><td>f64</td><td>i32</td><td>f64</td><td>f64</td><td>f64</td><td>u8</td></tr></thead><tbody><tr><td>18</td><td>0</td><td>0</td><td>0</td><td>0.0</td><td>0.0</td><td>0</td><td>2993.03</td><td>4</td><td>4846.948558</td><td>3995.160217</td><td>851.788341</td><td>1</td></tr><tr><td>22</td><td>0</td><td>1</td><td>1</td><td>71512.0</td><td>0.0</td><td>0</td><td>42829.0</td><td>4</td><td>56487.114917</td><td>49068.766969</td><td>7418.347948</td><td>4</td></tr><tr><td>18</td><td>1</td><td>1</td><td>1</td><td>58287.6</td><td>9000.0</td><td>1</td><td>45194.99</td><td>4</td><td>50069.511648</td><td>43685.418864</td><td>6384.092785</td><td>2</td></tr><tr><td>18</td><td>0</td><td>1</td><td>1</td><td>69786.9</td><td>0.0</td><td>0</td><td>51264.09</td><td>4</td><td>55107.660217</td><td>47853.639374</td><td>7254.020843</td><td>4</td></tr><tr><td>23</td><td>0</td><td>0</td><td>1</td><td>69507.0</td><td>0.0</td><td>0</td><td>49103.26</td><td>3</td><td>55007.196499</td><td>47613.271204</td><td>7393.925295</td><td>4</td></tr><tr><td>68</td><td>1</td><td>0</td><td>1</td><td>232942.1</td><td>12000.0</td><td>0</td><td>168641.33</td><td>4</td><td>189386.150184</td><td>166815.573042</td><td>22570.577142</td><td>8</td></tr><tr><td>30</td><td>1</td><td>1</td><td>1</td><td>92158.8</td><td>12000.0</td><td>0</td><td>67339.59</td><td>4</td><td>78132.170784</td><td>68677.80883</td><td>9454.361954</td><td>5</td></tr><tr><td>18</td><td>1</td><td>0</td><td>1</td><td>62839.9</td><td>12000.0</td><td>0</td><td>40356.07</td><td>0</td><td>54683.752227</td><td>48284.347323</td><td>6399.404905</td><td>2</td></tr><tr><td>26</td><td>1</td><td>0</td><td>1</td><td>85679.5</td><td>12000.0</td><td>0</td><td>54805.69</td><td>1</td><td>72838.425263</td><td>64181.855078</td><td>8656.570185</td><td>4</td></tr><tr><td>18</td><td>1</td><td>0</td><td>0</td><td>0.0</td><td>0.0</td><td>0</td><td>2453.04</td><td>4</td><td>4856.448772</td><td>3803.325845</td><td>1053.122927</td><td>2</td></tr></tbody></table></div>"
      ],
      "text/plain": [
       "shape: (10, 13)\n",
       "┌─────┬─────────┬─────────────┬─────────────┬───┬─────────────┬─────────────┬─────────────┬────────┐\n",
       "│ age ┆ is_male ┆ ownes_house ┆ employment_ ┆ … ┆ predicted_e ┆ predicted_e ┆ difference  ┆ decile │\n",
       "│ --- ┆ ---     ┆ ---         ┆ status      ┆   ┆ xpenditure_ ┆ xpenditure_ ┆ ---         ┆ ---    │\n",
       "│ i64 ┆ i64     ┆ i64         ┆ ---         ┆   ┆ treated     ┆ control     ┆ f64         ┆ u8     │\n",
       "│     ┆         ┆             ┆ i64         ┆   ┆ ---         ┆ ---         ┆             ┆        │\n",
       "│     ┆         ┆             ┆             ┆   ┆ f64         ┆ f64         ┆             ┆        │\n",
       "╞═════╪═════════╪═════════════╪═════════════╪═══╪═════════════╪═════════════╪═════════════╪════════╡\n",
       "│ 18  ┆ 0       ┆ 0           ┆ 0           ┆ … ┆ 4846.948558 ┆ 3995.160217 ┆ 851.788341  ┆ 1      │\n",
       "│ 22  ┆ 0       ┆ 1           ┆ 1           ┆ … ┆ 56487.11491 ┆ 49068.76696 ┆ 7418.347948 ┆ 4      │\n",
       "│     ┆         ┆             ┆             ┆   ┆ 7           ┆ 9           ┆             ┆        │\n",
       "│ 18  ┆ 1       ┆ 1           ┆ 1           ┆ … ┆ 50069.51164 ┆ 43685.41886 ┆ 6384.092785 ┆ 2      │\n",
       "│     ┆         ┆             ┆             ┆   ┆ 8           ┆ 4           ┆             ┆        │\n",
       "│ 18  ┆ 0       ┆ 1           ┆ 1           ┆ … ┆ 55107.66021 ┆ 47853.63937 ┆ 7254.020843 ┆ 4      │\n",
       "│     ┆         ┆             ┆             ┆   ┆ 7           ┆ 4           ┆             ┆        │\n",
       "│ 23  ┆ 0       ┆ 0           ┆ 1           ┆ … ┆ 55007.19649 ┆ 47613.27120 ┆ 7393.925295 ┆ 4      │\n",
       "│     ┆         ┆             ┆             ┆   ┆ 9           ┆ 4           ┆             ┆        │\n",
       "│ 68  ┆ 1       ┆ 0           ┆ 1           ┆ … ┆ 189386.1501 ┆ 166815.5730 ┆ 22570.57714 ┆ 8      │\n",
       "│     ┆         ┆             ┆             ┆   ┆ 84          ┆ 42          ┆ 2           ┆        │\n",
       "│ 30  ┆ 1       ┆ 1           ┆ 1           ┆ … ┆ 78132.17078 ┆ 68677.80883 ┆ 9454.361954 ┆ 5      │\n",
       "│     ┆         ┆             ┆             ┆   ┆ 4           ┆             ┆             ┆        │\n",
       "│ 18  ┆ 1       ┆ 0           ┆ 1           ┆ … ┆ 54683.75222 ┆ 48284.34732 ┆ 6399.404905 ┆ 2      │\n",
       "│     ┆         ┆             ┆             ┆   ┆ 7           ┆ 3           ┆             ┆        │\n",
       "│ 26  ┆ 1       ┆ 0           ┆ 1           ┆ … ┆ 72838.42526 ┆ 64181.85507 ┆ 8656.570185 ┆ 4      │\n",
       "│     ┆         ┆             ┆             ┆   ┆ 3           ┆ 8           ┆             ┆        │\n",
       "│ 18  ┆ 1       ┆ 0           ┆ 0           ┆ … ┆ 4856.448772 ┆ 3803.325845 ┆ 1053.122927 ┆ 2      │\n",
       "└─────┴─────────┴─────────────┴─────────────┴───┴─────────────┴─────────────┴─────────────┴────────┘"
      ]
     },
     "execution_count": 51,
     "metadata": {},
     "output_type": "execute_result"
    }
   ],
   "source": [
    "df = df.with_columns(\n",
    "    (pl.col(\"difference\").rank(\"dense\") * 10 / len(df))  # Scale ranks to 0-10\n",
    "    .ceil()  # Round up to 1-10\n",
    "    .clip(1, 10)  # Ensure no overflow\n",
    "    .cast(pl.UInt8)  # Save memory\n",
    "    .alias(\"decile\")\n",
    ")\n",
    "df.head(10)\n"
   ]
  },
  {
   "cell_type": "markdown",
   "metadata": {},
   "source": [
    "## How to do new treatment?\n",
    "Now that we have the predictions, we can use them to determine how to treat individuals. I have a new dataset of almost similar feature. The total population in this new dataset is 10,000 individuals. Say I have enough budget for treatment for 2,500 individuals. \n",
    "\n",
    "Randomized Conterolled Trial (RCT)  established that the treatment is effective. However, should we be randomly treating the 2,500 individual or should we be treating the individuals who are likely to benefit the most from the treatment?\n",
    "\n",
    "Let see how effective the treatment would be if we randomly treat 2,500 individuals vs targetted treatment of 2,500 individuals."
   ]
  },
  {
   "cell_type": "markdown",
   "metadata": {},
   "source": [
    "## Viewing the data and randomly assigning treatment"
   ]
  },
  {
   "cell_type": "code",
   "execution_count": 53,
   "metadata": {},
   "outputs": [
    {
     "data": {
      "text/html": [
       "<div><style>\n",
       ".dataframe > thead > tr,\n",
       ".dataframe > tbody > tr {\n",
       "  text-align: right;\n",
       "  white-space: pre-wrap;\n",
       "}\n",
       "</style>\n",
       "<small>shape: (10, 7)</small><table border=\"1\" class=\"dataframe\"><thead><tr><th>age</th><th>is_male</th><th>race</th><th>ownes_house</th><th>employment_status</th><th>employment_income</th><th>non_employment_income</th></tr><tr><td>i64</td><td>i64</td><td>str</td><td>i64</td><td>i64</td><td>f64</td><td>f64</td></tr></thead><tbody><tr><td>18</td><td>0</td><td>&quot;White&quot;</td><td>0</td><td>0</td><td>0.0</td><td>0.0</td></tr><tr><td>22</td><td>0</td><td>&quot;White&quot;</td><td>1</td><td>1</td><td>71512.0</td><td>0.0</td></tr><tr><td>18</td><td>1</td><td>&quot;White&quot;</td><td>1</td><td>1</td><td>58287.6</td><td>9000.0</td></tr><tr><td>18</td><td>0</td><td>&quot;White&quot;</td><td>1</td><td>1</td><td>69786.9</td><td>0.0</td></tr><tr><td>23</td><td>0</td><td>&quot;Other&quot;</td><td>0</td><td>1</td><td>69507.0</td><td>0.0</td></tr><tr><td>68</td><td>1</td><td>&quot;White&quot;</td><td>0</td><td>1</td><td>232942.1</td><td>12000.0</td></tr><tr><td>30</td><td>1</td><td>&quot;White&quot;</td><td>1</td><td>1</td><td>92158.8</td><td>12000.0</td></tr><tr><td>18</td><td>1</td><td>&quot;Asian&quot;</td><td>0</td><td>1</td><td>62839.9</td><td>12000.0</td></tr><tr><td>26</td><td>1</td><td>&quot;Black&quot;</td><td>0</td><td>1</td><td>85679.5</td><td>12000.0</td></tr><tr><td>18</td><td>1</td><td>&quot;White&quot;</td><td>0</td><td>0</td><td>0.0</td><td>0.0</td></tr></tbody></table></div>"
      ],
      "text/plain": [
       "shape: (10, 7)\n",
       "┌─────┬─────────┬───────┬─────────────┬───────────────────┬───────────────────┬────────────────────┐\n",
       "│ age ┆ is_male ┆ race  ┆ ownes_house ┆ employment_status ┆ employment_income ┆ non_employment_inc │\n",
       "│ --- ┆ ---     ┆ ---   ┆ ---         ┆ ---               ┆ ---               ┆ ome                │\n",
       "│ i64 ┆ i64     ┆ str   ┆ i64         ┆ i64               ┆ f64               ┆ ---                │\n",
       "│     ┆         ┆       ┆             ┆                   ┆                   ┆ f64                │\n",
       "╞═════╪═════════╪═══════╪═════════════╪═══════════════════╪═══════════════════╪════════════════════╡\n",
       "│ 18  ┆ 0       ┆ White ┆ 0           ┆ 0                 ┆ 0.0               ┆ 0.0                │\n",
       "│ 22  ┆ 0       ┆ White ┆ 1           ┆ 1                 ┆ 71512.0           ┆ 0.0                │\n",
       "│ 18  ┆ 1       ┆ White ┆ 1           ┆ 1                 ┆ 58287.6           ┆ 9000.0             │\n",
       "│ 18  ┆ 0       ┆ White ┆ 1           ┆ 1                 ┆ 69786.9           ┆ 0.0                │\n",
       "│ 23  ┆ 0       ┆ Other ┆ 0           ┆ 1                 ┆ 69507.0           ┆ 0.0                │\n",
       "│ 68  ┆ 1       ┆ White ┆ 0           ┆ 1                 ┆ 232942.1          ┆ 12000.0            │\n",
       "│ 30  ┆ 1       ┆ White ┆ 1           ┆ 1                 ┆ 92158.8           ┆ 12000.0            │\n",
       "│ 18  ┆ 1       ┆ Asian ┆ 0           ┆ 1                 ┆ 62839.9           ┆ 12000.0            │\n",
       "│ 26  ┆ 1       ┆ Black ┆ 0           ┆ 1                 ┆ 85679.5           ┆ 12000.0            │\n",
       "│ 18  ┆ 1       ┆ White ┆ 0           ┆ 0                 ┆ 0.0               ┆ 0.0                │\n",
       "└─────┴─────────┴───────┴─────────────┴───────────────────┴───────────────────┴────────────────────┘"
      ]
     },
     "execution_count": 53,
     "metadata": {},
     "output_type": "execute_result"
    }
   ],
   "source": [
    "target_df = pl.read_csv(\"new_target.csv\")\n",
    "target_df.head(10)"
   ]
  },
  {
   "cell_type": "markdown",
   "metadata": {},
   "source": [
    "## Randomly assigning treatment\n"
   ]
  },
  {
   "cell_type": "code",
   "execution_count": 54,
   "metadata": {},
   "outputs": [],
   "source": [
    "np.random.seed(259)"
   ]
  },
  {
   "cell_type": "code",
   "execution_count": 56,
   "metadata": {},
   "outputs": [
    {
     "data": {
      "text/html": [
       "<div><style>\n",
       ".dataframe > thead > tr,\n",
       ".dataframe > tbody > tr {\n",
       "  text-align: right;\n",
       "  white-space: pre-wrap;\n",
       "}\n",
       "</style>\n",
       "<small>shape: (10, 8)</small><table border=\"1\" class=\"dataframe\"><thead><tr><th>age</th><th>is_male</th><th>race</th><th>ownes_house</th><th>employment_status</th><th>employment_income</th><th>non_employment_income</th><th>treatment</th></tr><tr><td>i64</td><td>i64</td><td>str</td><td>i64</td><td>i64</td><td>f64</td><td>f64</td><td>i32</td></tr></thead><tbody><tr><td>18</td><td>0</td><td>&quot;White&quot;</td><td>0</td><td>0</td><td>0.0</td><td>0.0</td><td>0</td></tr><tr><td>22</td><td>0</td><td>&quot;White&quot;</td><td>1</td><td>1</td><td>71512.0</td><td>0.0</td><td>1</td></tr><tr><td>18</td><td>1</td><td>&quot;White&quot;</td><td>1</td><td>1</td><td>58287.6</td><td>9000.0</td><td>0</td></tr><tr><td>18</td><td>0</td><td>&quot;White&quot;</td><td>1</td><td>1</td><td>69786.9</td><td>0.0</td><td>0</td></tr><tr><td>23</td><td>0</td><td>&quot;Other&quot;</td><td>0</td><td>1</td><td>69507.0</td><td>0.0</td><td>0</td></tr><tr><td>68</td><td>1</td><td>&quot;White&quot;</td><td>0</td><td>1</td><td>232942.1</td><td>12000.0</td><td>0</td></tr><tr><td>30</td><td>1</td><td>&quot;White&quot;</td><td>1</td><td>1</td><td>92158.8</td><td>12000.0</td><td>0</td></tr><tr><td>18</td><td>1</td><td>&quot;Asian&quot;</td><td>0</td><td>1</td><td>62839.9</td><td>12000.0</td><td>0</td></tr><tr><td>26</td><td>1</td><td>&quot;Black&quot;</td><td>0</td><td>1</td><td>85679.5</td><td>12000.0</td><td>0</td></tr><tr><td>18</td><td>1</td><td>&quot;White&quot;</td><td>0</td><td>0</td><td>0.0</td><td>0.0</td><td>0</td></tr></tbody></table></div>"
      ],
      "text/plain": [
       "shape: (10, 8)\n",
       "┌─────┬─────────┬───────┬─────────────┬────────────────┬───────────────┬───────────────┬───────────┐\n",
       "│ age ┆ is_male ┆ race  ┆ ownes_house ┆ employment_sta ┆ employment_in ┆ non_employmen ┆ treatment │\n",
       "│ --- ┆ ---     ┆ ---   ┆ ---         ┆ tus            ┆ come          ┆ t_income      ┆ ---       │\n",
       "│ i64 ┆ i64     ┆ str   ┆ i64         ┆ ---            ┆ ---           ┆ ---           ┆ i32       │\n",
       "│     ┆         ┆       ┆             ┆ i64            ┆ f64           ┆ f64           ┆           │\n",
       "╞═════╪═════════╪═══════╪═════════════╪════════════════╪═══════════════╪═══════════════╪═══════════╡\n",
       "│ 18  ┆ 0       ┆ White ┆ 0           ┆ 0              ┆ 0.0           ┆ 0.0           ┆ 0         │\n",
       "│ 22  ┆ 0       ┆ White ┆ 1           ┆ 1              ┆ 71512.0       ┆ 0.0           ┆ 1         │\n",
       "│ 18  ┆ 1       ┆ White ┆ 1           ┆ 1              ┆ 58287.6       ┆ 9000.0        ┆ 0         │\n",
       "│ 18  ┆ 0       ┆ White ┆ 1           ┆ 1              ┆ 69786.9       ┆ 0.0           ┆ 0         │\n",
       "│ 23  ┆ 0       ┆ Other ┆ 0           ┆ 1              ┆ 69507.0       ┆ 0.0           ┆ 0         │\n",
       "│ 68  ┆ 1       ┆ White ┆ 0           ┆ 1              ┆ 232942.1      ┆ 12000.0       ┆ 0         │\n",
       "│ 30  ┆ 1       ┆ White ┆ 1           ┆ 1              ┆ 92158.8       ┆ 12000.0       ┆ 0         │\n",
       "│ 18  ┆ 1       ┆ Asian ┆ 0           ┆ 1              ┆ 62839.9       ┆ 12000.0       ┆ 0         │\n",
       "│ 26  ┆ 1       ┆ Black ┆ 0           ┆ 1              ┆ 85679.5       ┆ 12000.0       ┆ 0         │\n",
       "│ 18  ┆ 1       ┆ White ┆ 0           ┆ 0              ┆ 0.0           ┆ 0.0           ┆ 0         │\n",
       "└─────┴─────────┴───────┴─────────────┴────────────────┴───────────────┴───────────────┴───────────┘"
      ]
     },
     "execution_count": 56,
     "metadata": {},
     "output_type": "execute_result"
    }
   ],
   "source": [
    "treatment = np.random.choice([1, 0], target_df.shape[0], p=[0.2, 0.8])\n",
    "target = target_df.with_columns(\n",
    "    pl.Series(\"treatment\", treatment)\n",
    ")\n",
    "target.head(10)"
   ]
  },
  {
   "cell_type": "markdown",
   "metadata": {},
   "source": [
    "The function below simulates the expenditure of the population. Note, that this simulation is based on very similary features as the original dataset. The treatment is randomly assigned to 2,500 individuals, and the expenditure is calculated based on the treatment assignment.\n",
    "With random individual getting treatment, let us impact of treatment on expenditure for the treated group and the whole population"
   ]
  },
  {
   "cell_type": "code",
   "execution_count": 57,
   "metadata": {},
   "outputs": [],
   "source": [
    "%run data_processor.ipynb  # Executes the notebook\n",
    "# Then call your function directly\n",
    "target_rct = process_dataframe(target)"
   ]
  },
  {
   "cell_type": "code",
   "execution_count": 58,
   "metadata": {},
   "outputs": [],
   "source": [
    "# Process the data\n",
    "target_rct = process_dataframe(target)\n"
   ]
  },
  {
   "cell_type": "code",
   "execution_count": 59,
   "metadata": {},
   "outputs": [
    {
     "data": {
      "text/html": [
       "<div><style>\n",
       ".dataframe > thead > tr,\n",
       ".dataframe > tbody > tr {\n",
       "  text-align: right;\n",
       "  white-space: pre-wrap;\n",
       "}\n",
       "</style>\n",
       "<small>shape: (10, 9)</small><table border=\"1\" class=\"dataframe\"><thead><tr><th>age</th><th>is_male</th><th>race</th><th>ownes_house</th><th>employment_status</th><th>employment_income</th><th>non_employment_income</th><th>treatment</th><th>expenditure</th></tr><tr><td>i64</td><td>i64</td><td>str</td><td>i64</td><td>i64</td><td>f64</td><td>f64</td><td>i32</td><td>f64</td></tr></thead><tbody><tr><td>18</td><td>0</td><td>&quot;White&quot;</td><td>0</td><td>0</td><td>0.0</td><td>0.0</td><td>0</td><td>2605.35</td></tr><tr><td>22</td><td>0</td><td>&quot;White&quot;</td><td>1</td><td>1</td><td>71512.0</td><td>0.0</td><td>1</td><td>48757.7</td></tr><tr><td>18</td><td>1</td><td>&quot;White&quot;</td><td>1</td><td>1</td><td>58287.6</td><td>9000.0</td><td>0</td><td>43746.21</td></tr><tr><td>18</td><td>0</td><td>&quot;White&quot;</td><td>1</td><td>1</td><td>69786.9</td><td>0.0</td><td>0</td><td>50138.03</td></tr><tr><td>23</td><td>0</td><td>&quot;Other&quot;</td><td>0</td><td>1</td><td>69507.0</td><td>0.0</td><td>0</td><td>49936.94</td></tr><tr><td>68</td><td>1</td><td>&quot;White&quot;</td><td>0</td><td>1</td><td>232942.1</td><td>12000.0</td><td>0</td><td>169849.07</td></tr><tr><td>30</td><td>1</td><td>&quot;White&quot;</td><td>1</td><td>1</td><td>92158.8</td><td>12000.0</td><td>0</td><td>68704.06</td></tr><tr><td>18</td><td>1</td><td>&quot;Asian&quot;</td><td>0</td><td>1</td><td>62839.9</td><td>12000.0</td><td>0</td><td>47640.05</td></tr><tr><td>26</td><td>1</td><td>&quot;Black&quot;</td><td>0</td><td>1</td><td>85679.5</td><td>12000.0</td><td>0</td><td>64049.04</td></tr><tr><td>18</td><td>1</td><td>&quot;White&quot;</td><td>0</td><td>0</td><td>0.0</td><td>0.0</td><td>0</td><td>2605.35</td></tr></tbody></table></div>"
      ],
      "text/plain": [
       "shape: (10, 9)\n",
       "┌─────┬─────────┬───────┬─────────────┬───┬───────────────┬──────────────┬───────────┬─────────────┐\n",
       "│ age ┆ is_male ┆ race  ┆ ownes_house ┆ … ┆ employment_in ┆ non_employme ┆ treatment ┆ expenditure │\n",
       "│ --- ┆ ---     ┆ ---   ┆ ---         ┆   ┆ come          ┆ nt_income    ┆ ---       ┆ ---         │\n",
       "│ i64 ┆ i64     ┆ str   ┆ i64         ┆   ┆ ---           ┆ ---          ┆ i32       ┆ f64         │\n",
       "│     ┆         ┆       ┆             ┆   ┆ f64           ┆ f64          ┆           ┆             │\n",
       "╞═════╪═════════╪═══════╪═════════════╪═══╪═══════════════╪══════════════╪═══════════╪═════════════╡\n",
       "│ 18  ┆ 0       ┆ White ┆ 0           ┆ … ┆ 0.0           ┆ 0.0          ┆ 0         ┆ 2605.35     │\n",
       "│ 22  ┆ 0       ┆ White ┆ 1           ┆ … ┆ 71512.0       ┆ 0.0          ┆ 1         ┆ 48757.7     │\n",
       "│ 18  ┆ 1       ┆ White ┆ 1           ┆ … ┆ 58287.6       ┆ 9000.0       ┆ 0         ┆ 43746.21    │\n",
       "│ 18  ┆ 0       ┆ White ┆ 1           ┆ … ┆ 69786.9       ┆ 0.0          ┆ 0         ┆ 50138.03    │\n",
       "│ 23  ┆ 0       ┆ Other ┆ 0           ┆ … ┆ 69507.0       ┆ 0.0          ┆ 0         ┆ 49936.94    │\n",
       "│ 68  ┆ 1       ┆ White ┆ 0           ┆ … ┆ 232942.1      ┆ 12000.0      ┆ 0         ┆ 169849.07   │\n",
       "│ 30  ┆ 1       ┆ White ┆ 1           ┆ … ┆ 92158.8       ┆ 12000.0      ┆ 0         ┆ 68704.06    │\n",
       "│ 18  ┆ 1       ┆ Asian ┆ 0           ┆ … ┆ 62839.9       ┆ 12000.0      ┆ 0         ┆ 47640.05    │\n",
       "│ 26  ┆ 1       ┆ Black ┆ 0           ┆ … ┆ 85679.5       ┆ 12000.0      ┆ 0         ┆ 64049.04    │\n",
       "│ 18  ┆ 1       ┆ White ┆ 0           ┆ … ┆ 0.0           ┆ 0.0          ┆ 0         ┆ 2605.35     │\n",
       "└─────┴─────────┴───────┴─────────────┴───┴───────────────┴──────────────┴───────────┴─────────────┘"
      ]
     },
     "execution_count": 59,
     "metadata": {},
     "output_type": "execute_result"
    }
   ],
   "source": [
    "# Now you can work with the processed data\n",
    "target_rct.head(10)"
   ]
  },
  {
   "cell_type": "markdown",
   "metadata": {},
   "source": [
    "### With T Learner"
   ]
  },
  {
   "cell_type": "code",
   "execution_count": 65,
   "metadata": {},
   "outputs": [
    {
     "data": {
      "text/html": [
       "<div><style>\n",
       ".dataframe > thead > tr,\n",
       ".dataframe > tbody > tr {\n",
       "  text-align: right;\n",
       "  white-space: pre-wrap;\n",
       "}\n",
       "</style>\n",
       "<small>shape: (5, 13)</small><table border=\"1\" class=\"dataframe\"><thead><tr><th>age</th><th>is_male</th><th>ownes_house</th><th>employment_status</th><th>employment_income</th><th>non_employment_income</th><th>treatment</th><th>expenditure</th><th>race_encoded</th><th>predicted_expenditure_treated</th><th>predicted_expenditure_control</th><th>difference</th><th>decile</th></tr><tr><td>i64</td><td>i64</td><td>i64</td><td>i64</td><td>f64</td><td>f64</td><td>i64</td><td>f64</td><td>i32</td><td>f64</td><td>f64</td><td>f64</td><td>u8</td></tr></thead><tbody><tr><td>18</td><td>0</td><td>0</td><td>0</td><td>0.0</td><td>0.0</td><td>0</td><td>2993.03</td><td>4</td><td>4846.948558</td><td>3995.160217</td><td>851.788341</td><td>1</td></tr><tr><td>22</td><td>0</td><td>1</td><td>1</td><td>71512.0</td><td>0.0</td><td>0</td><td>42829.0</td><td>4</td><td>56487.114917</td><td>49068.766969</td><td>7418.347948</td><td>4</td></tr><tr><td>18</td><td>1</td><td>1</td><td>1</td><td>58287.6</td><td>9000.0</td><td>1</td><td>45194.99</td><td>4</td><td>50069.511648</td><td>43685.418864</td><td>6384.092785</td><td>2</td></tr><tr><td>18</td><td>0</td><td>1</td><td>1</td><td>69786.9</td><td>0.0</td><td>0</td><td>51264.09</td><td>4</td><td>55107.660217</td><td>47853.639374</td><td>7254.020843</td><td>4</td></tr><tr><td>23</td><td>0</td><td>0</td><td>1</td><td>69507.0</td><td>0.0</td><td>0</td><td>49103.26</td><td>3</td><td>55007.196499</td><td>47613.271204</td><td>7393.925295</td><td>4</td></tr></tbody></table></div>"
      ],
      "text/plain": [
       "shape: (5, 13)\n",
       "┌─────┬─────────┬─────────────┬─────────────┬───┬─────────────┬─────────────┬─────────────┬────────┐\n",
       "│ age ┆ is_male ┆ ownes_house ┆ employment_ ┆ … ┆ predicted_e ┆ predicted_e ┆ difference  ┆ decile │\n",
       "│ --- ┆ ---     ┆ ---         ┆ status      ┆   ┆ xpenditure_ ┆ xpenditure_ ┆ ---         ┆ ---    │\n",
       "│ i64 ┆ i64     ┆ i64         ┆ ---         ┆   ┆ treated     ┆ control     ┆ f64         ┆ u8     │\n",
       "│     ┆         ┆             ┆ i64         ┆   ┆ ---         ┆ ---         ┆             ┆        │\n",
       "│     ┆         ┆             ┆             ┆   ┆ f64         ┆ f64         ┆             ┆        │\n",
       "╞═════╪═════════╪═════════════╪═════════════╪═══╪═════════════╪═════════════╪═════════════╪════════╡\n",
       "│ 18  ┆ 0       ┆ 0           ┆ 0           ┆ … ┆ 4846.948558 ┆ 3995.160217 ┆ 851.788341  ┆ 1      │\n",
       "│ 22  ┆ 0       ┆ 1           ┆ 1           ┆ … ┆ 56487.11491 ┆ 49068.76696 ┆ 7418.347948 ┆ 4      │\n",
       "│     ┆         ┆             ┆             ┆   ┆ 7           ┆ 9           ┆             ┆        │\n",
       "│ 18  ┆ 1       ┆ 1           ┆ 1           ┆ … ┆ 50069.51164 ┆ 43685.41886 ┆ 6384.092785 ┆ 2      │\n",
       "│     ┆         ┆             ┆             ┆   ┆ 8           ┆ 4           ┆             ┆        │\n",
       "│ 18  ┆ 0       ┆ 1           ┆ 1           ┆ … ┆ 55107.66021 ┆ 47853.63937 ┆ 7254.020843 ┆ 4      │\n",
       "│     ┆         ┆             ┆             ┆   ┆ 7           ┆ 4           ┆             ┆        │\n",
       "│ 23  ┆ 0       ┆ 0           ┆ 1           ┆ … ┆ 55007.19649 ┆ 47613.27120 ┆ 7393.925295 ┆ 4      │\n",
       "│     ┆         ┆             ┆             ┆   ┆ 9           ┆ 4           ┆             ┆        │\n",
       "└─────┴─────────┴─────────────┴─────────────┴───┴─────────────┴─────────────┴─────────────┴────────┘"
      ]
     },
     "execution_count": 65,
     "metadata": {},
     "output_type": "execute_result"
    }
   ],
   "source": [
    "df.head(5)"
   ]
  },
  {
   "cell_type": "code",
   "execution_count": 67,
   "metadata": {},
   "outputs": [
    {
     "data": {
      "text/html": [
       "<div><style>\n",
       ".dataframe > thead > tr,\n",
       ".dataframe > tbody > tr {\n",
       "  text-align: right;\n",
       "  white-space: pre-wrap;\n",
       "}\n",
       "</style>\n",
       "<small>shape: (10_000, 7)</small><table border=\"1\" class=\"dataframe\"><thead><tr><th>age</th><th>is_male</th><th>ownes_house</th><th>employment_status</th><th>employment_income</th><th>non_employment_income</th><th>race_encoded</th></tr><tr><td>i64</td><td>i64</td><td>i64</td><td>i64</td><td>f64</td><td>f64</td><td>i32</td></tr></thead><tbody><tr><td>18</td><td>0</td><td>0</td><td>0</td><td>0.0</td><td>0.0</td><td>4</td></tr><tr><td>22</td><td>0</td><td>1</td><td>1</td><td>71512.0</td><td>0.0</td><td>4</td></tr><tr><td>18</td><td>1</td><td>1</td><td>1</td><td>58287.6</td><td>9000.0</td><td>4</td></tr><tr><td>18</td><td>0</td><td>1</td><td>1</td><td>69786.9</td><td>0.0</td><td>4</td></tr><tr><td>23</td><td>0</td><td>0</td><td>1</td><td>69507.0</td><td>0.0</td><td>3</td></tr><tr><td>&hellip;</td><td>&hellip;</td><td>&hellip;</td><td>&hellip;</td><td>&hellip;</td><td>&hellip;</td><td>&hellip;</td></tr><tr><td>37</td><td>0</td><td>0</td><td>1</td><td>109040.0</td><td>0.0</td><td>0</td></tr><tr><td>18</td><td>0</td><td>1</td><td>0</td><td>0.0</td><td>9000.0</td><td>0</td></tr><tr><td>70</td><td>0</td><td>0</td><td>1</td><td>186989.3</td><td>12000.0</td><td>4</td></tr><tr><td>18</td><td>1</td><td>0</td><td>1</td><td>60777.9</td><td>0.0</td><td>1</td></tr><tr><td>36</td><td>0</td><td>0</td><td>0</td><td>0.0</td><td>0.0</td><td>2</td></tr></tbody></table></div>"
      ],
      "text/plain": [
       "shape: (10_000, 7)\n",
       "┌─────┬─────────┬─────────────┬─────────────────┬─────────────────┬─────────────────┬──────────────┐\n",
       "│ age ┆ is_male ┆ ownes_house ┆ employment_stat ┆ employment_inco ┆ non_employment_ ┆ race_encoded │\n",
       "│ --- ┆ ---     ┆ ---         ┆ us              ┆ me              ┆ income          ┆ ---          │\n",
       "│ i64 ┆ i64     ┆ i64         ┆ ---             ┆ ---             ┆ ---             ┆ i32          │\n",
       "│     ┆         ┆             ┆ i64             ┆ f64             ┆ f64             ┆              │\n",
       "╞═════╪═════════╪═════════════╪═════════════════╪═════════════════╪═════════════════╪══════════════╡\n",
       "│ 18  ┆ 0       ┆ 0           ┆ 0               ┆ 0.0             ┆ 0.0             ┆ 4            │\n",
       "│ 22  ┆ 0       ┆ 1           ┆ 1               ┆ 71512.0         ┆ 0.0             ┆ 4            │\n",
       "│ 18  ┆ 1       ┆ 1           ┆ 1               ┆ 58287.6         ┆ 9000.0          ┆ 4            │\n",
       "│ 18  ┆ 0       ┆ 1           ┆ 1               ┆ 69786.9         ┆ 0.0             ┆ 4            │\n",
       "│ 23  ┆ 0       ┆ 0           ┆ 1               ┆ 69507.0         ┆ 0.0             ┆ 3            │\n",
       "│ …   ┆ …       ┆ …           ┆ …               ┆ …               ┆ …               ┆ …            │\n",
       "│ 37  ┆ 0       ┆ 0           ┆ 1               ┆ 109040.0        ┆ 0.0             ┆ 0            │\n",
       "│ 18  ┆ 0       ┆ 1           ┆ 0               ┆ 0.0             ┆ 9000.0          ┆ 0            │\n",
       "│ 70  ┆ 0       ┆ 0           ┆ 1               ┆ 186989.3        ┆ 12000.0         ┆ 4            │\n",
       "│ 18  ┆ 1       ┆ 0           ┆ 1               ┆ 60777.9         ┆ 0.0             ┆ 1            │\n",
       "│ 36  ┆ 0       ┆ 0           ┆ 0               ┆ 0.0             ┆ 0.0             ┆ 2            │\n",
       "└─────┴─────────┴─────────────┴─────────────────┴─────────────────┴─────────────────┴──────────────┘"
      ]
     },
     "execution_count": 67,
     "metadata": {},
     "output_type": "execute_result"
    }
   ],
   "source": [
    "df.drop('expenditure','treatment','predicted_expenditure_treated','predicted_expenditure_control','difference','decile')"
   ]
  },
  {
   "cell_type": "code",
   "execution_count": 71,
   "metadata": {},
   "outputs": [],
   "source": [
    "\n",
    "# Fit the model on the entire dataset\n",
    "new_df_treated = df.filter(pl.col('treatment')==1).drop('treatment')\n",
    "new_df_control = df.filter(pl.col('treatment')==0).drop('treatment')\n",
    "\n",
    "new_df_treated = new_df_treated.drop(['expenditure','predicted_expenditure_treated','predicted_expenditure_control','difference','decile'])\n",
    "new_df_control = new_df_control.drop(['expenditure','predicted_expenditure_treated','predicted_expenditure_control','difference','decile'])\n"
   ]
  },
  {
   "cell_type": "code",
   "execution_count": 136,
   "metadata": {},
   "outputs": [],
   "source": [
    "\n",
    "lr = LinearRegression()\n",
    "lr_treated = lr.fit(new_df_treated.to_numpy(),y_treated)    \n",
    "lr = LinearRegression()\n",
    "lr_control = lr.fit(new_df_control.to_numpy(),y_control)"
   ]
  },
  {
   "cell_type": "code",
   "execution_count": 137,
   "metadata": {},
   "outputs": [
    {
     "data": {
      "text/html": [
       "<div><style>\n",
       ".dataframe > thead > tr,\n",
       ".dataframe > tbody > tr {\n",
       "  text-align: right;\n",
       "  white-space: pre-wrap;\n",
       "}\n",
       "</style>\n",
       "<small>shape: (10, 8)</small><table border=\"1\" class=\"dataframe\"><thead><tr><th>age</th><th>is_male</th><th>race</th><th>ownes_house</th><th>employment_status</th><th>employment_income</th><th>non_employment_income</th><th>race_encoded</th></tr><tr><td>i64</td><td>i64</td><td>str</td><td>i64</td><td>i64</td><td>f64</td><td>f64</td><td>i32</td></tr></thead><tbody><tr><td>18</td><td>0</td><td>&quot;White&quot;</td><td>0</td><td>0</td><td>0.0</td><td>0.0</td><td>4</td></tr><tr><td>22</td><td>0</td><td>&quot;White&quot;</td><td>1</td><td>1</td><td>71512.0</td><td>0.0</td><td>4</td></tr><tr><td>18</td><td>1</td><td>&quot;White&quot;</td><td>1</td><td>1</td><td>58287.6</td><td>9000.0</td><td>4</td></tr><tr><td>18</td><td>0</td><td>&quot;White&quot;</td><td>1</td><td>1</td><td>69786.9</td><td>0.0</td><td>4</td></tr><tr><td>23</td><td>0</td><td>&quot;Other&quot;</td><td>0</td><td>1</td><td>69507.0</td><td>0.0</td><td>3</td></tr><tr><td>68</td><td>1</td><td>&quot;White&quot;</td><td>0</td><td>1</td><td>232942.1</td><td>12000.0</td><td>4</td></tr><tr><td>30</td><td>1</td><td>&quot;White&quot;</td><td>1</td><td>1</td><td>92158.8</td><td>12000.0</td><td>4</td></tr><tr><td>18</td><td>1</td><td>&quot;Asian&quot;</td><td>0</td><td>1</td><td>62839.9</td><td>12000.0</td><td>0</td></tr><tr><td>26</td><td>1</td><td>&quot;Black&quot;</td><td>0</td><td>1</td><td>85679.5</td><td>12000.0</td><td>1</td></tr><tr><td>18</td><td>1</td><td>&quot;White&quot;</td><td>0</td><td>0</td><td>0.0</td><td>0.0</td><td>4</td></tr></tbody></table></div>"
      ],
      "text/plain": [
       "shape: (10, 8)\n",
       "┌─────┬─────────┬───────┬─────────────┬───────────────┬──────────────┬──────────────┬──────────────┐\n",
       "│ age ┆ is_male ┆ race  ┆ ownes_house ┆ employment_st ┆ employment_i ┆ non_employme ┆ race_encoded │\n",
       "│ --- ┆ ---     ┆ ---   ┆ ---         ┆ atus          ┆ ncome        ┆ nt_income    ┆ ---          │\n",
       "│ i64 ┆ i64     ┆ str   ┆ i64         ┆ ---           ┆ ---          ┆ ---          ┆ i32          │\n",
       "│     ┆         ┆       ┆             ┆ i64           ┆ f64          ┆ f64          ┆              │\n",
       "╞═════╪═════════╪═══════╪═════════════╪═══════════════╪══════════════╪══════════════╪══════════════╡\n",
       "│ 18  ┆ 0       ┆ White ┆ 0           ┆ 0             ┆ 0.0          ┆ 0.0          ┆ 4            │\n",
       "│ 22  ┆ 0       ┆ White ┆ 1           ┆ 1             ┆ 71512.0      ┆ 0.0          ┆ 4            │\n",
       "│ 18  ┆ 1       ┆ White ┆ 1           ┆ 1             ┆ 58287.6      ┆ 9000.0       ┆ 4            │\n",
       "│ 18  ┆ 0       ┆ White ┆ 1           ┆ 1             ┆ 69786.9      ┆ 0.0          ┆ 4            │\n",
       "│ 23  ┆ 0       ┆ Other ┆ 0           ┆ 1             ┆ 69507.0      ┆ 0.0          ┆ 3            │\n",
       "│ 68  ┆ 1       ┆ White ┆ 0           ┆ 1             ┆ 232942.1     ┆ 12000.0      ┆ 4            │\n",
       "│ 30  ┆ 1       ┆ White ┆ 1           ┆ 1             ┆ 92158.8      ┆ 12000.0      ┆ 4            │\n",
       "│ 18  ┆ 1       ┆ Asian ┆ 0           ┆ 1             ┆ 62839.9      ┆ 12000.0      ┆ 0            │\n",
       "│ 26  ┆ 1       ┆ Black ┆ 0           ┆ 1             ┆ 85679.5      ┆ 12000.0      ┆ 1            │\n",
       "│ 18  ┆ 1       ┆ White ┆ 0           ┆ 0             ┆ 0.0          ┆ 0.0          ┆ 4            │\n",
       "└─────┴─────────┴───────┴─────────────┴───────────────┴──────────────┴──────────────┴──────────────┘"
      ]
     },
     "execution_count": 137,
     "metadata": {},
     "output_type": "execute_result"
    }
   ],
   "source": [
    "race_array = target_df['race'].to_numpy()\n",
    "label_encoder = LabelEncoder()\n",
    "race_encoded = label_encoder.fit_transform(race_array)\n",
    "target = target_df.with_columns(pl.Series('race_encoded', race_encoded))\n",
    "\n",
    "\n",
    "target_meta = target\n",
    "target_meta.head(10)"
   ]
  },
  {
   "cell_type": "code",
   "execution_count": 138,
   "metadata": {},
   "outputs": [
    {
     "name": "stderr",
     "output_type": "stream",
     "text": [
      "c:\\Users\\meala\\anaconda3\\Lib\\site-packages\\sklearn\\base.py:432: UserWarning: X has feature names, but LinearRegression was fitted without feature names\n",
      "  warnings.warn(\n",
      "c:\\Users\\meala\\anaconda3\\Lib\\site-packages\\sklearn\\base.py:432: UserWarning: X has feature names, but LinearRegression was fitted without feature names\n",
      "  warnings.warn(\n"
     ]
    },
    {
     "data": {
      "text/html": [
       "<div><style>\n",
       ".dataframe > thead > tr,\n",
       ".dataframe > tbody > tr {\n",
       "  text-align: right;\n",
       "  white-space: pre-wrap;\n",
       "}\n",
       "</style>\n",
       "<small>shape: (10, 11)</small><table border=\"1\" class=\"dataframe\"><thead><tr><th>age</th><th>is_male</th><th>race</th><th>ownes_house</th><th>employment_status</th><th>employment_income</th><th>non_employment_income</th><th>race_encoded</th><th>predicted_expenditure_treated</th><th>predicted_expenditure_control</th><th>difference</th></tr><tr><td>i64</td><td>i64</td><td>str</td><td>i64</td><td>i64</td><td>f64</td><td>f64</td><td>i32</td><td>f64</td><td>f64</td><td>f64</td></tr></thead><tbody><tr><td>18</td><td>0</td><td>&quot;White&quot;</td><td>0</td><td>0</td><td>0.0</td><td>0.0</td><td>4</td><td>4846.948558</td><td>3995.160217</td><td>851.788341</td></tr><tr><td>22</td><td>0</td><td>&quot;White&quot;</td><td>1</td><td>1</td><td>71512.0</td><td>0.0</td><td>4</td><td>56487.114917</td><td>49068.766969</td><td>7418.347948</td></tr><tr><td>18</td><td>1</td><td>&quot;White&quot;</td><td>1</td><td>1</td><td>58287.6</td><td>9000.0</td><td>4</td><td>50069.511648</td><td>43685.418864</td><td>6384.092785</td></tr><tr><td>18</td><td>0</td><td>&quot;White&quot;</td><td>1</td><td>1</td><td>69786.9</td><td>0.0</td><td>4</td><td>55107.660217</td><td>47853.639374</td><td>7254.020843</td></tr><tr><td>23</td><td>0</td><td>&quot;Other&quot;</td><td>0</td><td>1</td><td>69507.0</td><td>0.0</td><td>3</td><td>55007.196499</td><td>47613.271204</td><td>7393.925295</td></tr><tr><td>68</td><td>1</td><td>&quot;White&quot;</td><td>0</td><td>1</td><td>232942.1</td><td>12000.0</td><td>4</td><td>189386.150184</td><td>166815.573042</td><td>22570.577142</td></tr><tr><td>30</td><td>1</td><td>&quot;White&quot;</td><td>1</td><td>1</td><td>92158.8</td><td>12000.0</td><td>4</td><td>78132.170784</td><td>68677.80883</td><td>9454.361954</td></tr><tr><td>18</td><td>1</td><td>&quot;Asian&quot;</td><td>0</td><td>1</td><td>62839.9</td><td>12000.0</td><td>0</td><td>54683.752227</td><td>48284.347323</td><td>6399.404905</td></tr><tr><td>26</td><td>1</td><td>&quot;Black&quot;</td><td>0</td><td>1</td><td>85679.5</td><td>12000.0</td><td>1</td><td>72838.425263</td><td>64181.855078</td><td>8656.570185</td></tr><tr><td>18</td><td>1</td><td>&quot;White&quot;</td><td>0</td><td>0</td><td>0.0</td><td>0.0</td><td>4</td><td>4856.448772</td><td>3803.325845</td><td>1053.122927</td></tr></tbody></table></div>"
      ],
      "text/plain": [
       "shape: (10, 11)\n",
       "┌─────┬─────────┬───────┬─────────────┬───┬──────────────┬─────────────┬─────────────┬─────────────┐\n",
       "│ age ┆ is_male ┆ race  ┆ ownes_house ┆ … ┆ race_encoded ┆ predicted_e ┆ predicted_e ┆ difference  │\n",
       "│ --- ┆ ---     ┆ ---   ┆ ---         ┆   ┆ ---          ┆ xpenditure_ ┆ xpenditure_ ┆ ---         │\n",
       "│ i64 ┆ i64     ┆ str   ┆ i64         ┆   ┆ i32          ┆ treated     ┆ control     ┆ f64         │\n",
       "│     ┆         ┆       ┆             ┆   ┆              ┆ ---         ┆ ---         ┆             │\n",
       "│     ┆         ┆       ┆             ┆   ┆              ┆ f64         ┆ f64         ┆             │\n",
       "╞═════╪═════════╪═══════╪═════════════╪═══╪══════════════╪═════════════╪═════════════╪═════════════╡\n",
       "│ 18  ┆ 0       ┆ White ┆ 0           ┆ … ┆ 4            ┆ 4846.948558 ┆ 3995.160217 ┆ 851.788341  │\n",
       "│ 22  ┆ 0       ┆ White ┆ 1           ┆ … ┆ 4            ┆ 56487.11491 ┆ 49068.76696 ┆ 7418.347948 │\n",
       "│     ┆         ┆       ┆             ┆   ┆              ┆ 7           ┆ 9           ┆             │\n",
       "│ 18  ┆ 1       ┆ White ┆ 1           ┆ … ┆ 4            ┆ 50069.51164 ┆ 43685.41886 ┆ 6384.092785 │\n",
       "│     ┆         ┆       ┆             ┆   ┆              ┆ 8           ┆ 4           ┆             │\n",
       "│ 18  ┆ 0       ┆ White ┆ 1           ┆ … ┆ 4            ┆ 55107.66021 ┆ 47853.63937 ┆ 7254.020843 │\n",
       "│     ┆         ┆       ┆             ┆   ┆              ┆ 7           ┆ 4           ┆             │\n",
       "│ 23  ┆ 0       ┆ Other ┆ 0           ┆ … ┆ 3            ┆ 55007.19649 ┆ 47613.27120 ┆ 7393.925295 │\n",
       "│     ┆         ┆       ┆             ┆   ┆              ┆ 9           ┆ 4           ┆             │\n",
       "│ 68  ┆ 1       ┆ White ┆ 0           ┆ … ┆ 4            ┆ 189386.1501 ┆ 166815.5730 ┆ 22570.57714 │\n",
       "│     ┆         ┆       ┆             ┆   ┆              ┆ 84          ┆ 42          ┆ 2           │\n",
       "│ 30  ┆ 1       ┆ White ┆ 1           ┆ … ┆ 4            ┆ 78132.17078 ┆ 68677.80883 ┆ 9454.361954 │\n",
       "│     ┆         ┆       ┆             ┆   ┆              ┆ 4           ┆             ┆             │\n",
       "│ 18  ┆ 1       ┆ Asian ┆ 0           ┆ … ┆ 0            ┆ 54683.75222 ┆ 48284.34732 ┆ 6399.404905 │\n",
       "│     ┆         ┆       ┆             ┆   ┆              ┆ 7           ┆ 3           ┆             │\n",
       "│ 26  ┆ 1       ┆ Black ┆ 0           ┆ … ┆ 1            ┆ 72838.42526 ┆ 64181.85507 ┆ 8656.570185 │\n",
       "│     ┆         ┆       ┆             ┆   ┆              ┆ 3           ┆ 8           ┆             │\n",
       "│ 18  ┆ 1       ┆ White ┆ 0           ┆ … ┆ 4            ┆ 4856.448772 ┆ 3803.325845 ┆ 1053.122927 │\n",
       "└─────┴─────────┴───────┴─────────────┴───┴──────────────┴─────────────┴─────────────┴─────────────┘"
      ]
     },
     "execution_count": 138,
     "metadata": {},
     "output_type": "execute_result"
    }
   ],
   "source": [
    "pred_treated = lr_treated.predict(target_meta.drop('race')).flatten()\n",
    "pred_control = lr_control.predict(target_meta.drop('race')).flatten()\n",
    "\n",
    "target_meta = target_meta.with_columns(\n",
    "    pl.Series(pred_treated).alias('predicted_expenditure_treated'),\n",
    "    pl.Series(pred_control).alias('predicted_expenditure_control')\n",
    ")\n",
    "\n",
    "target_meta = target_meta.with_columns(\n",
    "    (pl.col('predicted_expenditure_treated') - pl.col('predicted_expenditure_control')).alias('difference')\n",
    ")\n",
    "\n",
    "target_meta.head(10)\n",
    "\n"
   ]
  },
  {
   "cell_type": "code",
   "execution_count": 139,
   "metadata": {},
   "outputs": [
    {
     "data": {
      "text/html": [
       "<div><style>\n",
       ".dataframe > thead > tr,\n",
       ".dataframe > tbody > tr {\n",
       "  text-align: right;\n",
       "  white-space: pre-wrap;\n",
       "}\n",
       "</style>\n",
       "<small>shape: (10, 11)</small><table border=\"1\" class=\"dataframe\"><thead><tr><th>age</th><th>is_male</th><th>race</th><th>ownes_house</th><th>employment_status</th><th>employment_income</th><th>non_employment_income</th><th>race_encoded</th><th>predicted_expenditure_treated</th><th>predicted_expenditure_control</th><th>difference</th></tr><tr><td>i64</td><td>i64</td><td>str</td><td>i64</td><td>i64</td><td>f64</td><td>f64</td><td>i32</td><td>f64</td><td>f64</td><td>f64</td></tr></thead><tbody><tr><td>70</td><td>1</td><td>&quot;White&quot;</td><td>0</td><td>1</td><td>247699.0</td><td>9000.0</td><td>4</td><td>199678.648025</td><td>175761.214737</td><td>23917.433288</td></tr><tr><td>70</td><td>1</td><td>&quot;White&quot;</td><td>0</td><td>1</td><td>243603.4</td><td>9000.0</td><td>4</td><td>196454.589712</td><td>172906.612229</td><td>23547.977483</td></tr><tr><td>70</td><td>1</td><td>&quot;White&quot;</td><td>0</td><td>1</td><td>242525.2</td><td>9000.0</td><td>4</td><td>195605.830147</td><td>172155.114909</td><td>23450.715238</td></tr><tr><td>70</td><td>1</td><td>&quot;White&quot;</td><td>0</td><td>1</td><td>242624.6</td><td>12000.0</td><td>4</td><td>197018.946467</td><td>173570.575893</td><td>23448.370574</td></tr><tr><td>70</td><td>1</td><td>&quot;White&quot;</td><td>0</td><td>1</td><td>242269.9</td><td>12000.0</td><td>4</td><td>196739.726454</td><td>173323.352651</td><td>23416.373803</td></tr><tr><td>70</td><td>0</td><td>&quot;White&quot;</td><td>1</td><td>1</td><td>247751.8</td><td>9000.0</td><td>4</td><td>199485.238704</td><td>176098.076489</td><td>23387.162215</td></tr><tr><td>70</td><td>1</td><td>&quot;White&quot;</td><td>0</td><td>1</td><td>241563.9</td><td>5000.0</td><td>4</td><td>193069.269531</td><td>169690.189441</td><td>23379.08009</td></tr><tr><td>70</td><td>0</td><td>&quot;White&quot;</td><td>1</td><td>1</td><td>247148.6</td><td>9000.0</td><td>4</td><td>199010.39937</td><td>175677.650609</td><td>23332.748761</td></tr><tr><td>70</td><td>1</td><td>&quot;Hispanic&quot;</td><td>1</td><td>1</td><td>247949.2</td><td>9000.0</td><td>2</td><td>199385.295253</td><td>176137.856298</td><td>23247.438956</td></tr><tr><td>70</td><td>1</td><td>&quot;White&quot;</td><td>1</td><td>1</td><td>243877.4</td><td>9000.0</td><td>4</td><td>196444.809352</td><td>173205.814351</td><td>23238.995001</td></tr></tbody></table></div>"
      ],
      "text/plain": [
       "shape: (10, 11)\n",
       "┌─────┬─────────┬──────────┬─────────────┬───┬─────────────┬─────────────┬────────────┬────────────┐\n",
       "│ age ┆ is_male ┆ race     ┆ ownes_house ┆ … ┆ race_encode ┆ predicted_e ┆ predicted_ ┆ difference │\n",
       "│ --- ┆ ---     ┆ ---      ┆ ---         ┆   ┆ d           ┆ xpenditure_ ┆ expenditur ┆ ---        │\n",
       "│ i64 ┆ i64     ┆ str      ┆ i64         ┆   ┆ ---         ┆ treated     ┆ e_control  ┆ f64        │\n",
       "│     ┆         ┆          ┆             ┆   ┆ i32         ┆ ---         ┆ ---        ┆            │\n",
       "│     ┆         ┆          ┆             ┆   ┆             ┆ f64         ┆ f64        ┆            │\n",
       "╞═════╪═════════╪══════════╪═════════════╪═══╪═════════════╪═════════════╪════════════╪════════════╡\n",
       "│ 70  ┆ 1       ┆ White    ┆ 0           ┆ … ┆ 4           ┆ 199678.6480 ┆ 175761.214 ┆ 23917.4332 │\n",
       "│     ┆         ┆          ┆             ┆   ┆             ┆ 25          ┆ 737        ┆ 88         │\n",
       "│ 70  ┆ 1       ┆ White    ┆ 0           ┆ … ┆ 4           ┆ 196454.5897 ┆ 172906.612 ┆ 23547.9774 │\n",
       "│     ┆         ┆          ┆             ┆   ┆             ┆ 12          ┆ 229        ┆ 83         │\n",
       "│ 70  ┆ 1       ┆ White    ┆ 0           ┆ … ┆ 4           ┆ 195605.8301 ┆ 172155.114 ┆ 23450.7152 │\n",
       "│     ┆         ┆          ┆             ┆   ┆             ┆ 47          ┆ 909        ┆ 38         │\n",
       "│ 70  ┆ 1       ┆ White    ┆ 0           ┆ … ┆ 4           ┆ 197018.9464 ┆ 173570.575 ┆ 23448.3705 │\n",
       "│     ┆         ┆          ┆             ┆   ┆             ┆ 67          ┆ 893        ┆ 74         │\n",
       "│ 70  ┆ 1       ┆ White    ┆ 0           ┆ … ┆ 4           ┆ 196739.7264 ┆ 173323.352 ┆ 23416.3738 │\n",
       "│     ┆         ┆          ┆             ┆   ┆             ┆ 54          ┆ 651        ┆ 03         │\n",
       "│ 70  ┆ 0       ┆ White    ┆ 1           ┆ … ┆ 4           ┆ 199485.2387 ┆ 176098.076 ┆ 23387.1622 │\n",
       "│     ┆         ┆          ┆             ┆   ┆             ┆ 04          ┆ 489        ┆ 15         │\n",
       "│ 70  ┆ 1       ┆ White    ┆ 0           ┆ … ┆ 4           ┆ 193069.2695 ┆ 169690.189 ┆ 23379.0800 │\n",
       "│     ┆         ┆          ┆             ┆   ┆             ┆ 31          ┆ 441        ┆ 9          │\n",
       "│ 70  ┆ 0       ┆ White    ┆ 1           ┆ … ┆ 4           ┆ 199010.3993 ┆ 175677.650 ┆ 23332.7487 │\n",
       "│     ┆         ┆          ┆             ┆   ┆             ┆ 7           ┆ 609        ┆ 61         │\n",
       "│ 70  ┆ 1       ┆ Hispanic ┆ 1           ┆ … ┆ 2           ┆ 199385.2952 ┆ 176137.856 ┆ 23247.4389 │\n",
       "│     ┆         ┆          ┆             ┆   ┆             ┆ 53          ┆ 298        ┆ 56         │\n",
       "│ 70  ┆ 1       ┆ White    ┆ 1           ┆ … ┆ 4           ┆ 196444.8093 ┆ 173205.814 ┆ 23238.9950 │\n",
       "│     ┆         ┆          ┆             ┆   ┆             ┆ 52          ┆ 351        ┆ 01         │\n",
       "└─────┴─────────┴──────────┴─────────────┴───┴─────────────┴─────────────┴────────────┴────────────┘"
      ]
     },
     "execution_count": 139,
     "metadata": {},
     "output_type": "execute_result"
    }
   ],
   "source": [
    "target_meta = target_meta.sort('difference', descending=True)\n",
    "target_meta.head(10)"
   ]
  },
  {
   "cell_type": "code",
   "execution_count": 140,
   "metadata": {},
   "outputs": [
    {
     "data": {
      "text/html": [
       "<div><style>\n",
       ".dataframe > thead > tr,\n",
       ".dataframe > tbody > tr {\n",
       "  text-align: right;\n",
       "  white-space: pre-wrap;\n",
       "}\n",
       "</style>\n",
       "<small>shape: (10, 12)</small><table border=\"1\" class=\"dataframe\"><thead><tr><th>age</th><th>is_male</th><th>race</th><th>ownes_house</th><th>employment_status</th><th>employment_income</th><th>non_employment_income</th><th>race_encoded</th><th>predicted_expenditure_treated</th><th>predicted_expenditure_control</th><th>difference</th><th>treatment</th></tr><tr><td>i64</td><td>i64</td><td>str</td><td>i64</td><td>i64</td><td>f64</td><td>f64</td><td>i32</td><td>f64</td><td>f64</td><td>f64</td><td>i64</td></tr></thead><tbody><tr><td>70</td><td>1</td><td>&quot;White&quot;</td><td>0</td><td>1</td><td>247699.0</td><td>9000.0</td><td>4</td><td>199678.648025</td><td>175761.214737</td><td>23917.433288</td><td>1</td></tr><tr><td>70</td><td>1</td><td>&quot;White&quot;</td><td>0</td><td>1</td><td>243603.4</td><td>9000.0</td><td>4</td><td>196454.589712</td><td>172906.612229</td><td>23547.977483</td><td>1</td></tr><tr><td>70</td><td>1</td><td>&quot;White&quot;</td><td>0</td><td>1</td><td>242525.2</td><td>9000.0</td><td>4</td><td>195605.830147</td><td>172155.114909</td><td>23450.715238</td><td>1</td></tr><tr><td>70</td><td>1</td><td>&quot;White&quot;</td><td>0</td><td>1</td><td>242624.6</td><td>12000.0</td><td>4</td><td>197018.946467</td><td>173570.575893</td><td>23448.370574</td><td>1</td></tr><tr><td>70</td><td>1</td><td>&quot;White&quot;</td><td>0</td><td>1</td><td>242269.9</td><td>12000.0</td><td>4</td><td>196739.726454</td><td>173323.352651</td><td>23416.373803</td><td>1</td></tr><tr><td>70</td><td>0</td><td>&quot;White&quot;</td><td>1</td><td>1</td><td>247751.8</td><td>9000.0</td><td>4</td><td>199485.238704</td><td>176098.076489</td><td>23387.162215</td><td>1</td></tr><tr><td>70</td><td>1</td><td>&quot;White&quot;</td><td>0</td><td>1</td><td>241563.9</td><td>5000.0</td><td>4</td><td>193069.269531</td><td>169690.189441</td><td>23379.08009</td><td>1</td></tr><tr><td>70</td><td>0</td><td>&quot;White&quot;</td><td>1</td><td>1</td><td>247148.6</td><td>9000.0</td><td>4</td><td>199010.39937</td><td>175677.650609</td><td>23332.748761</td><td>1</td></tr><tr><td>70</td><td>1</td><td>&quot;Hispanic&quot;</td><td>1</td><td>1</td><td>247949.2</td><td>9000.0</td><td>2</td><td>199385.295253</td><td>176137.856298</td><td>23247.438956</td><td>1</td></tr><tr><td>70</td><td>1</td><td>&quot;White&quot;</td><td>1</td><td>1</td><td>243877.4</td><td>9000.0</td><td>4</td><td>196444.809352</td><td>173205.814351</td><td>23238.995001</td><td>1</td></tr></tbody></table></div>"
      ],
      "text/plain": [
       "shape: (10, 12)\n",
       "┌─────┬─────────┬──────────┬─────────────┬───┬─────────────┬─────────────┬─────────────┬───────────┐\n",
       "│ age ┆ is_male ┆ race     ┆ ownes_house ┆ … ┆ predicted_e ┆ predicted_e ┆ difference  ┆ treatment │\n",
       "│ --- ┆ ---     ┆ ---      ┆ ---         ┆   ┆ xpenditure_ ┆ xpenditure_ ┆ ---         ┆ ---       │\n",
       "│ i64 ┆ i64     ┆ str      ┆ i64         ┆   ┆ treated     ┆ control     ┆ f64         ┆ i64       │\n",
       "│     ┆         ┆          ┆             ┆   ┆ ---         ┆ ---         ┆             ┆           │\n",
       "│     ┆         ┆          ┆             ┆   ┆ f64         ┆ f64         ┆             ┆           │\n",
       "╞═════╪═════════╪══════════╪═════════════╪═══╪═════════════╪═════════════╪═════════════╪═══════════╡\n",
       "│ 70  ┆ 1       ┆ White    ┆ 0           ┆ … ┆ 199678.6480 ┆ 175761.2147 ┆ 23917.43328 ┆ 1         │\n",
       "│     ┆         ┆          ┆             ┆   ┆ 25          ┆ 37          ┆ 8           ┆           │\n",
       "│ 70  ┆ 1       ┆ White    ┆ 0           ┆ … ┆ 196454.5897 ┆ 172906.6122 ┆ 23547.97748 ┆ 1         │\n",
       "│     ┆         ┆          ┆             ┆   ┆ 12          ┆ 29          ┆ 3           ┆           │\n",
       "│ 70  ┆ 1       ┆ White    ┆ 0           ┆ … ┆ 195605.8301 ┆ 172155.1149 ┆ 23450.71523 ┆ 1         │\n",
       "│     ┆         ┆          ┆             ┆   ┆ 47          ┆ 09          ┆ 8           ┆           │\n",
       "│ 70  ┆ 1       ┆ White    ┆ 0           ┆ … ┆ 197018.9464 ┆ 173570.5758 ┆ 23448.37057 ┆ 1         │\n",
       "│     ┆         ┆          ┆             ┆   ┆ 67          ┆ 93          ┆ 4           ┆           │\n",
       "│ 70  ┆ 1       ┆ White    ┆ 0           ┆ … ┆ 196739.7264 ┆ 173323.3526 ┆ 23416.37380 ┆ 1         │\n",
       "│     ┆         ┆          ┆             ┆   ┆ 54          ┆ 51          ┆ 3           ┆           │\n",
       "│ 70  ┆ 0       ┆ White    ┆ 1           ┆ … ┆ 199485.2387 ┆ 176098.0764 ┆ 23387.16221 ┆ 1         │\n",
       "│     ┆         ┆          ┆             ┆   ┆ 04          ┆ 89          ┆ 5           ┆           │\n",
       "│ 70  ┆ 1       ┆ White    ┆ 0           ┆ … ┆ 193069.2695 ┆ 169690.1894 ┆ 23379.08009 ┆ 1         │\n",
       "│     ┆         ┆          ┆             ┆   ┆ 31          ┆ 41          ┆             ┆           │\n",
       "│ 70  ┆ 0       ┆ White    ┆ 1           ┆ … ┆ 199010.3993 ┆ 175677.6506 ┆ 23332.74876 ┆ 1         │\n",
       "│     ┆         ┆          ┆             ┆   ┆ 7           ┆ 09          ┆ 1           ┆           │\n",
       "│ 70  ┆ 1       ┆ Hispanic ┆ 1           ┆ … ┆ 199385.2952 ┆ 176137.8562 ┆ 23247.43895 ┆ 1         │\n",
       "│     ┆         ┆          ┆             ┆   ┆ 53          ┆ 98          ┆ 6           ┆           │\n",
       "│ 70  ┆ 1       ┆ White    ┆ 1           ┆ … ┆ 196444.8093 ┆ 173205.8143 ┆ 23238.99500 ┆ 1         │\n",
       "│     ┆         ┆          ┆             ┆   ┆ 52          ┆ 51          ┆ 1           ┆           │\n",
       "└─────┴─────────┴──────────┴─────────────┴───┴─────────────┴─────────────┴─────────────┴───────────┘"
      ]
     },
     "execution_count": 140,
     "metadata": {},
     "output_type": "execute_result"
    }
   ],
   "source": [
    "treatment_flags = [1]*2500 + [0]*7500\n",
    "\n",
    "target_meta = target_meta.with_columns(\n",
    "    pl.Series(\"treatment\", treatment_flags)\n",
    ")\n",
    "target_meta.head(10)"
   ]
  },
  {
   "cell_type": "markdown",
   "metadata": {},
   "source": [
    "Now process the data"
   ]
  },
  {
   "cell_type": "code",
   "execution_count": 141,
   "metadata": {},
   "outputs": [
    {
     "data": {
      "text/html": [
       "<div><style>\n",
       ".dataframe > thead > tr,\n",
       ".dataframe > tbody > tr {\n",
       "  text-align: right;\n",
       "  white-space: pre-wrap;\n",
       "}\n",
       "</style>\n",
       "<small>shape: (10, 13)</small><table border=\"1\" class=\"dataframe\"><thead><tr><th>age</th><th>is_male</th><th>race</th><th>ownes_house</th><th>employment_status</th><th>employment_income</th><th>non_employment_income</th><th>race_encoded</th><th>predicted_expenditure_treated</th><th>predicted_expenditure_control</th><th>difference</th><th>treatment</th><th>expenditure</th></tr><tr><td>i64</td><td>i64</td><td>str</td><td>i64</td><td>i64</td><td>f64</td><td>f64</td><td>i32</td><td>f64</td><td>f64</td><td>f64</td><td>i64</td><td>f64</td></tr></thead><tbody><tr><td>70</td><td>1</td><td>&quot;White&quot;</td><td>0</td><td>1</td><td>247699.0</td><td>9000.0</td><td>4</td><td>199678.648025</td><td>175761.214737</td><td>23917.433288</td><td>1</td><td>221222.32</td></tr><tr><td>70</td><td>1</td><td>&quot;White&quot;</td><td>0</td><td>1</td><td>243603.4</td><td>9000.0</td><td>4</td><td>196454.589712</td><td>172906.612229</td><td>23547.977483</td><td>1</td><td>217606.7</td></tr><tr><td>70</td><td>1</td><td>&quot;White&quot;</td><td>0</td><td>1</td><td>242525.2</td><td>9000.0</td><td>4</td><td>195605.830147</td><td>172155.114909</td><td>23450.715238</td><td>1</td><td>216654.85</td></tr><tr><td>70</td><td>1</td><td>&quot;White&quot;</td><td>0</td><td>1</td><td>242624.6</td><td>12000.0</td><td>4</td><td>197018.946467</td><td>173570.575893</td><td>23448.370574</td><td>1</td><td>217506.55</td></tr><tr><td>70</td><td>1</td><td>&quot;White&quot;</td><td>0</td><td>1</td><td>242269.9</td><td>12000.0</td><td>4</td><td>196739.726454</td><td>173323.352651</td><td>23416.373803</td><td>1</td><td>217193.41</td></tr><tr><td>70</td><td>0</td><td>&quot;White&quot;</td><td>1</td><td>1</td><td>247751.8</td><td>9000.0</td><td>4</td><td>199485.238704</td><td>176098.076489</td><td>23387.162215</td><td>1</td><td>221868.93</td></tr><tr><td>70</td><td>1</td><td>&quot;White&quot;</td><td>0</td><td>1</td><td>241563.9</td><td>5000.0</td><td>4</td><td>193069.269531</td><td>169690.189441</td><td>23379.08009</td><td>1</td><td>214787.62</td></tr><tr><td>70</td><td>0</td><td>&quot;White&quot;</td><td>1</td><td>1</td><td>247148.6</td><td>9000.0</td><td>4</td><td>199010.39937</td><td>175677.650609</td><td>23332.748761</td><td>1</td><td>221336.43</td></tr><tr><td>70</td><td>1</td><td>&quot;Hispanic&quot;</td><td>1</td><td>1</td><td>247949.2</td><td>9000.0</td><td>2</td><td>199385.295253</td><td>176137.856298</td><td>23247.438956</td><td>1</td><td>221663.2</td></tr><tr><td>70</td><td>1</td><td>&quot;White&quot;</td><td>1</td><td>1</td><td>243877.4</td><td>9000.0</td><td>4</td><td>196444.809352</td><td>173205.814351</td><td>23238.995001</td><td>1</td><td>217848.59</td></tr></tbody></table></div>"
      ],
      "text/plain": [
       "shape: (10, 13)\n",
       "┌─────┬─────────┬──────────┬─────────────┬───┬─────────────┬─────────────┬───────────┬─────────────┐\n",
       "│ age ┆ is_male ┆ race     ┆ ownes_house ┆ … ┆ predicted_e ┆ difference  ┆ treatment ┆ expenditure │\n",
       "│ --- ┆ ---     ┆ ---      ┆ ---         ┆   ┆ xpenditure_ ┆ ---         ┆ ---       ┆ ---         │\n",
       "│ i64 ┆ i64     ┆ str      ┆ i64         ┆   ┆ control     ┆ f64         ┆ i64       ┆ f64         │\n",
       "│     ┆         ┆          ┆             ┆   ┆ ---         ┆             ┆           ┆             │\n",
       "│     ┆         ┆          ┆             ┆   ┆ f64         ┆             ┆           ┆             │\n",
       "╞═════╪═════════╪══════════╪═════════════╪═══╪═════════════╪═════════════╪═══════════╪═════════════╡\n",
       "│ 70  ┆ 1       ┆ White    ┆ 0           ┆ … ┆ 175761.2147 ┆ 23917.43328 ┆ 1         ┆ 221222.32   │\n",
       "│     ┆         ┆          ┆             ┆   ┆ 37          ┆ 8           ┆           ┆             │\n",
       "│ 70  ┆ 1       ┆ White    ┆ 0           ┆ … ┆ 172906.6122 ┆ 23547.97748 ┆ 1         ┆ 217606.7    │\n",
       "│     ┆         ┆          ┆             ┆   ┆ 29          ┆ 3           ┆           ┆             │\n",
       "│ 70  ┆ 1       ┆ White    ┆ 0           ┆ … ┆ 172155.1149 ┆ 23450.71523 ┆ 1         ┆ 216654.85   │\n",
       "│     ┆         ┆          ┆             ┆   ┆ 09          ┆ 8           ┆           ┆             │\n",
       "│ 70  ┆ 1       ┆ White    ┆ 0           ┆ … ┆ 173570.5758 ┆ 23448.37057 ┆ 1         ┆ 217506.55   │\n",
       "│     ┆         ┆          ┆             ┆   ┆ 93          ┆ 4           ┆           ┆             │\n",
       "│ 70  ┆ 1       ┆ White    ┆ 0           ┆ … ┆ 173323.3526 ┆ 23416.37380 ┆ 1         ┆ 217193.41   │\n",
       "│     ┆         ┆          ┆             ┆   ┆ 51          ┆ 3           ┆           ┆             │\n",
       "│ 70  ┆ 0       ┆ White    ┆ 1           ┆ … ┆ 176098.0764 ┆ 23387.16221 ┆ 1         ┆ 221868.93   │\n",
       "│     ┆         ┆          ┆             ┆   ┆ 89          ┆ 5           ┆           ┆             │\n",
       "│ 70  ┆ 1       ┆ White    ┆ 0           ┆ … ┆ 169690.1894 ┆ 23379.08009 ┆ 1         ┆ 214787.62   │\n",
       "│     ┆         ┆          ┆             ┆   ┆ 41          ┆             ┆           ┆             │\n",
       "│ 70  ┆ 0       ┆ White    ┆ 1           ┆ … ┆ 175677.6506 ┆ 23332.74876 ┆ 1         ┆ 221336.43   │\n",
       "│     ┆         ┆          ┆             ┆   ┆ 09          ┆ 1           ┆           ┆             │\n",
       "│ 70  ┆ 1       ┆ Hispanic ┆ 1           ┆ … ┆ 176137.8562 ┆ 23247.43895 ┆ 1         ┆ 221663.2    │\n",
       "│     ┆         ┆          ┆             ┆   ┆ 98          ┆ 6           ┆           ┆             │\n",
       "│ 70  ┆ 1       ┆ White    ┆ 1           ┆ … ┆ 173205.8143 ┆ 23238.99500 ┆ 1         ┆ 217848.59   │\n",
       "│     ┆         ┆          ┆             ┆   ┆ 51          ┆ 1           ┆           ┆             │\n",
       "└─────┴─────────┴──────────┴─────────────┴───┴─────────────┴─────────────┴───────────┴─────────────┘"
      ]
     },
     "execution_count": 141,
     "metadata": {},
     "output_type": "execute_result"
    }
   ],
   "source": [
    "target_meta = process_dataframe(target_meta)\n",
    "target_meta.head(10)"
   ]
  },
  {
   "cell_type": "markdown",
   "metadata": {},
   "source": [
    "Now we have actual expenditure\n",
    "lets see how it fares to last model"
   ]
  },
  {
   "cell_type": "code",
   "execution_count": 144,
   "metadata": {},
   "outputs": [
    {
     "data": {
      "text/html": [
       "<div><style>\n",
       ".dataframe > thead > tr,\n",
       ".dataframe > tbody > tr {\n",
       "  text-align: right;\n",
       "  white-space: pre-wrap;\n",
       "}\n",
       "</style>\n",
       "<small>shape: (2, 3)</small><table border=\"1\" class=\"dataframe\"><thead><tr><th>treatment</th><th>total_expenditure</th><th>mean_expenditure</th></tr><tr><td>i32</td><td>f64</td><td>f64</td></tr></thead><tbody><tr><td>0</td><td>3.6616e8</td><td>45855.658013</td></tr><tr><td>1</td><td>8.7570e7</td><td>43459.003811</td></tr></tbody></table></div>"
      ],
      "text/plain": [
       "shape: (2, 3)\n",
       "┌───────────┬───────────────────┬──────────────────┐\n",
       "│ treatment ┆ total_expenditure ┆ mean_expenditure │\n",
       "│ ---       ┆ ---               ┆ ---              │\n",
       "│ i32       ┆ f64               ┆ f64              │\n",
       "╞═══════════╪═══════════════════╪══════════════════╡\n",
       "│ 0         ┆ 3.6616e8          ┆ 45855.658013     │\n",
       "│ 1         ┆ 8.7570e7          ┆ 43459.003811     │\n",
       "└───────────┴───────────────────┴──────────────────┘"
      ]
     },
     "execution_count": 144,
     "metadata": {},
     "output_type": "execute_result"
    }
   ],
   "source": [
    "target_rct.group_by('treatment').agg([\n",
    "    pl.col(\"expenditure\").sum().alias(\"total_expenditure\"),\n",
    "    pl.col(\"expenditure\").mean().alias(\"mean_expenditure\"),\n",
    "])"
   ]
  },
  {
   "cell_type": "code",
   "execution_count": 143,
   "metadata": {},
   "outputs": [
    {
     "data": {
      "text/html": [
       "<div><style>\n",
       ".dataframe > thead > tr,\n",
       ".dataframe > tbody > tr {\n",
       "  text-align: right;\n",
       "  white-space: pre-wrap;\n",
       "}\n",
       "</style>\n",
       "<small>shape: (2, 3)</small><table border=\"1\" class=\"dataframe\"><thead><tr><th>treatment</th><th>total_expenditure</th><th>mean_expenditure</th></tr><tr><td>i64</td><td>f64</td><td>f64</td></tr></thead><tbody><tr><td>1</td><td>3.1810e8</td><td>127240.831216</td></tr><tr><td>0</td><td>1.9165e8</td><td>25553.519669</td></tr></tbody></table></div>"
      ],
      "text/plain": [
       "shape: (2, 3)\n",
       "┌───────────┬───────────────────┬──────────────────┐\n",
       "│ treatment ┆ total_expenditure ┆ mean_expenditure │\n",
       "│ ---       ┆ ---               ┆ ---              │\n",
       "│ i64       ┆ f64               ┆ f64              │\n",
       "╞═══════════╪═══════════════════╪══════════════════╡\n",
       "│ 1         ┆ 3.1810e8          ┆ 127240.831216    │\n",
       "│ 0         ┆ 1.9165e8          ┆ 25553.519669     │\n",
       "└───────────┴───────────────────┴──────────────────┘"
      ]
     },
     "execution_count": 143,
     "metadata": {},
     "output_type": "execute_result"
    }
   ],
   "source": [
    "target_meta.group_by('treatment').agg([\n",
    "    pl.col(\"expenditure\").sum().alias(\"total_expenditure\"),\n",
    "    pl.col(\"expenditure\").mean().alias(\"mean_expenditure\"),\n",
    "])"
   ]
  }
 ],
 "metadata": {
  "kernelspec": {
   "display_name": "base",
   "language": "python",
   "name": "python3"
  },
  "language_info": {
   "codemirror_mode": {
    "name": "ipython",
    "version": 3
   },
   "file_extension": ".py",
   "mimetype": "text/x-python",
   "name": "python",
   "nbconvert_exporter": "python",
   "pygments_lexer": "ipython3",
   "version": "3.11.7"
  }
 },
 "nbformat": 4,
 "nbformat_minor": 2
}
